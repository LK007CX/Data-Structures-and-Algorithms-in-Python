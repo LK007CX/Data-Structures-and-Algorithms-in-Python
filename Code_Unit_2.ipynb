{
 "cells": [
  {
   "cell_type": "markdown",
   "metadata": {},
   "source": [
    "# 第2章 面向对象编程"
   ]
  },
  {
   "cell_type": "markdown",
   "metadata": {},
   "source": [
    "代码段2-1 CreditCard类定义的开始部分（下接代码段2-2）"
   ]
  },
  {
   "cell_type": "code",
   "execution_count": null,
   "metadata": {},
   "outputs": [],
   "source": [
    "class CreditCard:\n",
    "    \"\"\"A consumer credit card.\"\"\"\n",
    "    \n",
    "    def __init__(self, customer, bank, acnt, limit):\n",
    "        \"\"\"Create a new credit card instance.\n",
    "        \n",
    "        The initial balance is zero.\n",
    "        \n",
    "        customer the name of the customer\n",
    "        bank     the name of the bank\n",
    "        acnt     the acount identifier\n",
    "        limit    credit limit\n",
    "        \"\"\"\n",
    "        self._customer = customer\n",
    "        self._bank = bank\n",
    "        self._account = acnt\n",
    "        self._limit = limit\n",
    "        self._balance = 0\n",
    "    \n",
    "    def get_customer(self):\n",
    "        \"\"\"Return name of the customer.\"\"\"\n",
    "        return self._customer\n",
    "    \n",
    "    def get_bank(self):\n",
    "        \"\"\"Return the bank's name.\"\"\"\n",
    "        return self._bank\n",
    "    \n",
    "    def get_account(self):\n",
    "        \"\"\"Return the card identifying number (typically stored as a string.)\"\"\"\n",
    "        return self._account\n",
    "    \n",
    "    def get_limit(self):\n",
    "        \"\"\"Return current credit limit.\"\"\"\n",
    "        \"\"\"额度\"\"\"\n",
    "        return self._limit\n",
    "    \n",
    "    def get_balance(self):\n",
    "        \"\"\"Return current balance.\"\"\"\n",
    "        \"\"\"理解为已消费的额度\"\"\"\n",
    "        return self._balance\n",
    "    "
   ]
  },
  {
   "cell_type": "markdown",
   "metadata": {},
   "source": [
    "代码段2-1 CreditCard类定义的结尾（上接代码段2-1）"
   ]
  },
  {
   "cell_type": "code",
   "execution_count": 9,
   "metadata": {},
   "outputs": [],
   "source": [
    "    def charge(self, price):\n",
    "        \"\"\"Charge given price to the card, assuming sufficient credit limit.\n",
    "        \n",
    "        Return True if charge was processed;False if charge was denied.\n",
    "        \"\"\"\n",
    "        \"\"\"消费\"\"\"\n",
    "        if price + self._balance > self._limit:    # if charge would exceed limit\n",
    "            return False                           # cannot accept charge\n",
    "        else:\n",
    "            self._balance += price\n",
    "            return True\n",
    "    \n",
    "    def make_payment(self, amount):\n",
    "        \"\"\"Process customer payment that reduces balance.\"\"\"\n",
    "        \"\"\"还款\"\"\"\n",
    "        self._balance -= amount"
   ]
  },
  {
   "cell_type": "markdown",
   "metadata": {},
   "source": [
    "代码段2-3 测试CreditCard类"
   ]
  },
  {
   "cell_type": "code",
   "execution_count": 10,
   "metadata": {},
   "outputs": [
    {
     "name": "stdout",
     "output_type": "stream",
     "text": [
      "Customer =  John Bowman\n",
      "Bank =  California Savings\n",
      "Account =  5391 0375 9387 5309\n",
      "Limit =  2500\n",
      "Balance =  136\n",
      "New balance = 36\n",
      "\n",
      "Customer =  John Bowman\n",
      "Bank =  California Federal\n",
      "Account =  3485 0399 3395 1954\n",
      "Limit =  3000\n",
      "Balance =  272\n",
      "New balance = 172\n",
      "New balance = 72\n",
      "\n",
      "Customer =  John Bowman\n",
      "Bank =  California Finance\n",
      "Account =  5391 0375 9387 5309\n",
      "Limit =  5000\n",
      "Balance =  408\n",
      "New balance = 308\n",
      "New balance = 208\n",
      "New balance = 108\n",
      "New balance = 8\n",
      "\n"
     ]
    }
   ],
   "source": [
    "if __name__ == \"__main__\":\n",
    "    wallet = []\n",
    "    wallet.append(CreditCard('John Bowman', 'California Savings',\n",
    "                            '5391 0375 9387 5309', 2500))\n",
    "    wallet.append(CreditCard('John Bowman', 'California Federal',\n",
    "                            '3485 0399 3395 1954', 3000))\n",
    "    wallet.append(CreditCard('John Bowman', 'California Finance',\n",
    "                            '5391 0375 9387 5309', 5000))\n",
    "    \n",
    "    for val in range(1, 17):\n",
    "        wallet[0].charge(val)\n",
    "        wallet[1].charge(2*val)\n",
    "        wallet[2].charge(3*val)\n",
    "    \n",
    "    for c in range(3):\n",
    "        print('Customer = ', wallet[c].get_customer())\n",
    "        print('Bank = ', wallet[c].get_bank())\n",
    "        print('Account = ', wallet[c].get_account())\n",
    "        print('Limit = ', wallet[c].get_limit())\n",
    "        print('Balance = ', wallet[c].get_balance())\n",
    "        while wallet[c].get_balance() > 100:\n",
    "            wallet[c].make_payment(100)\n",
    "            print('New balance =', wallet[c].get_balance())\n",
    "        print()"
   ]
  },
  {
   "cell_type": "markdown",
   "metadata": {},
   "source": [
    "代码段2-4 一个简单Vector类的定义"
   ]
  },
  {
   "cell_type": "code",
   "execution_count": 11,
   "metadata": {},
   "outputs": [],
   "source": [
    "class Vector:\n",
    "    \"\"\"Represent a vector in a multidimensional space.\"\"\"\n",
    "    \n",
    "    def __init__(self, d):\n",
    "        \"\"\"Create d-dimensional vector of zeros.\"\"\"\n",
    "        self._coords = [0]*d\n",
    "    \n",
    "    def __len__(self):\n",
    "        \"\"\"Return the dimension of the vector.\"\"\"\n",
    "        return len(self._coords)\n",
    "    \n",
    "    def __getitem__(self, j):\n",
    "        \"\"\"Return jth coordinate of vector.\"\"\"\n",
    "        return self._coords[j]\n",
    "    \n",
    "    def __setitem__(self, j, val):\n",
    "        \"\"\"Set jth coordinate of vector to given value.\"\"\"\n",
    "        self._coords[j] = val\n",
    "    \n",
    "    def __add__(self, other):\n",
    "        \"\"\"Return sum of two vectors.\"\"\"\n",
    "        if len(self) != len(other):    # relies on __len__method\n",
    "            raise ValueError('dimension mst agree')\n",
    "        result = Vector(len(self))     # start with vector zeros\n",
    "        for j in range(len(self)):\n",
    "            result[j] = self[j] + other[j]\n",
    "        return result\n",
    "    \n",
    "    def __eq__(self, other):\n",
    "        \"\"\"Return True if vector has same coordinates as other.\"\"\"\n",
    "        return self._coords == other._coords\n",
    "    \n",
    "    def __ne__(self, other):\n",
    "        \"\"\"Return True if vector differs from other.\"\"\"\n",
    "        return not self == other    # rely on existing __eq__ definition\n",
    "    \n",
    "    def __str__(self):\n",
    "        \"\"\"Produce string represention of vector.\"\"\"\n",
    "        return '<' + str(self._coords)[1:-1] + '>'     # adapt list representation"
   ]
  },
  {
   "cell_type": "markdown",
   "metadata": {},
   "source": [
    "代码段2-5 一个支持任何序列类型的迭代器类"
   ]
  },
  {
   "cell_type": "code",
   "execution_count": 12,
   "metadata": {},
   "outputs": [],
   "source": [
    "class SequenceIterator:\n",
    "    \"\"\"An iterator for any of Python's sequence types.\"\"\"\n",
    "    \n",
    "    def __init__(self, sequence):\n",
    "        \"\"\"Create an iterator for the given sequence.\"\"\"\n",
    "        self._seq = sequence    # keep a refer to the underlying data\n",
    "        self._k = -1            # will increment to 0 on first call to next\n",
    "    \n",
    "    def __next__(self):\n",
    "        \"\"\"Return the next element, or else raise StopIteration error.\"\"\"\n",
    "        self._k += 1            # advance to next index\n",
    "        if self._k < len(self._seq):\n",
    "            return(self._seq[self._k])    # return the data element\n",
    "        else:\n",
    "            raise StopIteration()         # there are no more elements\n",
    "    \n",
    "    def __iter__(self):\n",
    "        \"\"\"By convention, an iterator must return itself as an iterator.\"\"\"\n",
    "        return self"
   ]
  },
  {
   "cell_type": "markdown",
   "metadata": {},
   "source": [
    "代码段2-6 自定义的Range类的实现"
   ]
  },
  {
   "cell_type": "code",
   "execution_count": 13,
   "metadata": {},
   "outputs": [],
   "source": [
    "class Range:\n",
    "    \"\"\"A class that mimic's the build-in range class.\"\"\"\n",
    "    \n",
    "    def __init__(self, start, stop=None, step=1):\n",
    "        \"\"\"Initialize a Range instance.\n",
    "        \n",
    "        Semantics is similar to build-in range class.\n",
    "        \"\"\"\n",
    "        if step == 0:\n",
    "            raise ValueError('step cannot be 0')\n",
    "        \n",
    "        if stop is None:    # special case of range(n)\n",
    "            start, stop = 0, start     # start be treated as if range(0, n)\n",
    "            \n",
    "        # calculate the effective length once\n",
    "        self._length = max(0, (stop - start + step -1) // step)\n",
    "        \n",
    "        # need knowledge of start and step (but not stop) to support __getitem__\n",
    "        self.start = start\n",
    "        self.stop = stop\n",
    "    \n",
    "    def __len__(self):\n",
    "        \"\"\"Return number of entries in the range.\"\"\"\n",
    "        return self._length\n",
    "\n",
    "    def __getitem__(self, k):\n",
    "        \"\"\"Return entry as index  k (using standard interpretation if negative).\"\"\"\n",
    "        if k < 0:\n",
    "            k += len(self)    # attempt to convert negative index\n",
    "            \n",
    "        if not 0 <= k < self._length:\n",
    "            raise IndexError('index out of range')\n",
    "        \n",
    "        return self._start + k * self._step"
   ]
  },
  {
   "cell_type": "markdown",
   "metadata": {},
   "source": [
    "代码段2-7 评估利息和费用的CreditCard子类"
   ]
  },
  {
   "cell_type": "code",
   "execution_count": 14,
   "metadata": {},
   "outputs": [],
   "source": [
    "class PredatoryCredictCard(CreditCard):\n",
    "    \"\"\"An extension to CredictCard that compounds interest and fees.\"\"\"\n",
    "    \n",
    "    def __init__(self, customer, bank, acnt, limit, apr):\n",
    "        \"\"\"Create a new predatory credit card instance.\n",
    "        \n",
    "        The initial balance is zero.\n",
    "        \n",
    "        customer the name of the customer\n",
    "        bank     the name of the bank\n",
    "        acnt     the acount identifier\n",
    "        limit    credit limit\n",
    "        apr      annual percentage rate\n",
    "        \"\"\"\n",
    "        super().__init__(customer, bank, acnt, limit)     # call super constructor\n",
    "        self._apr = apr\n",
    "    \n",
    "    def charge(self, price):\n",
    "        \"\"\"Charge given price to the card, assuming sufficient credit limit.\n",
    "        \n",
    "        Return True if charge was processed.\n",
    "        Return False and assess $5 fee if charge is denied.\n",
    "        \"\"\"\n",
    "        success = super().charge(price)    # call inherited method\n",
    "        if not success:\n",
    "            self._balance += 5             # assess penalty\n",
    "        return success                     # caller experts return value\n",
    "    \n",
    "    def process_month(self):\n",
    "        \"\"\"Assess monthly interest on outstanding balance.\"\"\"\n",
    "        if self._balance > 0:\n",
    "            # if positive balance, convert APR to monthly multiplicative factor\n",
    "            monthly_factor = pow(1+self._apr, 1/12)\n",
    "            self._balance *= monthly_factor"
   ]
  },
  {
   "cell_type": "markdown",
   "metadata": {},
   "source": [
    "代码段2-8 一个通用数字序列类"
   ]
  },
  {
   "cell_type": "code",
   "execution_count": 15,
   "metadata": {},
   "outputs": [],
   "source": [
    "class Progression:\n",
    "    \"\"\"Iterator producing a generic progression.\n",
    "    \n",
    "    Default iterator produces the whole numbers 0, 1, 2, ...\n",
    "    \"\"\"\n",
    "    \n",
    "    def __init__(self, start=0):\n",
    "        \"\"\"Initialize current to the first value of the progression.\"\"\"\n",
    "        self._current = start\n",
    "    \n",
    "    def _advance(self):\n",
    "        \"\"\"Update self._current to a new value.\n",
    "        \n",
    "        This should be overridden by a subclass to customize progression.\n",
    "        By convention, if current is set to None, this designates the\n",
    "        end of a finite progression.\n",
    "        \"\"\"\n",
    "        self._current += 1\n",
    "    \n",
    "    def next(self):\n",
    "        \"\"\"Return the next element, or else raise StopIteration error.\"\"\"\n",
    "        if self._current is None:    # our convention to end a progression\n",
    "            raise StopIteration()\n",
    "        else:\n",
    "            answer = self._current   # record current value to return\n",
    "            self._advance()          # advance to prepare for next time\n",
    "            return answer            # return the answer\n",
    "    \n",
    "    def __iter__(self):\n",
    "        \"\"\"By convention, an iterator must return itself as an iterator.\"\"\"\n",
    "        return self\n",
    "    \n",
    "    def print_progression(self, n):\n",
    "        \"\"\"Print next n values of the progression.\"\"\"\n",
    "        print(' '.join(str(next(self)) for j in range(n)))"
   ]
  },
  {
   "cell_type": "markdown",
   "metadata": {},
   "source": [
    "代码段2-9 一个产生等差数列的类"
   ]
  },
  {
   "cell_type": "code",
   "execution_count": 16,
   "metadata": {},
   "outputs": [],
   "source": [
    "class ArithmeticProgression(Progression):    #inher from Progression\n",
    "    \"\"\"Iterator productor an arithmetic progression.\"\"\"\n",
    "    \n",
    "    def __init__(self, increment=1, start=1):\n",
    "        \"\"\"Create a new arithmetic progression.\n",
    "        \n",
    "        increment the fixed constant to add each term (default 1)\n",
    "        start     the first term of the progression (default 0)\n",
    "        \"\"\"\n",
    "        super().__init__(start)     # initialize base class\n",
    "        self._increment = increment\n",
    "    \n",
    "    def _advance(self):             # override inherited vesion\n",
    "        \"\"\"Update current value by adding the fixed increment.\"\"\"\n",
    "        self._current += self._advance"
   ]
  },
  {
   "cell_type": "markdown",
   "metadata": {},
   "source": [
    "代码段2-10 一个产生等比数列的类"
   ]
  },
  {
   "cell_type": "code",
   "execution_count": 17,
   "metadata": {},
   "outputs": [],
   "source": [
    "class GeometricProgression(Progression):\n",
    "    \"\"\"Iterator producing a geo metric progression.\"\"\"\n",
    "    \n",
    "    def __init__(self, base=2, start=1):\n",
    "        \"\"\"Create a new geometric progression.\n",
    "        base the fixed constant multiplied to each other\n",
    "        start the first term of the progression\n",
    "        \"\"\"\n",
    "        super().__init__(start)\n",
    "        self._base = base\n",
    "    \n",
    "    def _advance(self):     # override inherited version\n",
    "        \"\"\"Update current value by multiplying it by the base value.\"\"\"\n",
    "        self._current *= self._base"
   ]
  },
  {
   "cell_type": "markdown",
   "metadata": {},
   "source": [
    "代码段2-11 一个产生斐波那契数列的类"
   ]
  },
  {
   "cell_type": "code",
   "execution_count": 18,
   "metadata": {},
   "outputs": [],
   "source": [
    "class FibonacciProgression(Progression):\n",
    "    \"\"\"Iterator producting a generalized Fibonacci progression.\"\"\"\n",
    "    \n",
    "    def __init__(self, first=0, second=1):\n",
    "        \"\"\"Create a new fibonacci progression.\n",
    "        \n",
    "        first  the first term of the progression\n",
    "        second the second term of the progression\n",
    "        \"\"\"\n",
    "        super().__init__(first)     # start progression at first\n",
    "        self._prev = second - first    # fictitous value preceding the first\n",
    "        \n",
    "    def _advance(self):\n",
    "        \"\"\"Update current value by taking sum of previous two.\"\"\"\n",
    "        self._prev, self._current = self._current, self._prev + self._current"
   ]
  },
  {
   "cell_type": "markdown",
   "metadata": {},
   "source": [
    "代码段2-12 我们数列类的单元测试"
   ]
  },
  {
   "cell_type": "code",
   "execution_count": null,
   "metadata": {},
   "outputs": [],
   "source": []
  },
  {
   "cell_type": "markdown",
   "metadata": {},
   "source": [
    "代码段2-14 一个类似于Collections.Sequence的抽象基类"
   ]
  },
  {
   "cell_type": "code",
   "execution_count": 19,
   "metadata": {},
   "outputs": [],
   "source": [
    "from abc import ABCMeta, abstractmethod     # need these definitions\n",
    "\n",
    "class Sequence(metaclass=ABCMeta):\n",
    "    \"\"\"Our own version of collections.Sequence abstract base class.\"\"\"\n",
    "    \n",
    "    @abstractmethod\n",
    "    def __len__(self):\n",
    "        \"\"\"Return the length of the sequence.\"\"\"\n",
    "    \n",
    "    @abstractmethod\n",
    "    def __getitem__(self, j):\n",
    "        \"\"\"Return the element at index j of the sequence.\"\"\"\n",
    "    \n",
    "    def __contains__(self, val):\n",
    "        \"\"\"Return True if val found in the sequence;False otherwise.\"\"\"\n",
    "        for j in range(len(self)):\n",
    "            if self[j] == val:    # found match\n",
    "                return True\n",
    "        return False\n",
    "    \n",
    "    def index(self, val):\n",
    "        \"\"\"Return leftmost index at which val is found (or raise ValueError)\"\"\"\n",
    "        for j in range(len(self)):\n",
    "            if self[j] == val:   # leftmost match\n",
    "                return j\n",
    "        raise ValueError('value not in sequence')    # never found a match\n",
    "    \n",
    "    def count(self, val):\n",
    "        \"\"\"Return the number of elements equal to given value.\"\"\"\n",
    "        k = 0\n",
    "        for j in range(len(self)):\n",
    "            if self[j] == val:    # found a match\n",
    "                k += 1\n",
    "        return k"
   ]
  },
  {
   "cell_type": "code",
   "execution_count": null,
   "metadata": {},
   "outputs": [],
   "source": []
  }
 ],
 "metadata": {
  "kernelspec": {
   "display_name": "Python 3",
   "language": "python",
   "name": "python3"
  },
  "language_info": {
   "codemirror_mode": {
    "name": "ipython",
    "version": 3
   },
   "file_extension": ".py",
   "mimetype": "text/x-python",
   "name": "python",
   "nbconvert_exporter": "python",
   "pygments_lexer": "ipython3",
   "version": "3.8.3"
  },
  "toc": {
   "base_numbering": 1,
   "nav_menu": {},
   "number_sections": true,
   "sideBar": true,
   "skip_h1_title": false,
   "title_cell": "Table of Contents",
   "title_sidebar": "Contents",
   "toc_cell": false,
   "toc_position": {
    "height": "calc(100% - 180px)",
    "left": "10px",
    "top": "150px",
    "width": "384px"
   },
   "toc_section_display": true,
   "toc_window_display": true
  }
 },
 "nbformat": 4,
 "nbformat_minor": 4
}
