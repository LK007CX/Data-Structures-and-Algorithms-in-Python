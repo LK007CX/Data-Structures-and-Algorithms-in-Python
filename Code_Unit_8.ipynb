{
 "cells": [
  {
   "cell_type": "markdown",
   "metadata": {},
   "source": [
    "代码段8-1 树的抽象基类的一部分（后接代码段8-2）"
   ]
  },
  {
   "cell_type": "code",
   "execution_count": 3,
   "metadata": {},
   "outputs": [],
   "source": [
    "class Tree:\n",
    "    \"\"\"Abstract base class representing a tree structure.\"\"\"\n",
    "    \n",
    "    # ---------- nested Position class ----------\n",
    "    class Position:\n",
    "        \"\"\"An abstraction representing the location of a single element.\"\"\"\n",
    "        def element(self):\n",
    "            raise NotImplementedError('must be implemented by subclass')\n",
    "        \n",
    "        def __eq__(self, other):\n",
    "            \"\"\"Return True if other Position represents the same location.\"\"\"\n",
    "            raise NotImplementedError('must be implemented by subclass')\n",
    "        \n",
    "        def __ne__(self, other):\n",
    "            \"\"\"Return True if other does not represent the same location.\"\"\"\n",
    "            return not (self == other)    # opposite of __eq__\n",
    "        \n",
    "    # ---------- abstract methods that concrete subclass must support ----------\n",
    "    def root(self):\n",
    "        \"\"\"Return Position representing the tree's root (or None if empty).\"\"\"\n",
    "        raise NotImplementedError('must be implemented by subclass')\n",
    "    \n",
    "    def parent(self, p):\n",
    "        \"\"\"Return Position representing the tree's parent (or None if p is root).\"\"\"\n",
    "        raise NotImplementedError('must be implemented by subclass')\n",
    "    \n",
    "    def num_children(self, p):\n",
    "        \"\"\"Return the number of children that Position p has.\"\"\"\n",
    "        raise NotImplementedError('must be implemented by subclass')\n",
    "    \n",
    "    def children(self, p):\n",
    "        \"\"\"Generate an iteration of Positions representing p's children.\"\"\"\n",
    "        raise NotImplementedError('must be implemented by subclass')\n",
    "    \n",
    "    def __len__(self):\n",
    "        \"\"\"Return the total number of elements in the tree.\"\"\"\n",
    "        raise NotImplementedError('must be implemented by subclass')\n",
    "    \n",
    "    # ---------- concrete methods implemented in this class ----------\n",
    "    def is_root(self, p):\n",
    "        \"\"\"Return True if Position p represents the root of the tree.\"\"\"\n",
    "        return self.root() == p\n",
    "    \n",
    "    def is_leaf(self, p):\n",
    "        \"\"\"Return True if Position p does not have any children.\"\"\"\n",
    "        return self.num_children(p) == 0\n",
    "    \n",
    "    def is_empty(self):\n",
    "        \"\"\"Return True if the tree is empty.\"\"\"\n",
    "        return len(self) == 0"
   ]
  },
  {
   "cell_type": "markdown",
   "metadata": {},
   "source": [
    "**深度**"
   ]
  },
  {
   "cell_type": "markdown",
   "metadata": {},
   "source": [
    "树T中节点p的深度的定义："
   ]
  },
  {
   "cell_type": "markdown",
   "metadata": {},
   "source": [
    "p的深度同样也可以按如下递归定义：\n",
    " * 如果p是根节点，那么p的深度为0。\n",
    " * 否则，p的深度就是其父节点的深度加1。"
   ]
  },
  {
   "cell_type": "markdown",
   "metadata": {},
   "source": [
    "代码段8-3 树类中计算深度的算法"
   ]
  },
  {
   "cell_type": "code",
   "execution_count": 4,
   "metadata": {},
   "outputs": [],
   "source": [
    "    def depth(self, p):\n",
    "        \"\"\"Return the number of levels separating Position p from the root.\"\"\"\n",
    "        if self.is_root(p):\n",
    "            return 0\n",
    "        else:\n",
    "            return 1 + self.depth(self.parent(p))"
   ]
  },
  {
   "cell_type": "markdown",
   "metadata": {},
   "source": [
    "**高度**"
   ]
  },
  {
   "cell_type": "markdown",
   "metadata": {},
   "source": [
    "树T中节点p的高度的定义如下：\n",
    " * 如果p是一个叶子节点，那么它的高度为0。\n",
    " * 否则，p的高度是它孩子节点中的最大高度加1。"
   ]
  },
  {
   "cell_type": "markdown",
   "metadata": {},
   "source": [
    "命题8-4 Tree类中的方法_height1。需要注意的是，该方法调用了计算深度的算法"
   ]
  },
  {
   "cell_type": "code",
   "execution_count": 5,
   "metadata": {},
   "outputs": [],
   "source": [
    "    def _height1(self):\n",
    "        \"\"\"Return the height of the tree.\"\"\"\n",
    "        return max(self.depth(p) for p in self.positions() if self.is_leaf(p))"
   ]
  },
  {
   "cell_type": "markdown",
   "metadata": {},
   "source": [
    "代码段8-6 计算整个树或者一个给定位置作为根节点的子树的高度的Tree.height方法"
   ]
  },
  {
   "cell_type": "code",
   "execution_count": 6,
   "metadata": {},
   "outputs": [],
   "source": [
    "    def height(self, p=None):\n",
    "        \"\"\"Return the height of the subtree rooted at Position p.\n",
    "        \n",
    "        If p is None, return the height of the entire tree.\n",
    "        \"\"\"\n",
    "        if p is None:\n",
    "            p = self.root()\n",
    "        return self._height2(p)    # start _height2 recursion"
   ]
  },
  {
   "cell_type": "markdown",
   "metadata": {},
   "source": [
    "**二叉树**"
   ]
  },
  {
   "cell_type": "markdown",
   "metadata": {},
   "source": [
    "二叉树是具有以下属性的有序树：\n",
    "\n",
    "1）每个节点最多有两个孩子节点。\n",
    "\n",
    "2）每个孩子节点被命名为*左孩子*或者*右孩子*。\n",
    "\n",
    "3）对于每个节点的孩子节点，在顺序上，左孩子先于右孩子。"
   ]
  },
  {
   "cell_type": "markdown",
   "metadata": {},
   "source": [
    "若子树的根为内部节点v的左孩子或右孩子，则该子树相应地被称为节点v的*左子树*或*右子树*。"
   ]
  },
  {
   "cell_type": "markdown",
   "metadata": {},
   "source": [
    "若每个节点都有零个或者两个节点，则这样的二叉树为*完全二叉树*。一些人也把这种树称为*满二叉树*。"
   ]
  },
  {
   "cell_type": "markdown",
   "metadata": {},
   "source": [
    "**递归二叉树的定义**"
   ]
  },
  {
   "cell_type": "markdown",
   "metadata": {},
   "source": [
    "使用递归方式定义二叉树，此时二叉树或者为空树，或者由以下条件组成：\n",
    " * 二叉树T的根为节点r，其存储一个元素。\n",
    " * 二叉树（可能为空）称为T的左子树。\n",
    " * 二叉树（可能为空）称为T的右子树。"
   ]
  },
  {
   "cell_type": "markdown",
   "metadata": {},
   "source": [
    "代码段8-7 从代码段8-1和8-2已存在的Tree抽象基类中扩展的BinaryTree抽象基类"
   ]
  },
  {
   "cell_type": "code",
   "execution_count": 7,
   "metadata": {},
   "outputs": [],
   "source": [
    "class BinaryTree(Tree):\n",
    "    \"\"\"Abstract base class representing a binary tree structure.\"\"\"\n",
    "    \n",
    "    # ---------- addational abstract methods ----------\n",
    "    def left(self, p):\n",
    "        \"\"\"Return a Position representing p's left child.\n",
    "        \n",
    "        Return None if p does not have a left child.\n",
    "        \"\"\"\n",
    "        raise NotImplementedErrore('must be implemented by subclass')\n",
    "    \n",
    "    def right(self, p):\n",
    "        \"\"\"Return a Position representing p's right child.\n",
    "        \n",
    "        Return None if p does not have a right child.\n",
    "        \"\"\"\n",
    "        raise NotImplementedErrore('must be implemented by subclass')\n",
    "    \n",
    "    # ---------- concrete methods implemented in this class ----------\n",
    "    def sibling(self, p):\n",
    "        \"\"\"Return a Position representing p's sibing (or None if no sibling).\"\"\"\n",
    "        parent = self.parent(p)\n",
    "        if parent is None:    # p must be the root\n",
    "            return None       # root has no sibling\n",
    "        else:\n",
    "            if p == self.left(parent):\n",
    "                return self.right(parent)    # possibly None\n",
    "            else:\n",
    "                return self.left(parent)     # possibly None\n",
    "    \n",
    "    def children(self, p):\n",
    "        \"\"\"Generate an iteration of Position representing p's children.\"\"\"\n",
    "        if self.left(p) is not None:\n",
    "            yield self.left(p)\n",
    "        if self.right(p) is not None:\n",
    "            yield self.right(p)"
   ]
  },
  {
   "cell_type": "markdown",
   "metadata": {},
   "source": [
    "代码段8-8 LinkedBinaryTree类的开始（后接代码段8-9~8-11）"
   ]
  },
  {
   "cell_type": "code",
   "execution_count": 3,
   "metadata": {},
   "outputs": [
    {
     "ename": "NameError",
     "evalue": "name 'BinaryTree' is not defined",
     "output_type": "error",
     "traceback": [
      "\u001b[1;31m---------------------------------------------------------------------------\u001b[0m",
      "\u001b[1;31mNameError\u001b[0m                                 Traceback (most recent call last)",
      "\u001b[1;32m<ipython-input-3-2865f7b8dda6>\u001b[0m in \u001b[0;36m<module>\u001b[1;34m\u001b[0m\n\u001b[1;32m----> 1\u001b[1;33m \u001b[1;32mclass\u001b[0m \u001b[0mLinkedBinaryTree\u001b[0m\u001b[1;33m(\u001b[0m\u001b[0mBinaryTree\u001b[0m\u001b[1;33m)\u001b[0m\u001b[1;33m:\u001b[0m\u001b[1;33m\u001b[0m\u001b[1;33m\u001b[0m\u001b[0m\n\u001b[0m\u001b[0;32m      2\u001b[0m     \u001b[1;34m\"\"\"Linked representation of a binary tree structure.\"\"\"\u001b[0m\u001b[1;33m\u001b[0m\u001b[1;33m\u001b[0m\u001b[0m\n\u001b[0;32m      3\u001b[0m \u001b[1;33m\u001b[0m\u001b[0m\n\u001b[0;32m      4\u001b[0m     \u001b[1;32mclass\u001b[0m \u001b[0m_Node\u001b[0m\u001b[1;33m:\u001b[0m    \u001b[1;31m# Lightweight, nonpublic class for storing a node.\u001b[0m\u001b[1;33m\u001b[0m\u001b[1;33m\u001b[0m\u001b[0m\n\u001b[0;32m      5\u001b[0m         \u001b[0m__slots__\u001b[0m \u001b[1;33m=\u001b[0m \u001b[1;34m'_element'\u001b[0m\u001b[1;33m,\u001b[0m \u001b[1;34m'_parent'\u001b[0m\u001b[1;33m,\u001b[0m \u001b[1;34m'_left'\u001b[0m\u001b[1;33m,\u001b[0m \u001b[1;34m'_right'\u001b[0m\u001b[1;33m\u001b[0m\u001b[1;33m\u001b[0m\u001b[0m\n",
      "\u001b[1;31mNameError\u001b[0m: name 'BinaryTree' is not defined"
     ]
    }
   ],
   "source": [
    "class LinkedBinaryTree(BinaryTree):\n",
    "    \"\"\"Linked representation of a binary tree structure.\"\"\"\n",
    "    \n",
    "    class _Node:    # Lightweight, nonpublic class for storing a node.\n",
    "        __slots__ = '_element', '_parent', '_left', '_right'\n",
    "        def __init__(self, element, parent=None, left=None, right=None):\n",
    "            self._element = element\n",
    "            self._parent = parent\n",
    "            self._left = left\n",
    "            self._right = right\n",
    "    \n",
    "    class Position(BinaryTree.Position):\n",
    "        \"\"\"An abstraction representing the location of a single element.\"\"\"\n",
    "        \n",
    "        def __init__(self, container, node):\n",
    "            \"\"\"Constructor should not be invoked by user.\"\"\"\n",
    "            self._container = container\n",
    "            self._node = node\n",
    "        \n",
    "        def element(self):\n",
    "            \"\"\"Return the element stored at this Position.\"\"\"\n",
    "            return self._node._element\n",
    "        \n",
    "        def __eq__(self, other):\n",
    "            \"\"\"Return True if other is a Position representing the same location.\"\"\"\n",
    "            return type(other) is type(self) and other._node is self._node\n",
    "    \n",
    "    def _validate(self, p):\n",
    "        \"\"\"Return associated node, if position is valid.\"\"\"\n",
    "        if not isinstance(p, self.Position):\n",
    "            raise TypeError('p must be proper Position type.')\n",
    "        if p._container is not self:\n",
    "            raise ValueError('p does not belong to this container')\n",
    "        if p._node._parent is p._node:    # convention for deprecated nodes\n",
    "            raise ValueError('p is no longer valid')\n",
    "        return p._node\n",
    "    \n",
    "    def _make_position(self, node):\n",
    "        \"\"\"Return Position instance for given node (or None if no node).\"\"\"\n",
    "        return self.Position(self, node) if node is not None else None"
   ]
  },
  {
   "cell_type": "markdown",
   "metadata": {},
   "source": [
    "代码段8-9 LinkedBinaryTree类的公开访问方法。该类从代码段8-8开始，且在代码段8-10和8-11中继续"
   ]
  },
  {
   "cell_type": "code",
   "execution_count": 4,
   "metadata": {},
   "outputs": [],
   "source": [
    "    # ---------- binary tree constructor ----------\n",
    "    def __init__(self):\n",
    "        \"\"\"Create an initially empty binary tree.\"\"\"\n",
    "        self._root = None\n",
    "        self._size = 0\n",
    "    \n",
    "    # ---------- public accessors ----------\n",
    "    def __len__(self):\n",
    "        \"\"\"Return the total number of elements in the tree.\"\"\"\n",
    "        return self._size\n",
    "    \n",
    "    def root(self):\n",
    "        \"\"\"Return the root Position of the tree (or None if tree is empty).\"\"\"\n",
    "        return self._make_position(self._root)\n",
    "    \n",
    "    def parent(self, p):\n",
    "        \"\"\"Return the Position of p's parent(or None if p is root).\"\"\"\n",
    "        node = self._validate(p)\n",
    "        return self._make_position(node._parent)\n",
    "    \n",
    "    def left(self, p):\n",
    "        \"\"\"Return the Position of p's left child (or None if no left child).\"\"\"\n",
    "        node = self._validate(p)\n",
    "        return self._make_position(node._left)\n",
    "    \n",
    "    def right(self, p):\n",
    "        \"\"\"Return the Position of p's right (or None if no right child).\"\"\"\n",
    "        node = self._validate(p)\n",
    "        return self._make_position(node._right)\n",
    "    \n",
    "    def num_children(self, p):\n",
    "        \"\"\"Return the number of children of Position p.\"\"\"\n",
    "        node = self._validate(p)\n",
    "        count = 0\n",
    "        if node._left is not None:    # left child exists\n",
    "            count += 1\n",
    "        if node._right is not None:   # right child exists\n",
    "            count += 1\n",
    "        return count"
   ]
  },
  {
   "cell_type": "markdown",
   "metadata": {},
   "source": [
    "代码段8-10 LinkedBinaryTree类的非公开更新方法（后接代码段8-11）"
   ]
  },
  {
   "cell_type": "code",
   "execution_count": 5,
   "metadata": {},
   "outputs": [],
   "source": [
    "    def _add_root(self, e):\n",
    "        \"\"\"Place element e at the root of an empty tree and return new Position.\n",
    "\n",
    "        Raise ValueError if tree nonempty.\n",
    "        \"\"\"\n",
    "        if self._root is not None:\n",
    "            raise ValueError('Root exists')\n",
    "        self._size = 1\n",
    "        self._root = self._Node(e)\n",
    "        return self._make_position(self._root)\n",
    "    \n",
    "    def _add_left(self, p, e):\n",
    "        \"\"\"Create a new left child for Position p, storing element e.\n",
    "        \n",
    "        Return the Position of new node.\n",
    "        Raise ValueError if Position p is invalid or already has a left child.\n",
    "        \"\"\"\n",
    "        node = self._validate(p)\n",
    "        if node._left is not None:\n",
    "            raise ValueError('Left child exists')\n",
    "        self._size += 1\n",
    "        node._left = self._Node(e, node)    # node is its parent\n",
    "        return self._make_position(node._left)\n",
    "    \n",
    "    def _add_right(self, p, e):\n",
    "        \"\"\"Create a new right child for Position p, storing element e.\n",
    "        \n",
    "        Return the Position of new node.\n",
    "        Raise ValueError if Position p is invalid or already has a right child.\n",
    "        \"\"\"\n",
    "        node = self._validate(p)\n",
    "        if node._right is not None:\n",
    "            raise ValueError('Right child exists')\n",
    "        self._size += 1\n",
    "        node._right = self._Node(e, node)    # node is its parent\n",
    "        return self._make_position(node._right)\n",
    "    \n",
    "    def _replace(self, p, e):\n",
    "        \"\"\"Replace the element at position p with e, and return old element.\"\"\"\n",
    "        node = self._validate(p)\n",
    "        old = node._element\n",
    "        node._element = e\n",
    "        return old"
   ]
  },
  {
   "cell_type": "markdown",
   "metadata": {},
   "source": [
    "代码段8-11 LinkedBinaryTree类的非公开更新方法（接代码段8-10）"
   ]
  },
  {
   "cell_type": "code",
   "execution_count": 6,
   "metadata": {},
   "outputs": [],
   "source": [
    "    def _delete(self, p):\n",
    "        \"\"\"Delete the node at Position p, and replace it with its child, if any.\n",
    "        \n",
    "        Return the element that had been stored at Position p.\n",
    "        Raise ValueError if Position p is invalid or p has two children.\n",
    "        \"\"\"\n",
    "        node = self._validate(p)\n",
    "        if self.num_children(p) == 2:\n",
    "            raise ValueError('p has two children')\n",
    "        child = node._left if node._left else node._right    # might be None\n",
    "        if child is not None:\n",
    "            child._parent = node._parent     # child's grandparent becomes parent\n",
    "        if node is self._root:\n",
    "            self._root = child    # child becomes root\n",
    "        else:\n",
    "            parent = node._parent\n",
    "            if node is parent._left:\n",
    "                parent._left = child\n",
    "            else:\n",
    "                parent._right = child\n",
    "        self._size -= 1\n",
    "        node._parent = node    # convention for deprecated node\n",
    "        return node._element\n",
    "    \n",
    "    def _attach(self, p, t1, t2):\n",
    "        \"\"\"Attach trees t1 and t2 as left and right subtrees of ecternal p.\"\"\"\n",
    "        node = self._validate(p)\n",
    "        if not self.is_leaf(p):\n",
    "            raise ValueError('position must be leaf')\n",
    "        if not type(self) is type(t1) is type(t2):    # all 3 trees must be same type\n",
    "            raise TypeError('Tree types must match')\n",
    "        self._size += len(t1) + len(t2)\n",
    "        if not t1.is_empty():    # attached t1 as left subtree of node\n",
    "            t1._root._parent = node\n",
    "            node.left = t1._root\n",
    "            t1._root = None    # set t1 instance to empty\n",
    "            t1._size = 0\n",
    "        if not t2.is_empty():    # attached t2 as left subtree of node\n",
    "            t2._root._parent = node\n",
    "            node.left = t2._root\n",
    "            t2._root = None    # set t2 instance to empty\n",
    "            t2._size = 0"
   ]
  },
  {
   "cell_type": "code",
   "execution_count": null,
   "metadata": {},
   "outputs": [],
   "source": []
  },
  {
   "cell_type": "code",
   "execution_count": null,
   "metadata": {},
   "outputs": [],
   "source": []
  }
 ],
 "metadata": {
  "kernelspec": {
   "display_name": "Python 3",
   "language": "python",
   "name": "python3"
  },
  "language_info": {
   "codemirror_mode": {
    "name": "ipython",
    "version": 3
   },
   "file_extension": ".py",
   "mimetype": "text/x-python",
   "name": "python",
   "nbconvert_exporter": "python",
   "pygments_lexer": "ipython3",
   "version": "3.8.3"
  },
  "toc": {
   "base_numbering": 1,
   "nav_menu": {},
   "number_sections": true,
   "sideBar": true,
   "skip_h1_title": false,
   "title_cell": "Table of Contents",
   "title_sidebar": "Contents",
   "toc_cell": false,
   "toc_position": {},
   "toc_section_display": true,
   "toc_window_display": true
  }
 },
 "nbformat": 4,
 "nbformat_minor": 4
}
