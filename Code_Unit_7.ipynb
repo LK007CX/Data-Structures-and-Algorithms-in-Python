{
 "cells": [
  {
   "cell_type": "markdown",
   "metadata": {},
   "source": [
    "代码段7-4 一个单向链表的轻量级_Node类"
   ]
  },
  {
   "cell_type": "code",
   "execution_count": 3,
   "metadata": {},
   "outputs": [],
   "source": [
    "class _Node:\n",
    "    \"\"\"Lightweight, nonpublic class for storing a singly linked node.\"\"\"\n",
    "    __slots__ = '_element', '_next'       # streamine memory usage\n",
    "    \n",
    "    def __init__(self, element, next):    # initialize node's fields\n",
    "        self._element = element           # reference to user's element\n",
    "        self._next = next                 # reference to next node"
   ]
  },
  {
   "cell_type": "markdown",
   "metadata": {},
   "source": [
    "代码段7-5 单向链表实现栈ADT（后续内容见代码段7-6）"
   ]
  },
  {
   "cell_type": "code",
   "execution_count": 4,
   "metadata": {},
   "outputs": [],
   "source": [
    "class LinkedStack:\n",
    "    \"\"\"LIFO Stack implementation using a singly linked list for storage.\"\"\"\n",
    "    \n",
    "    # ---------- nested _Node class ---------\n",
    "    class _Node:\n",
    "        \"\"\"Lightweight, nonpublic class for storing a singly linked node.\"\"\"\n",
    "        __slots__ = '_element', '_next'    # streamline memory usage\n",
    "    \n",
    "        def __init__(self):                # initialize node's fields\n",
    "            self._element = element        # reference to user's element\n",
    "            self._next = next              # reference to user's node\n",
    "        \n",
    "    # ---------- stack methods ----------\n",
    "    def __init__(self):\n",
    "        \"\"\"Create an empty stack.\"\"\"\n",
    "        self._head = None                  # reference to the head node\n",
    "        self._size = 0                     # number of stack elements\n",
    "    \n",
    "    def __len__(self):\n",
    "        \"\"\"Return the number of elements in the stack.\"\"\"\n",
    "        return self._size\n",
    "\n",
    "    def is_empty(self):\n",
    "        \"\"\"Return True if the stack is empty.\"\"\"\n",
    "        return self._size == 0\n",
    "    \n",
    "    def push(self, e):\n",
    "        \"\"\"Add element e to the top of the stack.\"\"\"\n",
    "        self._head = self._Node(e, self._head)    # create and link a new node\n",
    "        self._size += 1\n",
    "    \n",
    "    def top(self):\n",
    "        \"\"\"Return (but do not remove) the element at the top of the stack.\n",
    "        \n",
    "        Raise Empty exception if the stack is empty.\n",
    "        \"\"\"\n",
    "        if self.is_empty():\n",
    "            raise Empty('Stack is empty')\n",
    "        return self._head._element               # top of stack is at head of list"
   ]
  },
  {
   "cell_type": "markdown",
   "metadata": {},
   "source": [
    "代码段7-6 单向链表实现栈ADT（接代码段7-5）"
   ]
  },
  {
   "cell_type": "code",
   "execution_count": 5,
   "metadata": {},
   "outputs": [],
   "source": [
    "    def pop(self):\n",
    "        \"\"\"Remove and return the element from the top of stack(i.e., LIFO).\n",
    "        \n",
    "        Raise Empty exception if the stack is Empty.\n",
    "        \"\"\"\n",
    "        if self.is_empty():\n",
    "            raise Empty('Stack is empty')\n",
    "        answer = self._head._element\n",
    "        self._head = self._head._next    # bypass the former top node\n",
    "        self._size -= 1\n",
    "        return answer"
   ]
  },
  {
   "cell_type": "markdown",
   "metadata": {},
   "source": [
    "代码段7-7 用单向链表实现队列ADT（后续内容见代码段7-8）"
   ]
  },
  {
   "cell_type": "code",
   "execution_count": null,
   "metadata": {},
   "outputs": [],
   "source": [
    "class LinkedQueue:\n",
    "    \"\"\"FIFO queue implementation using a singly linked list for storage.\"\"\"\n",
    "    \n",
    "    class _Node:\n",
    "        \"\"\"Lightweight, nonpublic class for storing a singly linked node.\"\"\"\n",
    "        __slots__ = '_element', '_next'    # streamline memory usage\n",
    "    \n",
    "        def __init__(self):                # initialize node's fields\n",
    "            self._element = element        # reference to user's element\n",
    "            self._next = next              # reference to user's node\n",
    "    \n",
    "    def __init__(self):\n",
    "        \"\"\"Create an empty queue.\"\"\"\n",
    "        self._head = None\n",
    "        self._tail = None\n",
    "        self._size = 0                     # number of queue elements\n",
    "    \n",
    "    def __len__(self):\n",
    "        \"\"\"Return the number of elements in the queue.\"\"\"\n",
    "        return self._size\n",
    "    \n",
    "    def is_empty(self):\n",
    "        \"\"\"Return True if the queue is empty.\"\"\"\n",
    "        return self._size == 0\n",
    "    \n",
    "    def first(self):\n",
    "        \"\"\"Return (but do not remove) the elements at the front of the queue.\"\"\"\n",
    "        if self.is_empty():\n",
    "            raise Empty('Queue is empty.')\n",
    "        return self._head._element         # front aligned with head of first"
   ]
  },
  {
   "cell_type": "code",
   "execution_count": 1,
   "metadata": {},
   "outputs": [
    {
     "ename": "SyntaxError",
     "evalue": "invalid character in identifier (<ipython-input-1-1b252a7d9992>, line 1)",
     "output_type": "error",
     "traceback": [
      "\u001b[1;36m  File \u001b[1;32m\"<ipython-input-1-1b252a7d9992>\"\u001b[1;36m, line \u001b[1;32m1\u001b[0m\n\u001b[1;33m    代码段7-8 用单向链表实现队列ADT（接代码段7-7）\u001b[0m\n\u001b[1;37m                            ^\u001b[0m\n\u001b[1;31mSyntaxError\u001b[0m\u001b[1;31m:\u001b[0m invalid character in identifier\n"
     ]
    }
   ],
   "source": [
    "代码段7-8 用单向链表实现队列ADT（接代码段7-7）"
   ]
  },
  {
   "cell_type": "code",
   "execution_count": 2,
   "metadata": {},
   "outputs": [],
   "source": [
    "    def dequeue(self):\n",
    "        \"\"\"Remove and return the first element of the queue(i.e., FIFO).\n",
    "        \n",
    "        Raise Empty exception if the queue is empty.\n",
    "        \"\"\"\n",
    "        if self.is_empty():\n",
    "            raise Empty('Queue is empty')\n",
    "        answer = self._head._element\n",
    "        self._head = self._head._next\n",
    "        self._size -= 1\n",
    "        if self.is_empty():                # special case as queue is empty\n",
    "            self._tail = None              # removed head had been the tail\n",
    "        return answer\n",
    "    \n",
    "    def enqueue(self, e):\n",
    "        \"\"\"Add an element to the back of queue.\"\"\"\n",
    "        newest = self._Node(e, None)       # node will be new tail node\n",
    "        if self.is_empty():\n",
    "            self._head = newest            # special case: previously empty\n",
    "        else:\n",
    "            self._tail._next = newest\n",
    "        self._tail = newest                # update reference to tail node\n",
    "        self._size += 1"
   ]
  },
  {
   "cell_type": "markdown",
   "metadata": {},
   "source": [
    "代码段7-9 用循环链表存储实现循环队列类"
   ]
  },
  {
   "cell_type": "code",
   "execution_count": 1,
   "metadata": {},
   "outputs": [],
   "source": [
    "class CircularQueue:\n",
    "    \"\"\"Queue implementation using circularly linked list for storage.\"\"\"\n",
    "    class _Node:\n",
    "        \"\"\"Lightweight, nonpublic class for storing a singly linked node.\"\"\"\n",
    "        __slots__ = '_element', '_next'    # streamline memory usage\n",
    "    \n",
    "        def __init__(self):                # initialize node's fields\n",
    "            self._element = element        # reference to user's element\n",
    "            self._next = next              # reference to user's node\n",
    "    \n",
    "    def __init__(self):\n",
    "        \"\"\"Create an empty queue.\"\"\"\n",
    "        self._tail = None                  # will represent tail of queue\n",
    "        self._size = 0                     # number of queue elements\n",
    "    \n",
    "    def __len__(self):\n",
    "        \"\"\"Return the number of elements in the queue.\"\"\"\n",
    "        return self._size\n",
    "    \n",
    "    def is_empty(self):\n",
    "        \"\"\"Return True if the queue is empty.\"\"\"\n",
    "        return self._size == 0\n",
    "    \n",
    "    def first(self):\n",
    "        \"\"\"return (but do not remove ) the element at the front of the queue.\n",
    "        Raise Empty exception if the queue is empty.\n",
    "        \"\"\"\n",
    "        if self.is_empty():\n",
    "            raise Empty('Queue is empty')\n",
    "        head = self._tail._next\n",
    "    \n",
    "    def dequeue(self):\n",
    "        \"\"\"Remove and return the first element of the queue (i.e., FIFO).\n",
    "        \n",
    "        Raise Empty exception if the queue is empty.\n",
    "        \"\"\"\n",
    "        if self.is_empty():\n",
    "            raise Empty('Queue is empty')\n",
    "        oldhead = self._tail._next\n",
    "        if self._size == 1:                     # remove only element\n",
    "            self._tail = None                   # queue becomes empty\n",
    "        else:\n",
    "            self._tail._next = oldhead._next    # bypass the old head\n",
    "        self._size -= 1\n",
    "        return oldhead._element\n",
    "    \n",
    "    def enqueue(self, e):\n",
    "        \"\"\"Add an element to the back of queue.\"\"\"\n",
    "        newest = self._Node(e, None)            # node will be new tail node\n",
    "        if self.is_empty():\n",
    "            newest._next = newest               # initialize circularly\n",
    "        else:\n",
    "            newest._next = self._tail._next     # new node points to head\n",
    "            self._tail._next = newest           # old tail becomes to new node\n",
    "        self._tail = newest                     # new node becomes the tail\n",
    "        self._size += 1\n",
    "    \n",
    "    def rotate(self):\n",
    "        \"\"\"Rotate front element to the back of the queue.\"\"\"\n",
    "        if self._size > 0:\n",
    "            self._tail = self._tail._next       # old head becomes new tail"
   ]
  },
  {
   "cell_type": "markdown",
   "metadata": {},
   "source": [
    "代码段7-11 用于双向链表的Python_Node类"
   ]
  },
  {
   "cell_type": "code",
   "execution_count": 3,
   "metadata": {},
   "outputs": [],
   "source": [
    "class _Node:\n",
    "    \"\"\"Lightweight, nonpublic class for storing a doubly linked node.\"\"\"\n",
    "    __slots__ = '_element', '_prev', '_next'    # streamline memory\n",
    "    \n",
    "    def __init__(self, element, prev, next):    # initialize node's fields\n",
    "        self._element = element                 # user's element\n",
    "        self._prev = prev                       # previous node reference\n",
    "        self._next = next                       # next node reference"
   ]
  },
  {
   "cell_type": "markdown",
   "metadata": {},
   "source": [
    "代码段7-12 管理双向链表的基本类"
   ]
  },
  {
   "cell_type": "code",
   "execution_count": 1,
   "metadata": {},
   "outputs": [],
   "source": [
    "class _DoublyLinkedBase:\n",
    "    \"\"\"A base class providing a doubly linked list representation.\"\"\"\n",
    "    \n",
    "    class _Node:\n",
    "        \"\"\"Lightweight, nonpublic class for storing a doubly linked node.\"\"\"\n",
    "        __slots__ = '_element', '_prev', '_next'    # streamline memory\n",
    "\n",
    "        def __init__(self, element, prev, next):    # initialize node's fields\n",
    "            self._element = element                 # user's element\n",
    "            self._prev = prev                       # previous node reference\n",
    "            self._next = next                       # next node reference\n",
    "    \n",
    "    def __init__(self):\n",
    "        \"\"\"Create an empty list.\"\"\"\n",
    "        self._header = self._Node(None, None, None)\n",
    "        self._tailer = self._Node(None, None, None)\n",
    "        self._header._next = self._tailer   # trailer is after header\n",
    "        self._trailer._prev = self.header   # header is before trailer\n",
    "        self._size = 0                      # number of elements\n",
    "    \n",
    "    def __len__(self):\n",
    "        \"\"\"Return the number of elements in the list.\"\"\"\n",
    "        return self._size\n",
    "    \n",
    "    def is_empty(self):\n",
    "        \"\"\"Return True if list is empty.\"\"\"\n",
    "        return self._size == 0\n",
    "    \n",
    "    def _insert_between(self, e, predecessor, successor):\n",
    "        \"\"\"Add element e between two existing nodes and return new node.\"\"\"\n",
    "        newest = self._Node(e, predecessor, successor)    # linked to neighbors\n",
    "        predecessor._next = newest\n",
    "        successor._prev = newest\n",
    "        self._size += 1\n",
    "        return newest\n",
    "    \n",
    "    def _delete_node(self, node):\n",
    "        \"\"\"Delete nonsentinel node from the list and return its element.\"\"\"\n",
    "        predecessor = node._prev\n",
    "        successor = node._next\n",
    "        predecessor._next = successor\n",
    "        successor._prev = predecessor\n",
    "        self._size -= 1\n",
    "        element = node._element                           # recode deleted element\n",
    "        node._prev = node._next = node._element = None    # deprecate node\n",
    "        return element                                    # return deleted element"
   ]
  },
  {
   "cell_type": "markdown",
   "metadata": {},
   "source": [
    "代码段7-13 从继承双向链表基类而实现的链式双端队列类"
   ]
  },
  {
   "cell_type": "code",
   "execution_count": 5,
   "metadata": {},
   "outputs": [],
   "source": [
    "class LinkedDeque(_DoublyLinkedBase):                               # note the use of inheritance\n",
    "    \"\"\"Double-ended queue implementation based on a doubly linked list.\"\"\"\n",
    "    \n",
    "    def first(self):\n",
    "        \"\"\"Return (but do not remove) the element at the front of the deque.\"\"\"\n",
    "        if self.is_empty():\n",
    "            raise Empty(\"Deque is empty\")\n",
    "        return self._header._next._element                          # real item just after header\n",
    "    \n",
    "    def last(self):\n",
    "        \"\"\"Return (but do not remove) the element at the back of the deque.\"\"\"\n",
    "        if self.is_empty():\n",
    "            raise Empty(\"Deque is empty\")\n",
    "        return self._trailer._prev._element                         # real item just before trailer\n",
    "    \n",
    "    def insert_first(self, e):\n",
    "        \"\"\"Add an eleement to the front of the deque.\"\"\"\n",
    "        self._insert_between(e, self._header, self._header._next)   # after header\n",
    "    \n",
    "    def insert_last(self, e):\n",
    "        \"\"\"Add an element to the element from the front of the deque.\n",
    "        \n",
    "        Raise Empty exception if the deque is empty.\n",
    "        \"\"\"\n",
    "        if self.is_empty():\n",
    "            raise Empty(\"Empty is empty\")\n",
    "        return self._delete_node(self._header._next)                # use inherited method\n",
    "    \n",
    "    def delete_last(self):\n",
    "        \"\"\"Remove and return the element from the back of the deque.\n",
    "        \n",
    "        Raise Empty exception if the deque is empty.\n",
    "        \"\"\"\n",
    "        if self.is_empty():\n",
    "            raise Empty(\"Deque is empty\")\n",
    "        return self._delete_node(self._trailer._prev)               # use inherited method"
   ]
  },
  {
   "cell_type": "code",
   "execution_count": null,
   "metadata": {},
   "outputs": [],
   "source": []
  },
  {
   "cell_type": "code",
   "execution_count": null,
   "metadata": {},
   "outputs": [],
   "source": []
  },
  {
   "cell_type": "code",
   "execution_count": null,
   "metadata": {},
   "outputs": [],
   "source": []
  },
  {
   "cell_type": "code",
   "execution_count": null,
   "metadata": {},
   "outputs": [],
   "source": []
  },
  {
   "cell_type": "code",
   "execution_count": null,
   "metadata": {},
   "outputs": [],
   "source": []
  },
  {
   "cell_type": "code",
   "execution_count": null,
   "metadata": {},
   "outputs": [],
   "source": []
  },
  {
   "cell_type": "code",
   "execution_count": null,
   "metadata": {},
   "outputs": [],
   "source": []
  },
  {
   "cell_type": "code",
   "execution_count": null,
   "metadata": {},
   "outputs": [],
   "source": []
  },
  {
   "cell_type": "code",
   "execution_count": null,
   "metadata": {},
   "outputs": [],
   "source": []
  },
  {
   "cell_type": "code",
   "execution_count": null,
   "metadata": {},
   "outputs": [],
   "source": []
  }
 ],
 "metadata": {
  "kernelspec": {
   "display_name": "Python 3",
   "language": "python",
   "name": "python3"
  },
  "language_info": {
   "codemirror_mode": {
    "name": "ipython",
    "version": 3
   },
   "file_extension": ".py",
   "mimetype": "text/x-python",
   "name": "python",
   "nbconvert_exporter": "python",
   "pygments_lexer": "ipython3",
   "version": "3.8.3"
  },
  "toc": {
   "base_numbering": 1,
   "nav_menu": {},
   "number_sections": true,
   "sideBar": true,
   "skip_h1_title": false,
   "title_cell": "Table of Contents",
   "title_sidebar": "Contents",
   "toc_cell": false,
   "toc_position": {},
   "toc_section_display": true,
   "toc_window_display": true
  }
 },
 "nbformat": 4,
 "nbformat_minor": 4
}
