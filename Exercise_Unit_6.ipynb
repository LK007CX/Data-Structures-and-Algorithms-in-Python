{
 "cells": [
  {
   "cell_type": "code",
   "execution_count": 3,
   "metadata": {},
   "outputs": [],
   "source": [
    "class ArrayStack:\n",
    "    \"\"\"LIFO Stack implementation using a Python list as underlying storage.\"\"\"\n",
    "    \n",
    "    def __init__(self):\n",
    "        \"\"\"Create an empty stack.\"\"\"\n",
    "        self._data = []            # nonpublic list instance\n",
    "    \n",
    "    def __len__(self):\n",
    "        \"\"\"Return the number of elements in the stack.\"\"\"\n",
    "        return len(self._data)\n",
    "    \n",
    "    def is_empty(self):\n",
    "        \"\"\"Return True if the stack is empty.\"\"\"\n",
    "        return len(self._data) == 0\n",
    "    \n",
    "    def push(self, e):\n",
    "        \"\"\"Add element e to the top of the stack.\"\"\"\n",
    "        self._data.append(e)       # new item stored at end of list\n",
    "    \n",
    "    def top(self):\n",
    "        \"\"\"Return (but do not remove) the element at the top of the stack.\"\"\"\n",
    "        if self.is_empty():\n",
    "            raise Empty('Stack is empty')\n",
    "        return self._data[-1]      # the last item in the list\n",
    "    \n",
    "    def pop(self):\n",
    "        \"\"\"Remove and return the element from the top of the stack (i.e., LIFO).\n",
    "        \n",
    "        Raise Empty exception if the stack is empty.\n",
    "        \"\"\"\n",
    "        if self.is_empty():\n",
    "            raise Empty('Stack is empty')\n",
    "        return self._data.pop()    # remove last item from list"
   ]
  },
  {
   "cell_type": "markdown",
   "metadata": {},
   "source": [
    "R-6.1 如果在一个初始化为空的栈上执行如下一系列操作，将返回什么值？......"
   ]
  },
  {
   "cell_type": "markdown",
   "metadata": {},
   "source": [
    "略"
   ]
  },
  {
   "cell_type": "markdown",
   "metadata": {},
   "source": [
    "R-6.3 实现一个函数transfer(S, T)将栈S中的所有元素转移到栈T中，使位于S栈顶的元素被第一个插入到栈T中，使位于S栈底的元素被插入栈T的顶部。"
   ]
  },
  {
   "cell_type": "code",
   "execution_count": 1,
   "metadata": {},
   "outputs": [],
   "source": [
    "def transfer(S, T):\n",
    "    while not len(S) == 0:\n",
    "        T.append(S.pop())"
   ]
  },
  {
   "cell_type": "code",
   "execution_count": 7,
   "metadata": {},
   "outputs": [
    {
     "name": "stdout",
     "output_type": "stream",
     "text": [
      "before:\n",
      "[0, 1, 2, 3, 4, 5, 6, 7, 8, 9]\n",
      "[]\n",
      "\n",
      "now:\n",
      "[]\n",
      "[9, 8, 7, 6, 5, 4, 3, 2, 1, 0]\n"
     ]
    }
   ],
   "source": [
    "S = [i for i in range(10)]\n",
    "T = []\n",
    "print(\"before:\")\n",
    "print(S)\n",
    "print(T)\n",
    "transfer(S, T)\n",
    "print('\\nnow:')\n",
    "print(S)\n",
    "print(T)"
   ]
  },
  {
   "cell_type": "markdown",
   "metadata": {},
   "source": [
    "R-6.4 给出一个用于从栈中移除所有元素的递归实现方法。"
   ]
  },
  {
   "cell_type": "code",
   "execution_count": 25,
   "metadata": {},
   "outputs": [],
   "source": [
    "def remove_all(data, n):\n",
    "    if n == 0:\n",
    "        data.pop(0)\n",
    "    else:\n",
    "        data.pop(n)\n",
    "        remove_all(data, n-1)"
   ]
  },
  {
   "cell_type": "code",
   "execution_count": 26,
   "metadata": {},
   "outputs": [
    {
     "name": "stdout",
     "output_type": "stream",
     "text": [
      "[0, 1, 2, 3, 4, 5, 6, 7, 8, 9]\n",
      "[]\n"
     ]
    }
   ],
   "source": [
    "data = [i for i in range(10)]\n",
    "print(data)\n",
    "remove_all(data, len(data)-1)\n",
    "print(data)"
   ]
  },
  {
   "cell_type": "markdown",
   "metadata": {},
   "source": [
    "R-6.5 实现一个函数，通过将一个列表内的元素按顺序压入堆栈中，然后逆序把它们写回到列表中，实现列表的逆置。"
   ]
  },
  {
   "cell_type": "code",
   "execution_count": 27,
   "metadata": {},
   "outputs": [],
   "source": [
    "def reverse(data):\n",
    "    temp = []\n",
    "    while len(data) > 0:\n",
    "        temp.append(data.pop())\n",
    "    return temp"
   ]
  },
  {
   "cell_type": "code",
   "execution_count": 28,
   "metadata": {},
   "outputs": [
    {
     "name": "stdout",
     "output_type": "stream",
     "text": [
      "[0, 1, 2, 3, 4, 5, 6, 7, 8, 9]\n",
      "[9, 8, 7, 6, 5, 4, 3, 2, 1, 0]\n"
     ]
    }
   ],
   "source": [
    "data = [i for i in range(10)]\n",
    "print(data)\n",
    "result = reverse(data)\n",
    "print(result)"
   ]
  },
  {
   "cell_type": "markdown",
   "metadata": {},
   "source": [
    "R-6.6 给出一个算数表达式中分组符号匹配的精确而完整的定义。应确保定义可以是递归的。"
   ]
  },
  {
   "cell_type": "markdown",
   "metadata": {},
   "source": [
    "略"
   ]
  },
  {
   "cell_type": "markdown",
   "metadata": {},
   "source": [
    "R-6.7 如果。。。"
   ]
  },
  {
   "cell_type": "markdown",
   "metadata": {},
   "source": [
    "R-6.8 假设一个。。。"
   ]
  },
  {
   "cell_type": "markdown",
   "metadata": {},
   "source": [
    "R-6.9 假定"
   ]
  },
  {
   "cell_type": "markdown",
   "metadata": {},
   "source": [
    "R-6.10 试想"
   ]
  },
  {
   "cell_type": "markdown",
   "metadata": {},
   "source": [
    "R-6.11 给出一个简单的适配器实现队列ADT，其中一个采用一个collections.deque实例作为存储。"
   ]
  },
  {
   "cell_type": "code",
   "execution_count": 31,
   "metadata": {},
   "outputs": [],
   "source": [
    "from collections import deque"
   ]
  },
  {
   "cell_type": "code",
   "execution_count": 51,
   "metadata": {},
   "outputs": [],
   "source": [
    "class DequeQueue:\n",
    "    \"\"\"FIFO queue implementation using a collections.deque as underlying storage.\"\"\"\n",
    "    DEFAULT_CAPACITY = 10\n",
    "    \n",
    "    def __init__(self):\n",
    "        \"\"\"Create an empt queue.\"\"\"\n",
    "        self._data = deque(maxlen=DequeQueue.DEFAULT_CAPACITY)\n",
    "        self._size = 0\n",
    "    \n",
    "    def __len__(self):\n",
    "        \"\"\"Return the number of elements in the queue.\"\"\"\n",
    "        return self._size\n",
    "    \n",
    "    def is_empty(self):\n",
    "        \"\"\"Return True if the queue is empty.\"\"\"\n",
    "        return self._size == 0\n",
    "    \n",
    "    def first(self):\n",
    "        \"\"\"Return (but do not remove) the element at the front of the queue.\n",
    "        \n",
    "        Raise Empty expection if the queue is empty.\n",
    "        \"\"\"\n",
    "        if self.is_empty():\n",
    "            raise Empty('Queue is empty')\n",
    "        return self._data.first()\n",
    "    \n",
    "    def dequeue(self):\n",
    "        \"\"\"Remove and return the first element of the queue (i.e., FIFO).\n",
    "        \n",
    "        Raise Empty exception if the queue is empty.\n",
    "        \"\"\"\n",
    "        if self.is_empty():\n",
    "            raise Empty('Queue is empty')\n",
    "        answer = self._data.popleft()\n",
    "        self._size -= 1\n",
    "        return answer\n",
    "    \n",
    "    def enqueue(self, e):\n",
    "        \"\"\"Add an element to the back of the queue.\"\"\"\n",
    "        self._data.append(e)\n",
    "        self._size += 1"
   ]
  },
  {
   "cell_type": "code",
   "execution_count": 52,
   "metadata": {},
   "outputs": [
    {
     "name": "stdout",
     "output_type": "stream",
     "text": [
      "10\n"
     ]
    }
   ],
   "source": [
    "data = DequeQueue()\n",
    "data.enqueue(10)\n",
    "result = data.dequeue()\n",
    "print(result)"
   ]
  },
  {
   "cell_type": "markdown",
   "metadata": {},
   "source": [
    "R-6.12 在一个"
   ]
  },
  {
   "cell_type": "markdown",
   "metadata": {},
   "source": [
    "R-6.13 假设有一个含有数字（1，2，3，4，5，6，7，8）并按照这一顺序排列的双端队列D，并进一步假设有一个初始化为空的队列Q。给出一个只用D和Q（不包含其他变量）实现的代码片段，将元素（1，2，3，4，5，6，7，8）按这一顺序存储在D中。"
   ]
  },
  {
   "cell_type": "code",
   "execution_count": 54,
   "metadata": {},
   "outputs": [],
   "source": [
    "def func(D, Q):\n",
    "    while len(D) != 0:\n",
    "        Q.append(D.popleft())"
   ]
  },
  {
   "cell_type": "code",
   "execution_count": 58,
   "metadata": {},
   "outputs": [
    {
     "name": "stdout",
     "output_type": "stream",
     "text": [
      "deque([1, 2, 3, 4, 5, 6, 7, 8])\n",
      "[]\n",
      "deque([])\n",
      "[1, 2, 3, 4, 5, 6, 7, 8]\n"
     ]
    }
   ],
   "source": [
    "from collections import deque\n",
    "D = deque()\n",
    "Q = []\n",
    "for i in range(1, 9):\n",
    "    D.append(i)\n",
    "print(D)\n",
    "print(Q)\n",
    "func(D, Q)\n",
    "print(D)\n",
    "print(Q)"
   ]
  },
  {
   "cell_type": "code",
   "execution_count": null,
   "metadata": {},
   "outputs": [],
   "source": []
  }
 ],
 "metadata": {
  "kernelspec": {
   "display_name": "Python 3",
   "language": "python",
   "name": "python3"
  },
  "language_info": {
   "codemirror_mode": {
    "name": "ipython",
    "version": 3
   },
   "file_extension": ".py",
   "mimetype": "text/x-python",
   "name": "python",
   "nbconvert_exporter": "python",
   "pygments_lexer": "ipython3",
   "version": "3.8.3"
  },
  "toc": {
   "base_numbering": 1,
   "nav_menu": {},
   "number_sections": true,
   "sideBar": true,
   "skip_h1_title": false,
   "title_cell": "Table of Contents",
   "title_sidebar": "Contents",
   "toc_cell": false,
   "toc_position": {},
   "toc_section_display": true,
   "toc_window_display": false
  }
 },
 "nbformat": 4,
 "nbformat_minor": 4
}
