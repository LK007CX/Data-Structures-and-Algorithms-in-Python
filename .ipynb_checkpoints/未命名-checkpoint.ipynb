{
 "cells": [
  {
   "cell_type": "markdown",
   "id": "7ab292ac",
   "metadata": {},
   "source": [
    "# 数据结构与算法进阶班"
   ]
  },
  {
   "cell_type": "markdown",
   "id": "24103851",
   "metadata": {},
   "source": [
    "## Introduction"
   ]
  },
  {
   "cell_type": "markdown",
   "id": "8688c5df",
   "metadata": {},
   "source": [
    "### 课程介绍"
   ]
  },
  {
   "cell_type": "markdown",
   "id": "6c506105",
   "metadata": {},
   "source": [
    "### 职业规划及面试简介"
   ]
  },
  {
   "cell_type": "markdown",
   "id": "9264a715",
   "metadata": {},
   "source": [
    "### 算法与语言方面的要求"
   ]
  },
  {
   "cell_type": "markdown",
   "id": "dd51318a",
   "metadata": {},
   "source": [
    "### 数据结构与算法介绍"
   ]
  },
  {
   "cell_type": "markdown",
   "id": "af15068d",
   "metadata": {},
   "source": [
    "数据结构"
   ]
  },
  {
   "cell_type": "markdown",
   "id": "cd4d6fe7",
   "metadata": {},
   "source": [
    "* 数据结构：数据结构是一种特定的计算机存储、组织数据的方式。其宗旨是使计算机能够高效的使用数据。\n",
    "    * 越强大的计算机->越复杂的数据结构"
   ]
  },
  {
   "cell_type": "markdown",
   "id": "9307f549",
   "metadata": {},
   "source": [
    "* 抽象数据类型（ADT）：数列、列表、树、表格......\n",
    "    * 对于某一类型的数据或者某一个数据集的描述以及对该数据的各种操作"
   ]
  },
  {
   "cell_type": "markdown",
   "id": "0e235cac",
   "metadata": {},
   "source": [
    "* ADTs拥有干净的接口，其具体的实现细节是封装起来的。"
   ]
  },
  {
   "cell_type": "markdown",
   "id": "1981e688",
   "metadata": {},
   "source": [
    "算法"
   ]
  },
  {
   "cell_type": "markdown",
   "id": "f283f4f0",
   "metadata": {},
   "source": [
    "* 算法：有限时间内解决问题的一系列清晰指令"
   ]
  },
  {
   "cell_type": "markdown",
   "id": "dadaf46a",
   "metadata": {},
   "source": [
    "* 效率\n",
    "    * 空间\n",
    "    * 时间"
   ]
  },
  {
   "cell_type": "markdown",
   "id": "2f520e93",
   "metadata": {},
   "source": [
    "* 目标\n",
    "    * 能够识别程序要求的功能以解决当前任务\n",
    "    * 设计能够高效解决此任务的数据结构与算法\n",
    "    * 评价该方案的效率和正确性"
   ]
  },
  {
   "cell_type": "markdown",
   "id": "a586c4da",
   "metadata": {},
   "source": [
    "### 找到丢失的数字"
   ]
  },
  {
   "cell_type": "markdown",
   "id": "c818691c",
   "metadata": {},
   "source": [
    "**找到丢失的数字**"
   ]
  },
  {
   "cell_type": "markdown",
   "id": "f4c11117",
   "metadata": {},
   "source": [
    "题目描述：现在你手上有$n-1$个数字，这些数字的范围是$[1,n]$。且这$n-1$个数字中没有重复的数字。由上述条件可知：你手上的数字丢失了一个。请编写一段高效的找到该丢失数字的代码。"
   ]
  },
  {
   "cell_type": "markdown",
   "id": "082620d1",
   "metadata": {},
   "source": [
    "异或XOR，&1^1=0&，&1^0=1&，&0^1=1&，&0^0=0&"
   ]
  },
  {
   "cell_type": "code",
   "execution_count": null,
   "id": "adb42602",
   "metadata": {},
   "outputs": [],
   "source": [
    "def missingNumber(data):\n",
    "    length = data.length\n",
    "    result = []\n",
    "    for(i=0; i < length; i++):\n",
    "        "
   ]
  },
  {
   "cell_type": "code",
   "execution_count": null,
   "id": "ff2a849b",
   "metadata": {},
   "outputs": [],
   "source": []
  },
  {
   "cell_type": "code",
   "execution_count": null,
   "id": "853b6308",
   "metadata": {},
   "outputs": [],
   "source": []
  },
  {
   "cell_type": "code",
   "execution_count": null,
   "id": "87c289cf",
   "metadata": {},
   "outputs": [],
   "source": []
  }
 ],
 "metadata": {
  "kernelspec": {
   "display_name": "Python 3",
   "language": "python",
   "name": "python3"
  },
  "language_info": {
   "codemirror_mode": {
    "name": "ipython",
    "version": 3
   },
   "file_extension": ".py",
   "mimetype": "text/x-python",
   "name": "python",
   "nbconvert_exporter": "python",
   "pygments_lexer": "ipython3",
   "version": "3.8.8"
  },
  "toc": {
   "base_numbering": 1,
   "nav_menu": {},
   "number_sections": true,
   "sideBar": true,
   "skip_h1_title": false,
   "title_cell": "Table of Contents",
   "title_sidebar": "Contents",
   "toc_cell": false,
   "toc_position": {},
   "toc_section_display": true,
   "toc_window_display": true
  }
 },
 "nbformat": 4,
 "nbformat_minor": 5
}
