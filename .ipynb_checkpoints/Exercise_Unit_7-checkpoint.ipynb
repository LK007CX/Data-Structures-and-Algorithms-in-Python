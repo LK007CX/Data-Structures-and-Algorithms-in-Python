{
 "cells": [
  {
   "cell_type": "markdown",
   "metadata": {},
   "source": [
    "###### 单向链表实现的队列"
   ]
  },
  {
   "cell_type": "code",
   "execution_count": null,
   "metadata": {},
   "outputs": [],
   "source": [
    "class LinkedQueue:\n",
    "    \"\"\"FIFO queue implementation using a singly linked list for storage.\"\"\"\n",
    "    \n",
    "    class _Node:\n",
    "        \"\"\"Lightweight, nonpublic class for storing a singly linked node.\"\"\"\n",
    "        __slots__ = '_element', '_next'    # streamline memory usage\n",
    "    \n",
    "        def __init__(self, element, next):                # initialize node's fields\n",
    "            self._element = element        # reference to user's element\n",
    "            self._next = next              # reference to user's node\n",
    "    \n",
    "    def __init__(self):\n",
    "        \"\"\"Create an empty queue.\"\"\"\n",
    "        self._head = None\n",
    "        self._tail = None\n",
    "        self._size = 0                     # number of queue elements\n",
    "    \n",
    "    def __len__(self):\n",
    "        \"\"\"Return the number of elements in the queue.\"\"\"\n",
    "        return self._size\n",
    "    \n",
    "    def is_empty(self):\n",
    "        \"\"\"Return True if the queue is empty.\"\"\"\n",
    "        return self._size == 0\n",
    "    \n",
    "    def first(self):\n",
    "        \"\"\"Return (but do not remove) the elements at the front of the queue.\"\"\"\n",
    "        if self.is_empty():\n",
    "            raise Empty('Queue is empty.')\n",
    "        return self._head._element         # front aligned with head of first\n",
    "    \n",
    "    def dequeue(self):\n",
    "        \"\"\"Remove and return the first element of the queue(i.e., FIFO).\n",
    "        \n",
    "        Raise Empty exception if the queue is empty.\n",
    "        \"\"\"\n",
    "        if self.is_empty():\n",
    "            raise Empty('Queue is empty')\n",
    "        answer = self._head._element\n",
    "        self._head = self._head._next\n",
    "        self._size -= 1\n",
    "        if self.is_empty():                # special case as queue is empty\n",
    "            self._tail = None              # removed head had been the tail\n",
    "        return answer\n",
    "    \n",
    "    def enqueue(self, e):\n",
    "        \"\"\"Add an element to the back of queue.\"\"\"\n",
    "        newest = self._Node(e, None)       # node will be new tail node\n",
    "        if self.is_empty():\n",
    "            self._head = newest            # special case: previously empty\n",
    "        else:\n",
    "            self._tail._next = newest\n",
    "        self._tail = newest                # update reference to tail node\n",
    "        self._size += 1"
   ]
  },
  {
   "cell_type": "markdown",
   "metadata": {},
   "source": [
    "###### 循环链表"
   ]
  },
  {
   "cell_type": "code",
   "execution_count": 2,
   "metadata": {},
   "outputs": [],
   "source": [
    "class CircularQueue:\n",
    "    \"\"\"Queue implementation using circularly linked list for storage.\"\"\"\n",
    "    class _Node:\n",
    "        \"\"\"Lightweight, nonpublic class for storing a singly linked node.\"\"\"\n",
    "        __slots__ = '_element', '_next'    # streamline memory usage\n",
    "    \n",
    "        def __init__(self, element, next):                # initialize node's fields\n",
    "            self._element = element        # reference to user's element\n",
    "            self._next = next              # reference to user's node\n",
    "    \n",
    "    def __init__(self):\n",
    "        \"\"\"Create an empty queue.\"\"\"\n",
    "        self._tail = None                  # will represent tail of queue\n",
    "        self._size = 0                     # number of queue elements\n",
    "    \n",
    "    def __len__(self):\n",
    "        \"\"\"Return the number of elements in the queue.\"\"\"\n",
    "        return self._size\n",
    "    \n",
    "    def is_empty(self):\n",
    "        \"\"\"Return True if the queue is empty.\"\"\"\n",
    "        return self._size == 0\n",
    "    \n",
    "    def first(self):\n",
    "        \"\"\"return (but do not remove ) the element at the front of the queue.\n",
    "        Raise Empty exception if the queue is empty.\n",
    "        \"\"\"\n",
    "        if self.is_empty():\n",
    "            raise Empty('Queue is empty')\n",
    "        head = self._tail._next\n",
    "    \n",
    "    def dequeue(self):\n",
    "        \"\"\"Remove and return the first element of the queue (i.e., FIFO).\n",
    "        \n",
    "        Raise Empty exception if the queue is empty.\n",
    "        \"\"\"\n",
    "        if self.is_empty():\n",
    "            raise Empty('Queue is empty')\n",
    "        oldhead = self._tail._next\n",
    "        if self._size == 1:                     # remove only element\n",
    "            self._tail = None                   # queue becomes empty\n",
    "        else:\n",
    "            self._tail._next = oldhead._next    # bypass the old head\n",
    "        self._size -= 1\n",
    "        return oldhead._element\n",
    "    \n",
    "    def enqueue(self, e):\n",
    "        \"\"\"Add an element to the back of queue.\"\"\"\n",
    "        newest = self._Node(e, None)            # node will be new tail node\n",
    "        if self.is_empty():\n",
    "            newest._next = newest               # initialize circularly\n",
    "        else:\n",
    "            newest._next = self._tail._next     # new node points to head\n",
    "            self._tail._next = newest           # old tail becomes to new node\n",
    "        self._tail = newest                     # new node becomes the tail\n",
    "        self._size += 1\n",
    "    \n",
    "    def rotate(self):\n",
    "        \"\"\"Rotate front element to the back of the queue.\"\"\"\n",
    "        if self._size > 0:\n",
    "            self._tail = self._tail._next       # old head becomes new tail"
   ]
  },
  {
   "cell_type": "markdown",
   "metadata": {},
   "source": [
    "###### 管理双向链表的基本类"
   ]
  },
  {
   "cell_type": "code",
   "execution_count": 3,
   "metadata": {},
   "outputs": [],
   "source": [
    "class _DoublyLinkedBase:\n",
    "    \"\"\"A base class providing a doubly linked list representation.\"\"\"\n",
    "    \n",
    "    class _Node:\n",
    "        \"\"\"Lightweight, nonpublic class for storing a doubly linked node.\"\"\"\n",
    "        __slots__ = '_element', '_prev', '_next'    # streamline memory\n",
    "\n",
    "        def __init__(self, element, prev, next):    # initialize node's fields\n",
    "            self._element = element                 # user's element\n",
    "            self._prev = prev                       # previous node reference\n",
    "            self._next = next                       # next node reference\n",
    "    \n",
    "    def __init__(self):\n",
    "        \"\"\"Create an empty list.\"\"\"\n",
    "        self._header = self._Node(None, None, None)\n",
    "        self._tailer = self._Node(None, None, None)\n",
    "        self._header._next = self._tailer   # trailer is after header\n",
    "        self._trailer._prev = self.header   # header is before trailer\n",
    "        self._size = 0                      # number of elements\n",
    "    \n",
    "    def __len__(self):\n",
    "        \"\"\"Return the number of elements in the list.\"\"\"\n",
    "        return self._size\n",
    "    \n",
    "    def is_empty(self):\n",
    "        \"\"\"Return True if list is empty.\"\"\"\n",
    "        return self._size == 0\n",
    "    \n",
    "    def _insert_between(self, e, predecessor, successor):\n",
    "        \"\"\"Add element e between two existing nodes and return new node.\"\"\"\n",
    "        newest = self._Node(e, predecessor, successor)    # linked to neighbors\n",
    "        predecessor._next = newest\n",
    "        successor._prev = newest\n",
    "        self._size += 1\n",
    "        return newest\n",
    "    \n",
    "    def _delete_node(self, node):\n",
    "        \"\"\"Delete nonsentinel node from the list and return its element.\"\"\"\n",
    "        predecessor = node._prev\n",
    "        successor = node._next\n",
    "        predecessor._next = successor\n",
    "        successor._prev = predecessor\n",
    "        self._size -= 1\n",
    "        element = node._element                           # recode deleted element\n",
    "        node._prev = node._next = node._element = None    # deprecate node\n",
    "        return element                                    # return deleted element"
   ]
  },
  {
   "cell_type": "markdown",
   "metadata": {},
   "source": [
    "###### 从继承双向链表基类而实现的链式双端队列类"
   ]
  },
  {
   "cell_type": "code",
   "execution_count": 4,
   "metadata": {},
   "outputs": [],
   "source": [
    "class LinkedDeque(_DoublyLinkedBase):                               # note the use of inheritance\n",
    "    \"\"\"Double-ended queue implementation based on a doubly linked list.\"\"\"\n",
    "    \n",
    "    def first(self):\n",
    "        \"\"\"Return (but do not remove) the element at the front of the deque.\"\"\"\n",
    "        if self.is_empty():\n",
    "            raise Empty(\"Deque is empty\")\n",
    "        return self._header._next._element                          # real item just after header\n",
    "    \n",
    "    def last(self):\n",
    "        \"\"\"Return (but do not remove) the element at the back of the deque.\"\"\"\n",
    "        if self.is_empty():\n",
    "            raise Empty(\"Deque is empty\")\n",
    "        return self._trailer._prev._element                         # real item just before trailer\n",
    "    \n",
    "    def insert_first(self, e):\n",
    "        \"\"\"Add an eleement to the front of the deque.\"\"\"\n",
    "        self._insert_between(e, self._header, self._header._next)   # after header\n",
    "    \n",
    "    def insert_last(self, e):\n",
    "        \"\"\"Add an element to the back of the deque.\"\"\"\n",
    "        self._insert_between(e, self.trailer._prev, self._trailer)\n",
    "    \n",
    "    def delete_first(self):\n",
    "        \"\"\"Remove and return the element from the front of the deque.\n",
    "        \n",
    "        Raise Empty exception if the deque is empty.\n",
    "        \"\"\"\n",
    "        if self.is_empty():\n",
    "            raise Empty(\"Empty is empty\")\n",
    "        return self._delete_node(self._header._next)                # use inherited method\n",
    "    \n",
    "    def delete_last(self):\n",
    "        \"\"\"Remove and return the element from the back of the deque.\n",
    "        \n",
    "        Raise Empty exception if the deque is empty.\n",
    "        \"\"\"\n",
    "        if self.is_empty():\n",
    "            raise Empty(\"Deque is empty\")\n",
    "        return self._delete_node(self._trailer._prev)               # use inherited method"
   ]
  },
  {
   "cell_type": "markdown",
   "metadata": {},
   "source": [
    "###### 基于双向链表的PositionList类"
   ]
  },
  {
   "cell_type": "code",
   "execution_count": 5,
   "metadata": {},
   "outputs": [],
   "source": [
    "class PositionalList(_DoublyLinkedBase):\n",
    "    \"\"\"A sequential container elements allowing positional access.\"\"\"\n",
    "    \n",
    "    # ---------- nested Position class ----------\n",
    "    class Position:\n",
    "        \"\"\"An abstraction representing the location of a single element.\"\"\"\n",
    "        \n",
    "        def __init__(self, container, node):\n",
    "            \"\"\"Constructor should not be invoked ny user.\"\"\"\n",
    "            self._container = container\n",
    "            self._node = node\n",
    "        \n",
    "        def element(self):\n",
    "            \"\"\"Return the element stored at this Position.\"\"\"\n",
    "            return self._node._element\n",
    "        \n",
    "        def __eq__(self, other):\n",
    "            \"\"\"Return True if other is a Position representing the same location.\"\"\"\n",
    "            return type(other) is type(self) and other._node is self._node\n",
    "        \n",
    "        def __ne__(self, other):\n",
    "            \"\"\"Return True if other does not represent the same location.\"\"\"\n",
    "            return not (self == other)    # opposite of __eq__\n",
    "        \n",
    "    # ---------- utility method ----------\n",
    "    def _validate(self, p):\n",
    "        \"\"\"Return position's node, or raise appropriate error if invalid.\"\"\"\n",
    "        if not isinstance(p, self.Position):\n",
    "            raise TypeError('p must be proper Position type')\n",
    "        if p._container is not self:\n",
    "            raise ValueError('p does not belong to this container')\n",
    "        if p._node._next is None:    # convention for deprecated nodes\n",
    "            raise ValueError('p is no longer valid')\n",
    "        return p._node\n",
    "    \n",
    "    # ---------- utility method ----------\n",
    "    def _make_postion(self, node):\n",
    "        \"\"\"Return Position instance for given node (or None if sentinel).\"\"\"\n",
    "        if node is self._header or node is self._trailer:\n",
    "            return None    # boundary violation\n",
    "        else:\n",
    "            return self.Position(self, node)     # legitimate position\n",
    "    \n",
    "    # ---------- accessors ----------\n",
    "    def first(self):\n",
    "        \"\"\"Return the first Position in the list (or None if list is empty).\"\"\"\n",
    "        return self._make_postion(self._header._next)\n",
    "    \n",
    "    def last(self):\n",
    "        \"\"\"Return the last Position in the list (or None if list is empty).\"\"\"\n",
    "        return self._make_postion(self._trailer._prev)\n",
    "    \n",
    "    def before(self, p):\n",
    "        \"\"\"Return the Position just before Position p (or None if p is first).\"\"\"\n",
    "        node = self._validate(p)\n",
    "        return self._make_postion(node._prev)\n",
    "    \n",
    "    def after(self, p):\n",
    "        \"\"\"Return the Position just before Position p (or None if p if last).\"\"\"\n",
    "        node = self._validate(p)\n",
    "        return self._make_postion(node._next)\n",
    "    \n",
    "    def __iter__(self):\n",
    "        \"\"\"Generate a forward iteration of the elements of the list.\"\"\"\n",
    "        cursor = self.first()\n",
    "        while cursor is not None:\n",
    "            yield cursor.element()\n",
    "            cursor = self.after(cursor)\n",
    "\n",
    "    # ---------- mutators ----------\n",
    "    # overwrite inherited version to return Position, rather than Node\n",
    "    def _insert_between(self, e, predecessor, successor):\n",
    "        \"\"\"Add element between existing nodes and return new Position.\"\"\"\n",
    "        node = super()._insert_between(e, predecessor, successor)\n",
    "        return self._make_position(node)\n",
    "    \n",
    "    def add_first(self, e):\n",
    "        \"\"\"Insert element e at the front of the list and return new Position.\"\"\"\n",
    "        return self._insert_between(e, self._header, self._header._next)\n",
    "    \n",
    "    def add_last(self, e):\n",
    "        \"\"\"Insert element e into list before Position p and return new Position.\"\"\"\n",
    "        return self._insert_between(e, self._trailer._prev, self._trailer)\n",
    "    \n",
    "    def add_before(self, p, e):\n",
    "        \"\"\"Insert element e into list before Position p and return new Position.\"\"\"\n",
    "        original = self._validate(p)\n",
    "        return self._insert_between(e, original._prev, original)\n",
    "    \n",
    "    def add_after(self, p, e):\n",
    "        \"\"\"Insert element e into list after Position p and return new Position.\"\"\"\n",
    "        original = self._validate(p)\n",
    "        return self._insert_between(e, original, original._next)\n",
    "    \n",
    "    def delete(self, p):\n",
    "        \"\"\"Return and return the element at Position p.\"\"\"\n",
    "        original = self._validate(p)\n",
    "        return self._delete_node(original)    # inherited method returns element\n",
    "    \n",
    "    def replace(self, p, e):\n",
    "        \"\"\"Replace the element at Position p with e.\n",
    "        \n",
    "        Return the element fromerly at Position p.\n",
    "        \"\"\"\n",
    "        original = self._validate(p)\n",
    "        old_value = original._element    # temporarily store old element\n",
    "        original._element = e            # replace with new element\n",
    "        return old_value                 # return the old element value"
   ]
  },
  {
   "cell_type": "code",
   "execution_count": null,
   "metadata": {},
   "outputs": [],
   "source": []
  },
  {
   "cell_type": "markdown",
   "metadata": {},
   "source": [
    "***"
   ]
  },
  {
   "cell_type": "markdown",
   "metadata": {},
   "source": [
    "R-7.1 给出在单向链表中找到第二个节点到最后一个节点的算法，其中最后一个节点的next指针指向空。"
   ]
  },
  {
   "cell_type": "markdown",
   "metadata": {},
   "source": [
    "> Python为实现$__len__$和$__getitem__$的类提供了一个自动的迭代器。"
   ]
  },
  {
   "cell_type": "markdown",
   "metadata": {},
   "source": [
    "> 集合的迭代器（iterator）提供了一个关键行为：它支持一个名为$__next__$的特殊方法，如果集合中有下一元素，该方法返回该元素，否则产生一个StopIteration异常来表明没有下一元素。"
   ]
  },
  {
   "cell_type": "code",
   "execution_count": 93,
   "metadata": {},
   "outputs": [],
   "source": [
    "def penultimate_node(the_list):\n",
    "    if len(the_list) < 2:\n",
    "        raise ValueError('list must have 2 or more entries')\n",
    "    walk = the_list._head._next\n",
    "    while walk._next != None:\n",
    "        #print(walk._element)\n",
    "        yield walk._element\n",
    "        walk = walk._next\n",
    "    yield walk._element"
   ]
  },
  {
   "cell_type": "code",
   "execution_count": 97,
   "metadata": {},
   "outputs": [
    {
     "name": "stdout",
     "output_type": "stream",
     "text": [
      "1\n",
      "2\n",
      "3\n",
      "4\n",
      "5\n",
      "6\n",
      "7\n",
      "8\n",
      "9\n"
     ]
    }
   ],
   "source": [
    "linkedStack = LinkedQueue()\n",
    "for i in range(10):\n",
    "    linkedStack.enqueue(i)\n",
    "for element in penultimate_node(linkedStack):\n",
    "    print(element)"
   ]
  },
  {
   "cell_type": "markdown",
   "metadata": {},
   "source": [
    "R-7.2 给出将两个单向链表L和M合并成一个新的单向链表L'的算法，只给出每个列表的一个头节点的指针，链表L'包括L和M的所有节点，且所有来自M的节点都在L的节点之后。"
   ]
  },
  {
   "cell_type": "code",
   "execution_count": 110,
   "metadata": {},
   "outputs": [],
   "source": [
    "def concatenate(L, M):\n",
    "    walk = L._head\n",
    "    while walk._next is not None:\n",
    "        walk = walk._next\n",
    "    walk._next = M._head\n",
    "    M._head = None"
   ]
  },
  {
   "cell_type": "code",
   "execution_count": 111,
   "metadata": {},
   "outputs": [
    {
     "name": "stdout",
     "output_type": "stream",
     "text": [
      "10\n",
      "10\n"
     ]
    }
   ],
   "source": [
    "L = LinkedQueue()\n",
    "M = LinkedQueue()\n",
    "for i in range(10):\n",
    "    L.enqueue(i)\n",
    "for i in range(10, 20):\n",
    "    M.enqueue(i)\n",
    "concatenate(L, M)\n",
    "print(len(L))\n",
    "print(len(M))"
   ]
  },
  {
   "cell_type": "markdown",
   "metadata": {},
   "source": [
    "R-7.3 给出计算一个单向链表所有节点数量的递归方法。"
   ]
  },
  {
   "cell_type": "code",
   "execution_count": 117,
   "metadata": {},
   "outputs": [],
   "source": [
    "def count(node):\n",
    "    if node is None:\n",
    "        return 0\n",
    "    else:\n",
    "        return 1 + count(node._next)"
   ]
  },
  {
   "cell_type": "code",
   "execution_count": 119,
   "metadata": {},
   "outputs": [
    {
     "name": "stdout",
     "output_type": "stream",
     "text": [
      "10\n"
     ]
    }
   ],
   "source": [
    "linkedStack = LinkedQueue()\n",
    "for i in range(10):\n",
    "    linkedStack.enqueue(i)\n",
    "print(count(linkedStack._head))"
   ]
  },
  {
   "cell_type": "markdown",
   "metadata": {},
   "source": [
    "R-7.4 在仅给出两个节点x和y的指针的情况下，详细描述怎样在一个单向链表中交换这两个节点（注意：不仅仅是交换两个节点的内容）。在L是双链表的情况下重复这个练习，哪个算法更耗时？"
   ]
  },
  {
   "cell_type": "markdown",
   "metadata": {},
   "source": [
    "为单链表执行交换将比为双链表执行交换需要更长的时间。"
   ]
  },
  {
   "cell_type": "markdown",
   "metadata": {},
   "source": [
    "实现精确的解决方案需要非常小心，尤其是当x和y彼此相邻时。然而，关于效率的问题是，为了在单个链接中交换x和y，我们必须定位紧靠x和y之前的节点，并且我们没有快速的方法来这样做。"
   ]
  },
  {
   "cell_type": "markdown",
   "metadata": {},
   "source": [
    "R-7.5 实现统计一个循环链表节点个数的函数。"
   ]
  },
  {
   "cell_type": "code",
   "execution_count": 3,
   "metadata": {},
   "outputs": [],
   "source": [
    "    def __len__(self):\n",
    "        if self._tail is None:\n",
    "            return 0\n",
    "        walk = self._tail._next\n",
    "        count = 1\n",
    "        while walk != self._tail:\n",
    "            count += 1\n",
    "            walk = walk._next\n",
    "        return count"
   ]
  },
  {
   "cell_type": "markdown",
   "metadata": {},
   "source": [
    "R-7.6 假定x和y是循环链表的节点，但不必属于同一个链表。请给出一个快速有效的算法，判断x和y是否来自同一个链表。"
   ]
  },
  {
   "cell_type": "markdown",
   "metadata": {},
   "source": [
    "R-7.7 对于一个非空队列，我们在7.2.2节的CircularQueue类中给出了一个与Q.enqueue(Q.dequeue())语义相似的rotate()方法。在不创建任何新节点的情况下为7.1.2节的LinkedQueue类实现一个相似的方法。"
   ]
  },
  {
   "cell_type": "code",
   "execution_count": 7,
   "metadata": {},
   "outputs": [],
   "source": [
    "    def rotate(self):\n",
    "        if not self.is_empty():\n",
    "            self._tail._next = self._head    # connect tail head\n",
    "            self._head = self._head._next    # rotate\n",
    "            self._tail = self._tail._next    # rotate\n",
    "            self._tail._next = None          # let new tail's next to be none"
   ]
  },
  {
   "cell_type": "markdown",
   "metadata": {},
   "source": [
    "R-7.8 通过连接跳跃，给出寻找一个双向链表的中间节点的给递归算法。在节点数是偶数的情况下，链表的中间节点指的是中间偏左的节点（注意：这个方法必须使用链接跳跃，不能使用一个计数器），并指出这个方法的运行时间。"
   ]
  },
  {
   "cell_type": "code",
   "execution_count": 18,
   "metadata": {},
   "outputs": [],
   "source": [
    "    def middle(self):\n",
    "        if self._size == 0:\n",
    "            raise ValueError('list must be nonempty')\n",
    "        middle = self._header._next\n",
    "        partner = self._trailer._prev\n",
    "        while middle != partner and middle._next != partner:\n",
    "            middle = middle._next\n",
    "            partner = partner._prev\n",
    "        return middle"
   ]
  },
  {
   "cell_type": "markdown",
   "metadata": {},
   "source": [
    "R-7.9 给出含有头、尾哨兵，将两个双向链表L和M合并为L'的高效算法。"
   ]
  },
  {
   "cell_type": "code",
   "execution_count": 1,
   "metadata": {},
   "outputs": [],
   "source": [
    "def concatenate(L, M):\n",
    "    walk = L._head\n",
    "#     while walk._next._next != None:     # find the last node that before the L's tail\n",
    "#         walk = walk._next\n",
    "    walk._next = M._head"
   ]
  },
  {
   "cell_type": "code",
   "execution_count": 1,
   "metadata": {},
   "outputs": [],
   "source": [
    "def concatenate(L, M):\n",
    "    L_right = L._trailer._prev    # the node that indicate the last node before old L's trailer\n",
    "    M_left = M._header._next      # the node that indicate the first node after old M's header\n",
    "    L_right._next = M_left        # M_left becomes the next of L_right\n",
    "    M_left._prev = L_right        # L_right becomes the prev of M_left\n",
    "    L._trailer = None             # relese old L's trailer\n",
    "    M._header = None              # relese old M's header\n",
    "    L._size += M._size            # update new L's size\n",
    "    L._trailer = M._trailer       # old M's trailer becomes the trailer of new L"
   ]
  },
  {
   "cell_type": "markdown",
   "metadata": {},
   "source": [
    "R-7.11 实现一个成为max(L)的函数，返回包含一系列可比较元素的PositionalList实例L中的最大元素。"
   ]
  },
  {
   "cell_type": "code",
   "execution_count": 6,
   "metadata": {},
   "outputs": [],
   "source": [
    "def max(the_list):\n",
    "    if len(the_list) == 0:\n",
    "        raise ValueError('list must be nonempty')\n",
    "    best = walk = the_list.first()\n",
    "    while walk is not None:\n",
    "        if walk.element() > best.element():\n",
    "            best = walk\n",
    "    return best.element()"
   ]
  },
  {
   "cell_type": "markdown",
   "metadata": {},
   "source": [
    "R-7.12 重做上述练习，将max作为方法放入带有信息链表的类中，以支持方法L.max()的调用。"
   ]
  },
  {
   "cell_type": "code",
   "execution_count": 7,
   "metadata": {},
   "outputs": [],
   "source": [
    "    def max(the_list):\n",
    "        if self._size == 0:\n",
    "            raise ValueError('list must be nonempty')\n",
    "        best = walk = self.first()\n",
    "        while walk is not None:\n",
    "            if walk.element() > best.element():\n",
    "                best = walk\n",
    "        return best.element()"
   ]
  },
  {
   "cell_type": "markdown",
   "metadata": {},
   "source": [
    "R-7.13 更新PositionalList类，使其能够支持方法find(e)，该方法将返回元素e（第一次出现）在链表中的位置（如果没有发现，则返回None）。"
   ]
  },
  {
   "cell_type": "code",
   "execution_count": 9,
   "metadata": {},
   "outputs": [],
   "source": [
    "    def find(self, e):\n",
    "        walk = self._header._next\n",
    "        while walk is not self._trailer and walk.element != e:\n",
    "            walk = walk._next\n",
    "        if walk is self._trailer:\n",
    "            return None\n",
    "        else:\n",
    "            return self.Position(self, walk)    # return a Position instance"
   ]
  },
  {
   "cell_type": "markdown",
   "metadata": {},
   "source": [
    "R-7.14 运用递归方法重复刚才的练习。实现方法不要包含任何循环。并说明该方法除了链表L所占的空间外还需要占用多少额外的空间。"
   ]
  },
  {
   "cell_type": "code",
   "execution_count": null,
   "metadata": {},
   "outputs": [],
   "source": []
  }
 ],
 "metadata": {
  "kernelspec": {
   "display_name": "Python 3",
   "language": "python",
   "name": "python3"
  },
  "language_info": {
   "codemirror_mode": {
    "name": "ipython",
    "version": 3
   },
   "file_extension": ".py",
   "mimetype": "text/x-python",
   "name": "python",
   "nbconvert_exporter": "python",
   "pygments_lexer": "ipython3",
   "version": "3.8.3"
  },
  "toc": {
   "base_numbering": 1,
   "nav_menu": {},
   "number_sections": true,
   "sideBar": true,
   "skip_h1_title": false,
   "title_cell": "Table of Contents",
   "title_sidebar": "Contents",
   "toc_cell": false,
   "toc_position": {
    "height": "calc(100% - 180px)",
    "left": "10px",
    "top": "150px",
    "width": "262px"
   },
   "toc_section_display": true,
   "toc_window_display": true
  }
 },
 "nbformat": 4,
 "nbformat_minor": 4
}
