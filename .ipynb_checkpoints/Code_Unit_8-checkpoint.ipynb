{
 "cells": [
  {
   "cell_type": "markdown",
   "metadata": {},
   "source": [
    "代码段8-1 树的抽象基类的一部分（后接代码段8-2）"
   ]
  },
  {
   "cell_type": "code",
   "execution_count": 3,
   "metadata": {},
   "outputs": [],
   "source": [
    "class Tree:\n",
    "    \"\"\"Abstract base class representing a tree structure.\"\"\"\n",
    "    \n",
    "    # ---------- nested Position class ----------\n",
    "    class Position:\n",
    "        \"\"\"An abstraction representing the location of a single element.\"\"\"\n",
    "        def element(self):\n",
    "            raise NotImplementedError('must be implemented by subclass')\n",
    "        \n",
    "        def __eq__(self, other):\n",
    "            \"\"\"Return True if other Position represents the same location.\"\"\"\n",
    "            raise NotImplementedError('must be implemented by subclass')\n",
    "        \n",
    "        def __ne__(self, other):\n",
    "            \"\"\"Return True if other does not represent the same location.\"\"\"\n",
    "            return not (self == other)    # opposite of __eq__\n",
    "        \n",
    "    # ---------- abstract methods that concrete subclass must support ----------\n",
    "    def root(self):\n",
    "        \"\"\"Return Position representing the tree's root (or None if empty).\"\"\"\n",
    "        raise NotImplementedError('must be implemented by subclass')\n",
    "    \n",
    "    def parent(self, p):\n",
    "        \"\"\"Return Position representing the tree's parent (or None if p is root).\"\"\"\n",
    "        raise NotImplementedError('must be implemented by subclass')\n",
    "    \n",
    "    def num_children(self, p):\n",
    "        \"\"\"Return the number of children that Position p has.\"\"\"\n",
    "        raise NotImplementedError('must be implemented by subclass')\n",
    "    \n",
    "    def children(self, p):\n",
    "        \"\"\"Generate an iteration of Positions representing p's children.\"\"\"\n",
    "        raise NotImplementedError('must be implemented by subclass')\n",
    "    \n",
    "    def __len__(self):\n",
    "        \"\"\"Return the total number of elements in the tree.\"\"\"\n",
    "        raise NotImplementedError('must be implemented by subclass')\n",
    "    \n",
    "    # ---------- concrete methods implemented in this class ----------\n",
    "    def is_root(self, p):\n",
    "        \"\"\"Return True if Position p represents the root of the tree.\"\"\"\n",
    "        return self.root() == p\n",
    "    \n",
    "    def is_leaf(self, p):\n",
    "        \"\"\"Return True if Position p does not have any children.\"\"\"\n",
    "        return self.num_children(p) == 0\n",
    "    \n",
    "    def is_empty(self):\n",
    "        \"\"\"Return True if the tree is empty.\"\"\"\n",
    "        return len(self) == 0"
   ]
  },
  {
   "cell_type": "markdown",
   "metadata": {},
   "source": [
    "**深度**"
   ]
  },
  {
   "cell_type": "markdown",
   "metadata": {},
   "source": [
    "树T中节点p的深度的定义："
   ]
  },
  {
   "cell_type": "markdown",
   "metadata": {},
   "source": [
    "p的深度同样也可以按如下递归定义：\n",
    " * 如果p是根节点，那么p的深度为0。\n",
    " * 否则，p的深度就是其父节点的深度加1。"
   ]
  },
  {
   "cell_type": "markdown",
   "metadata": {},
   "source": [
    "代码段8-3 树类中计算深度的算法"
   ]
  },
  {
   "cell_type": "code",
   "execution_count": 4,
   "metadata": {},
   "outputs": [],
   "source": [
    "    def depth(self, p):\n",
    "        \"\"\"Return the number of levels separating Position p from the root.\"\"\"\n",
    "        if self.is_root(p):\n",
    "            return 0\n",
    "        else:\n",
    "            return 1 + self.depth(self.parent(p))"
   ]
  },
  {
   "cell_type": "markdown",
   "metadata": {},
   "source": [
    "**高度**"
   ]
  },
  {
   "cell_type": "markdown",
   "metadata": {},
   "source": [
    "树T中节点p的高度的定义如下：\n",
    " * 如果p是一个叶子节点，那么它的高度为0。\n",
    " * 否则，p的高度是它孩子节点中的最大高度加1。"
   ]
  },
  {
   "cell_type": "markdown",
   "metadata": {},
   "source": [
    "命题8-4 Tree类中的方法_height1。需要注意的是，该方法调用了计算深度的算法"
   ]
  },
  {
   "cell_type": "code",
   "execution_count": null,
   "metadata": {},
   "outputs": [],
   "source": [
    "    def _height1(self):\n",
    "        \"\"\"Return the height of the tree.\"\"\"\n",
    "        return max(self.depth(p) for p in self.positions() if self.is_leaf(p))"
   ]
  },
  {
   "cell_type": "markdown",
   "metadata": {},
   "source": [
    "代码段8-5 计算一个以p节点为根节点的子树的高度"
   ]
  },
  {
   "cell_type": "code",
   "execution_count": 7,
   "metadata": {},
   "outputs": [],
   "source": [
    "    def _height2(self, p):    # time is linear in size of subtree\n",
    "        \"\"\"Return the height of the subtree rooted at Position p.\"\"\"\n",
    "        if self.is_leaf(p):\n",
    "            return 0\n",
    "        else:\n",
    "            return 1 + max(self._height2(c) for c in self.children(p))"
   ]
  },
  {
   "cell_type": "markdown",
   "metadata": {},
   "source": [
    "代码段8-6 计算整个树或者一个给定位置作为根节点的子树的高度的Tree.height方法"
   ]
  },
  {
   "cell_type": "code",
   "execution_count": 6,
   "metadata": {},
   "outputs": [],
   "source": [
    "    def height(self, p=None):\n",
    "        \"\"\"Return the height of the subtree rooted at Position p.\n",
    "        \n",
    "        If p is None, return the height of the entire tree.\n",
    "        \"\"\"\n",
    "        if p is None:\n",
    "            p = self.root()\n",
    "        return self._height2(p)    # start _height2 recursion"
   ]
  },
  {
   "cell_type": "markdown",
   "metadata": {},
   "source": [
    "**二叉树**"
   ]
  },
  {
   "cell_type": "markdown",
   "metadata": {},
   "source": [
    "二叉树是具有以下属性的有序树：\n",
    "\n",
    "1）每个节点最多有两个孩子节点。\n",
    "\n",
    "2）每个孩子节点被命名为*左孩子*或者*右孩子*。\n",
    "\n",
    "3）对于每个节点的孩子节点，在顺序上，左孩子先于右孩子。"
   ]
  },
  {
   "cell_type": "markdown",
   "metadata": {},
   "source": [
    "若子树的根为内部节点v的左孩子或右孩子，则该子树相应地被称为节点v的*左子树*或*右子树*。"
   ]
  },
  {
   "cell_type": "markdown",
   "metadata": {},
   "source": [
    "若每个节点都有零个或者两个节点，则这样的二叉树为*完全二叉树*。一些人也把这种树称为*满二叉树*。"
   ]
  },
  {
   "cell_type": "markdown",
   "metadata": {},
   "source": [
    "**递归二叉树的定义**"
   ]
  },
  {
   "cell_type": "markdown",
   "metadata": {},
   "source": [
    "使用递归方式定义二叉树，此时二叉树或者为空树，或者由以下条件组成：\n",
    " * 二叉树T的根为节点r，其存储一个元素。\n",
    " * 二叉树（可能为空）称为T的左子树。\n",
    " * 二叉树（可能为空）称为T的右子树。"
   ]
  },
  {
   "cell_type": "markdown",
   "metadata": {},
   "source": [
    "代码段8-7 从代码段8-1和8-2已存在的Tree抽象基类中扩展的BinaryTree抽象基类"
   ]
  },
  {
   "cell_type": "code",
   "execution_count": 7,
   "metadata": {},
   "outputs": [],
   "source": [
    "class BinaryTree(Tree):\n",
    "    \"\"\"Abstract base class representing a binary tree structure.\"\"\"\n",
    "    \n",
    "    # ---------- addational abstract methods ----------\n",
    "    def left(self, p):\n",
    "        \"\"\"Return a Position representing p's left child.\n",
    "        \n",
    "        Return None if p does not have a left child.\n",
    "        \"\"\"\n",
    "        raise NotImplementedErrore('must be implemented by subclass')\n",
    "    \n",
    "    def right(self, p):\n",
    "        \"\"\"Return a Position representing p's right child.\n",
    "        \n",
    "        Return None if p does not have a right child.\n",
    "        \"\"\"\n",
    "        raise NotImplementedErrore('must be implemented by subclass')\n",
    "    \n",
    "    # ---------- concrete methods implemented in this class ----------\n",
    "    def sibling(self, p):\n",
    "        \"\"\"Return a Position representing p's sibing (or None if no sibling).\"\"\"\n",
    "        parent = self.parent(p)\n",
    "        if parent is None:    # p must be the root\n",
    "            return None       # root has no sibling\n",
    "        else:\n",
    "            if p == self.left(parent):\n",
    "                return self.right(parent)    # possibly None\n",
    "            else:\n",
    "                return self.left(parent)     # possibly None\n",
    "    \n",
    "    def children(self, p):\n",
    "        \"\"\"Generate an iteration of Position representing p's children.\"\"\"\n",
    "        if self.left(p) is not None:\n",
    "            yield self.left(p)\n",
    "        if self.right(p) is not None:\n",
    "            yield self.right(p)"
   ]
  },
  {
   "cell_type": "markdown",
   "metadata": {},
   "source": [
    "代码段8-8 LinkedBinaryTree类的开始（后接代码段8-9~8-11）"
   ]
  },
  {
   "cell_type": "code",
   "execution_count": 3,
   "metadata": {},
   "outputs": [
    {
     "ename": "NameError",
     "evalue": "name 'BinaryTree' is not defined",
     "output_type": "error",
     "traceback": [
      "\u001b[1;31m---------------------------------------------------------------------------\u001b[0m",
      "\u001b[1;31mNameError\u001b[0m                                 Traceback (most recent call last)",
      "\u001b[1;32m<ipython-input-3-2865f7b8dda6>\u001b[0m in \u001b[0;36m<module>\u001b[1;34m\u001b[0m\n\u001b[1;32m----> 1\u001b[1;33m \u001b[1;32mclass\u001b[0m \u001b[0mLinkedBinaryTree\u001b[0m\u001b[1;33m(\u001b[0m\u001b[0mBinaryTree\u001b[0m\u001b[1;33m)\u001b[0m\u001b[1;33m:\u001b[0m\u001b[1;33m\u001b[0m\u001b[1;33m\u001b[0m\u001b[0m\n\u001b[0m\u001b[0;32m      2\u001b[0m     \u001b[1;34m\"\"\"Linked representation of a binary tree structure.\"\"\"\u001b[0m\u001b[1;33m\u001b[0m\u001b[1;33m\u001b[0m\u001b[0m\n\u001b[0;32m      3\u001b[0m \u001b[1;33m\u001b[0m\u001b[0m\n\u001b[0;32m      4\u001b[0m     \u001b[1;32mclass\u001b[0m \u001b[0m_Node\u001b[0m\u001b[1;33m:\u001b[0m    \u001b[1;31m# Lightweight, nonpublic class for storing a node.\u001b[0m\u001b[1;33m\u001b[0m\u001b[1;33m\u001b[0m\u001b[0m\n\u001b[0;32m      5\u001b[0m         \u001b[0m__slots__\u001b[0m \u001b[1;33m=\u001b[0m \u001b[1;34m'_element'\u001b[0m\u001b[1;33m,\u001b[0m \u001b[1;34m'_parent'\u001b[0m\u001b[1;33m,\u001b[0m \u001b[1;34m'_left'\u001b[0m\u001b[1;33m,\u001b[0m \u001b[1;34m'_right'\u001b[0m\u001b[1;33m\u001b[0m\u001b[1;33m\u001b[0m\u001b[0m\n",
      "\u001b[1;31mNameError\u001b[0m: name 'BinaryTree' is not defined"
     ]
    }
   ],
   "source": [
    "class LinkedBinaryTree(BinaryTree):\n",
    "    \"\"\"Linked representation of a binary tree structure.\"\"\"\n",
    "    \n",
    "    class _Node:    # Lightweight, nonpublic class for storing a node.\n",
    "        __slots__ = '_element', '_parent', '_left', '_right'\n",
    "        def __init__(self, element, parent=None, left=None, right=None):\n",
    "            self._element = element\n",
    "            self._parent = parent\n",
    "            self._left = left\n",
    "            self._right = right\n",
    "    \n",
    "    class Position(BinaryTree.Position):\n",
    "        \"\"\"An abstraction representing the location of a single element.\"\"\"\n",
    "        \n",
    "        def __init__(self, container, node):\n",
    "            \"\"\"Constructor should not be invoked by user.\"\"\"\n",
    "            self._container = container\n",
    "            self._node = node\n",
    "        \n",
    "        def element(self):\n",
    "            \"\"\"Return the element stored at this Position.\"\"\"\n",
    "            return self._node._element\n",
    "        \n",
    "        def __eq__(self, other):\n",
    "            \"\"\"Return True if other is a Position representing the same location.\"\"\"\n",
    "            return type(other) is type(self) and other._node is self._node\n",
    "    \n",
    "    def _validate(self, p):\n",
    "        \"\"\"Return associated node, if position is valid.\"\"\"\n",
    "        if not isinstance(p, self.Position):\n",
    "            raise TypeError('p must be proper Position type.')\n",
    "        if p._container is not self:\n",
    "            raise ValueError('p does not belong to this container')\n",
    "        if p._node._parent is p._node:    # convention for deprecated nodes\n",
    "            raise ValueError('p is no longer valid')\n",
    "        return p._node\n",
    "    \n",
    "    def _make_position(self, node):\n",
    "        \"\"\"Return Position instance for given node (or None if no node).\"\"\"\n",
    "        return self.Position(self, node) if node is not None else None"
   ]
  },
  {
   "cell_type": "markdown",
   "metadata": {},
   "source": [
    "代码段8-9 LinkedBinaryTree类的公开访问方法。该类从代码段8-8开始，且在代码段8-10和8-11中继续"
   ]
  },
  {
   "cell_type": "code",
   "execution_count": 4,
   "metadata": {},
   "outputs": [],
   "source": [
    "    # ---------- binary tree constructor ----------\n",
    "    def __init__(self):\n",
    "        \"\"\"Create an initially empty binary tree.\"\"\"\n",
    "        self._root = None\n",
    "        self._size = 0\n",
    "    \n",
    "    # ---------- public accessors ----------\n",
    "    def __len__(self):\n",
    "        \"\"\"Return the total number of elements in the tree.\"\"\"\n",
    "        return self._size\n",
    "    \n",
    "    def root(self):\n",
    "        \"\"\"Return the root Position of the tree (or None if tree is empty).\"\"\"\n",
    "        return self._make_position(self._root)\n",
    "    \n",
    "    def parent(self, p):\n",
    "        \"\"\"Return the Position of p's parent(or None if p is root).\"\"\"\n",
    "        node = self._validate(p)\n",
    "        return self._make_position(node._parent)\n",
    "    \n",
    "    def left(self, p):\n",
    "        \"\"\"Return the Position of p's left child (or None if no left child).\"\"\"\n",
    "        node = self._validate(p)\n",
    "        return self._make_position(node._left)\n",
    "    \n",
    "    def right(self, p):\n",
    "        \"\"\"Return the Position of p's right (or None if no right child).\"\"\"\n",
    "        node = self._validate(p)\n",
    "        return self._make_position(node._right)\n",
    "    \n",
    "    def num_children(self, p):\n",
    "        \"\"\"Return the number of children of Position p.\"\"\"\n",
    "        node = self._validate(p)\n",
    "        count = 0\n",
    "        if node._left is not None:    # left child exists\n",
    "            count += 1\n",
    "        if node._right is not None:   # right child exists\n",
    "            count += 1\n",
    "        return count"
   ]
  },
  {
   "cell_type": "markdown",
   "metadata": {},
   "source": [
    "代码段8-10 LinkedBinaryTree类的非公开更新方法（后接代码段8-11）"
   ]
  },
  {
   "cell_type": "code",
   "execution_count": 5,
   "metadata": {},
   "outputs": [],
   "source": [
    "    def _add_root(self, e):\n",
    "        \"\"\"Place element e at the root of an empty tree and return new Position.\n",
    "\n",
    "        Raise ValueError if tree nonempty.\n",
    "        \"\"\"\n",
    "        if self._root is not None:\n",
    "            raise ValueError('Root exists')\n",
    "        self._size = 1\n",
    "        self._root = self._Node(e)\n",
    "        return self._make_position(self._root)\n",
    "    \n",
    "    def _add_left(self, p, e):\n",
    "        \"\"\"Create a new left child for Position p, storing element e.\n",
    "        \n",
    "        Return the Position of new node.\n",
    "        Raise ValueError if Position p is invalid or already has a left child.\n",
    "        \"\"\"\n",
    "        node = self._validate(p)\n",
    "        if node._left is not None:\n",
    "            raise ValueError('Left child exists')\n",
    "        self._size += 1\n",
    "        node._left = self._Node(e, node)    # node is its parent\n",
    "        return self._make_position(node._left)\n",
    "    \n",
    "    def _add_right(self, p, e):\n",
    "        \"\"\"Create a new right child for Position p, storing element e.\n",
    "        \n",
    "        Return the Position of new node.\n",
    "        Raise ValueError if Position p is invalid or already has a right child.\n",
    "        \"\"\"\n",
    "        node = self._validate(p)\n",
    "        if node._right is not None:\n",
    "            raise ValueError('Right child exists')\n",
    "        self._size += 1\n",
    "        node._right = self._Node(e, node)    # node is its parent\n",
    "        return self._make_position(node._right)\n",
    "    \n",
    "    def _replace(self, p, e):\n",
    "        \"\"\"Replace the element at position p with e, and return old element.\"\"\"\n",
    "        node = self._validate(p)\n",
    "        old = node._element\n",
    "        node._element = e\n",
    "        return old"
   ]
  },
  {
   "cell_type": "markdown",
   "metadata": {},
   "source": [
    "代码段8-11 LinkedBinaryTree类的非公开更新方法（接代码段8-10）"
   ]
  },
  {
   "cell_type": "code",
   "execution_count": 6,
   "metadata": {},
   "outputs": [],
   "source": [
    "    def _delete(self, p):\n",
    "        \"\"\"Delete the node at Position p, and replace it with its child, if any.\n",
    "        \n",
    "        Return the element that had been stored at Position p.\n",
    "        Raise ValueError if Position p is invalid or p has two children.\n",
    "        \"\"\"\n",
    "        node = self._validate(p)\n",
    "        if self.num_children(p) == 2:\n",
    "            raise ValueError('p has two children')\n",
    "        child = node._left if node._left else node._right    # might be None\n",
    "        if child is not None:\n",
    "            child._parent = node._parent     # child's grandparent becomes parent\n",
    "        if node is self._root:\n",
    "            self._root = child    # child becomes root\n",
    "        else:\n",
    "            parent = node._parent\n",
    "            if node is parent._left:\n",
    "                parent._left = child\n",
    "            else:\n",
    "                parent._right = child\n",
    "        self._size -= 1\n",
    "        node._parent = node    # convention for deprecated node\n",
    "        return node._element\n",
    "    \n",
    "    def _attach(self, p, t1, t2):\n",
    "        \"\"\"Attach trees t1 and t2 as left and right subtrees of ecternal p.\"\"\"\n",
    "        node = self._validate(p)\n",
    "        if not self.is_leaf(p):\n",
    "            raise ValueError('position must be leaf')\n",
    "        if not type(self) is type(t1) is type(t2):    # all 3 trees must be same type\n",
    "            raise TypeError('Tree types must match')\n",
    "        self._size += len(t1) + len(t2)\n",
    "        if not t1.is_empty():    # attached t1 as left subtree of node\n",
    "            t1._root._parent = node\n",
    "            node.left = t1._root\n",
    "            t1._root = None    # set t1 instance to empty\n",
    "            t1._size = 0\n",
    "        if not t2.is_empty():    # attached t2 as left subtree of node\n",
    "            t2._root._parent = node\n",
    "            node.left = t2._root\n",
    "            t2._root = None    # set t2 instance to empty\n",
    "            t2._size = 0"
   ]
  },
  {
   "cell_type": "markdown",
   "metadata": {},
   "source": [
    "**树的先序遍历**"
   ]
  },
  {
   "cell_type": "markdown",
   "metadata": {},
   "source": [
    "在树$T$的*先序遍历*中，首先访问$T$的根，然后递归地访问子树的根。如果这棵树是有序的，则根据孩子的顺序遍历子树。"
   ]
  },
  {
   "cell_type": "markdown",
   "metadata": {},
   "source": [
    "先遍历根，再遍历孩子。"
   ]
  },
  {
   "cell_type": "markdown",
   "metadata": {},
   "source": [
    "**树的后序遍历**"
   ]
  },
  {
   "cell_type": "markdown",
   "metadata": {},
   "source": [
    "在树$T$的*后续遍历*中，这种算法可以看作相反的先序遍历，因为它优先遍历子树的根，即首先从孩子的根开始，然后访问根（因此叫做后序）。"
   ]
  },
  {
   "cell_type": "markdown",
   "metadata": {},
   "source": [
    "先遍历孩子，再遍历根。"
   ]
  },
  {
   "cell_type": "markdown",
   "metadata": {},
   "source": [
    "**树的广度优先遍历**"
   ]
  },
  {
   "cell_type": "markdown",
   "metadata": {},
   "source": [
    "在访问深度$d$的位置之前先访问深度$d+1$的位置。"
   ]
  },
  {
   "cell_type": "markdown",
   "metadata": {},
   "source": [
    "**树的中序遍历**"
   ]
  },
  {
   "cell_type": "markdown",
   "metadata": {},
   "source": [
    "在中序遍历中，我们通过递归遍历左右子树去访问一个位置。二叉树的中序遍历可以看作“从左到右”非正式地访问T的节点。事实上，对于每个位置p，p将在其左子树之后及其右子树之前被中序遍历访问。"
   ]
  },
  {
   "cell_type": "markdown",
   "metadata": {},
   "source": [
    "代码段8-16 基于迭代树的位置的所有元素树的实例。这段代码应该包含在Tree类的结构体内"
   ]
  },
  {
   "cell_type": "code",
   "execution_count": 3,
   "metadata": {},
   "outputs": [],
   "source": [
    "    def __iter__(self):\n",
    "        \"\"\"Generate an iteration of the tree's element.\"\"\"\n",
    "        for p in self.positions():    # use same order as positions()\n",
    "            yield p.element()         # but yield each element"
   ]
  },
  {
   "cell_type": "markdown",
   "metadata": {},
   "source": [
    "代码段8-17 支持执行树的先序遍历。这段代码应该包含在Tree类的结构体中"
   ]
  },
  {
   "cell_type": "code",
   "execution_count": 4,
   "metadata": {},
   "outputs": [],
   "source": [
    "    def preorder(self):\n",
    "        \"\"\"Generate a preorder iteration of positions in the tree.\"\"\"\n",
    "        if not self.is_empty():\n",
    "            for p in self._subtree_preorder(self.root()):    # start recursion\n",
    "                yield p\n",
    "    \n",
    "    def _subtree_preorder(self, p):\n",
    "        \"\"\"Generate a preorder iteration of positions in subtree rooted at p.\"\"\"\n",
    "        yield p                                        # visit p before its subtrees\n",
    "        for c in self.children():                      # for each child c\n",
    "            for other in self._subtree_preorder(c):    # do preorder of c's subtree\n",
    "                yield other                            # yielding each to our caller"
   ]
  },
  {
   "cell_type": "markdown",
   "metadata": {},
   "source": [
    "代码段8-18 位置方法依赖于先序遍历产生的结果"
   ]
  },
  {
   "cell_type": "code",
   "execution_count": 5,
   "metadata": {},
   "outputs": [],
   "source": [
    "    def positions(self):\n",
    "        \"\"\"Generate an iteration of the tree's positions.\"\"\"\n",
    "        return self.preorder()    # return entire preorder iteration"
   ]
  },
  {
   "cell_type": "markdown",
   "metadata": {},
   "source": [
    "代码段8-19 支持执行树的后序遍历。这段代码应包含在Tree类的结构体内"
   ]
  },
  {
   "cell_type": "code",
   "execution_count": 7,
   "metadata": {},
   "outputs": [],
   "source": [
    "    def postorder(self):\n",
    "        \"\"\"Generate a postorder iteration of positions in the tree.\"\"\"\n",
    "        if not self.is_empty():\n",
    "            for p in self._subtree_postorder(self.root()):    # start recursion\n",
    "                yield p\n",
    "    \n",
    "    def _subtree_postorder(self, p):\n",
    "        \"\"\"Generate a postorder iteration of positions in subtree rooted at p.\"\"\"\n",
    "        for c in self.children():                      # for each child c\n",
    "            for other in self._subtree_preorder(c):    # do postorder of c's subtree\n",
    "                yield other                            # yielding each to our caller\n",
    "        yield p                                        # visit p after its subtrees"
   ]
  },
  {
   "cell_type": "markdown",
   "metadata": {},
   "source": [
    "代码段8-20 树的广度优先遍历的实现。这段代码应包含在Tree类的结构体内"
   ]
  },
  {
   "cell_type": "code",
   "execution_count": 10,
   "metadata": {},
   "outputs": [],
   "source": [
    "    def breadthfirst(self):\n",
    "        \"\"\"Generate a breadth-first iteration of the postions of the tree.\"\"\"\n",
    "        if not self.is_empty():\n",
    "            fringe = LinkedQueue()       # known positions not yet yielded\n",
    "            fringe.enqueue(self.root())    # starting with the root\n",
    "            while not fringe.is_empty():\n",
    "                p = fringe.dequeue()     # remove from front of the queue\n",
    "                yield p                  # report this position\n",
    "                for c in self.children(p):\n",
    "                    fringe.enqueue(c)    # add children to back of queue"
   ]
  },
  {
   "cell_type": "markdown",
   "metadata": {},
   "source": [
    "代码段8-21 支持执行二叉树的中序遍历，这段代码应包含在BinaryTree类中（代码段8-7中给出）"
   ]
  },
  {
   "cell_type": "code",
   "execution_count": 12,
   "metadata": {},
   "outputs": [],
   "source": [
    "    def inorder(self):\n",
    "        \"\"\"Generate an inorder iteration of positions in the tree.\"\"\"\n",
    "        if not self.is_empty():\n",
    "            for p in self._subtree_inorder(self.root()):\n",
    "                yield p\n",
    "    \n",
    "    def _subtree_inorder(self, p):\n",
    "        \"\"\"Generate an iteration of positions in subtree rooted at p.\"\"\"\n",
    "        if self.left(p) is not None:    # if left child exists, traverse its subtree\n",
    "            for other in self._subtree_inorder(self.left(p)):\n",
    "                yield other\n",
    "        yield p    # visit p between its subtree\n",
    "        if self.right(p) is not None:    # if right child exists, traverses its subtree\n",
    "            for other in self._subtree_inorder(self.right(p)):\n",
    "                yield other"
   ]
  },
  {
   "cell_type": "markdown",
   "metadata": {},
   "source": [
    "代码段8-22 定义二叉树的位置方法以实现中序遍历节点位置"
   ]
  },
  {
   "cell_type": "code",
   "execution_count": 1,
   "metadata": {},
   "outputs": [],
   "source": [
    "    # override inherited version to make inorder the default\n",
    "    def positions(self):\n",
    "        \"\"\"Generate an iteration of tree's positions.\"\"\"\n",
    "        return self.inorder()"
   ]
  },
  {
   "cell_type": "markdown",
   "metadata": {},
   "source": [
    "代码段8-23 用于打印先序遍历的缩进版本的高效递归。在一个完整的树T上，遍历应该从preorder_indent(T, T.root(), 0)开始"
   ]
  },
  {
   "cell_type": "code",
   "execution_count": 2,
   "metadata": {},
   "outputs": [],
   "source": [
    "def preorder_indent(T, p, d):\n",
    "    \"\"\"Print preorder representation of subtree of T rooted at p at depth d.\"\"\"\n",
    "    print(2*d*' ' + str(p.element))    # use depth for indentation\n",
    "    for c in T.children(p):\n",
    "        preorder_indent(T, c, d+1)     # child depth is d+1"
   ]
  },
  {
   "cell_type": "markdown",
   "metadata": {},
   "source": [
    "代码段8-24 用于打印先序遍历的缩进和标记表示"
   ]
  },
  {
   "cell_type": "code",
   "execution_count": 3,
   "metadata": {},
   "outputs": [],
   "source": [
    "def preorder_label(T, p, d, path):\n",
    "    \"\"\"Print labeled representation of subtree of T rooted at p at depth d.\"\"\"\n",
    "    label = '.'.join(str(j+1) for j in path)    # displayed labels are one-indexed\n",
    "    print(2*d*' ' + label, p.element())\n",
    "    path.append(0)\n",
    "    for c in T.children(p):\n",
    "        preorder_label(T, c, d+1, path)    # child depth is d+1\n",
    "        path[-1] += 1\n",
    "    path.pop()"
   ]
  },
  {
   "cell_type": "markdown",
   "metadata": {},
   "source": [
    "代码段8-25 输出树的附加说明字符串表示函数"
   ]
  },
  {
   "cell_type": "code",
   "execution_count": 4,
   "metadata": {},
   "outputs": [],
   "source": [
    "def parenthesize(T, p):\n",
    "    \"\"\"Print parenthesized representation of subtree of T rooted at p.\"\"\"\n",
    "    print(p.element(), end='')    # use of end avoids trailing newline\n",
    "    if not T.is_leaf(p):\n",
    "        first_time = True\n",
    "        for c in T.children(p):\n",
    "            sep = ' (' if first_time else ', '    # determine proper separator\n",
    "            print(sep, end='')\n",
    "            first_time = False    # any future passes will not be the first\n",
    "            parenthesize(T, c)    # recur on child\n",
    "        print(')', end='')        # include closing parenthesis"
   ]
  },
  {
   "cell_type": "markdown",
   "metadata": {},
   "source": [
    "代码段8-26 树的磁盘空间的递归计算，假设每个树元素的space()方法给出在这个位置的本地空间使用情况。"
   ]
  },
  {
   "cell_type": "code",
   "execution_count": 5,
   "metadata": {},
   "outputs": [],
   "source": [
    "def disk_space(T, p):\n",
    "    \"\"\"Return total disk space for subtree of T rooted at p.\"\"\"\n",
    "    subtotal = p.element()._space()    # space used at position p\n",
    "    for c in T.children(p):\n",
    "        subtotal += disk_space(T, c)    # add child's space to subtotal\n",
    "    return subtotal"
   ]
  },
  {
   "cell_type": "markdown",
   "metadata": {},
   "source": [
    "###### Tree"
   ]
  },
  {
   "cell_type": "code",
   "execution_count": 1,
   "metadata": {},
   "outputs": [],
   "source": [
    "class Tree:\n",
    "    \"\"\"Abstract base class representing a tree structure.\"\"\"\n",
    "    \"\"\"表示树结构的抽象基类。\"\"\"\n",
    "    \n",
    "    # ---------- nested Position class ----------\n",
    "    class Position:\n",
    "        \"\"\"An abstraction representing the location of a single element.\"\"\"\n",
    "        \"\"\"表示单个元素位置的抽象。\"\"\"\n",
    "        \n",
    "        def element(self):\n",
    "            raise NotImplementedError('must be implemented by subclass')\n",
    "        \n",
    "        def __eq__(self, other):\n",
    "            \"\"\"Return True if other Position represents the same location.\"\"\"\n",
    "            \"\"\"如果其他位置表示相同的位置，则返回True。\"\"\"\n",
    "            raise NotImplementedError('must be implemented by subclass')\n",
    "        \n",
    "        def __ne__(self, other):\n",
    "            \"\"\"Return True if other does not represent the same location.\"\"\"\n",
    "            \"\"\"如果其他不代表相同的位置，则返回True。\"\"\"\n",
    "            return not (self == other)    # opposite of __eq__\n",
    "        \n",
    "    # ---------- abstract methods that concrete subclass must support ----------\n",
    "    def root(self):\n",
    "        \"\"\"Return Position representing the tree's root (or None if empty).\"\"\"\n",
    "        \"\"\"返回表示树的根的位置（如果为空，则返回None）。\"\"\"\n",
    "        raise NotImplementedError('must be implemented by subclass')\n",
    "    \n",
    "    def parent(self, p):\n",
    "        \"\"\"Return Position representing the tree's parent (or None if p is root).\"\"\"\n",
    "        \"\"\"返回表示树的父级的位置（如果p是根，则返回None）。\"\"\"\n",
    "        raise NotImplementedError('must be implemented by subclass')\n",
    "    \n",
    "    def num_children(self, p):\n",
    "        \"\"\"Return the number of children that Position p has.\"\"\"\n",
    "        \"\"\"返回位置p的孩子数。\"\"\"\n",
    "        raise NotImplementedError('must be implemented by subclass')\n",
    "    \n",
    "    def children(self, p):\n",
    "        \"\"\"Generate an iteration of Positions representing p's children.\"\"\"\n",
    "        \"\"\"生成表示p的孩子的位置的迭代。\"\"\"\n",
    "        raise NotImplementedError('must be implemented by subclass')\n",
    "    \n",
    "    def __len__(self):\n",
    "        \"\"\"Return the total number of elements in the tree.\"\"\"\n",
    "        raise NotImplementedError('must be implemented by subclass')\n",
    "    \n",
    "    # ---------- concrete methods implemented in this class ----------\n",
    "    def is_root(self, p):\n",
    "        \"\"\"Return True if Position p represents the root of the tree.\"\"\"\n",
    "        \"\"\"返回树中元素的总数。\"\"\"\n",
    "        return self.root() == p\n",
    "    \n",
    "    def is_leaf(self, p):\n",
    "        \"\"\"Return True if Position p does not have any children.\"\"\"\n",
    "        \"\"\"如果位置p没有任何孩子，则返回True。\"\"\"\n",
    "        return self.num_children(p) == 0\n",
    "    \n",
    "    def is_empty(self):\n",
    "        \"\"\"Return True if the tree is empty.\"\"\"\n",
    "        \"\"\"如果树为空，则返回True。\"\"\"\n",
    "        return len(self) == 0\n",
    "    \n",
    "    def depth(self, p):\n",
    "        \"\"\"Return the number of levels separating Position p from the root.\"\"\"\n",
    "        \"\"\"返回位置p的深度。\"\"\"\n",
    "        if self.is_root(p):\n",
    "            return 0\n",
    "        else:\n",
    "            return 1 + self.depth(self.parent(p))\n",
    "    \n",
    "    def _height1(self):\n",
    "        \"\"\"Return the height of the tree.\"\"\"\n",
    "        \"\"\"返回树的高度。\"\"\"\n",
    "        return max(self.depth(p) for p in self.positions() if self.is_leaf(p))\n",
    "    \n",
    "    def _height2(self, p):    # time is linear in size of subtree\n",
    "        \"\"\"Return the height of the subtree rooted at Position p.\"\"\"\n",
    "        \"\"\"返回根在位置p的子树的高度。\"\"\"\n",
    "        if self.is_leaf(p):\n",
    "            return 0\n",
    "        else:\n",
    "            return 1 + max(self._height2(c) for c in self.children(p))\n",
    "        \n",
    "    def height(self, p=None):\n",
    "        \"\"\"Return the height of the subtree rooted at Position p.\n",
    "        \n",
    "        If p is None, return the height of the entire tree.\n",
    "        \"\"\"\n",
    "        \"\"\"返回根在位置p的子树的高度。\n",
    "        \n",
    "        如果位置p参数未提供，则返回整棵树的高度。\n",
    "        \"\"\"\n",
    "        if p is None:\n",
    "            p = self.root()\n",
    "        return self._height2(p)    # start _height2 recursion\n",
    "    \n",
    "    def __iter__(self):\n",
    "        \"\"\"Generate an iteration of the tree's element.\"\"\"\n",
    "        \"\"\"生成树元素的迭代。\"\"\"\n",
    "        for p in self.positions():    # use same order as positions()\n",
    "            yield p.element()         # but yield each element\n",
    "    \n",
    "    # ========== 支持执行树的先序遍历 ==========\n",
    "    def preorder(self):\n",
    "        \"\"\"Generate a preorder iteration of positions in the tree.\"\"\"\n",
    "        \"\"\"生成树中位置的先序遍历迭代。\"\"\"\n",
    "        if not self.is_empty():\n",
    "            for p in self._subtree_preorder(self.root()):    # start recursion\n",
    "                yield p\n",
    "    \n",
    "    def _subtree_preorder(self, p):\n",
    "        \"\"\"Generate a preorder iteration of positions in subtree rooted at p.\"\"\"\n",
    "        \"\"\"在以p为根的子树中生成位置的先序遍历迭代。\"\"\"\n",
    "        yield p                                        # visit p before its subtrees\n",
    "        for c in self.children():                      # for each child c\n",
    "            for other in self._subtree_preorder(c):    # do preorder of c's subtree\n",
    "                yield other                            # yielding each to our caller\n",
    "\n",
    "    # ========== 支持执行树的后序遍历 ==========\n",
    "    def postorder(self):\n",
    "        \"\"\"Generate a postorder iteration of positions in the tree.\"\"\"\n",
    "        \"\"\"生成树中位置的后序遍历迭代。\"\"\"\n",
    "        if not self.is_empty():\n",
    "            for p in self._subtree_postorder(self.root()):    # start recursion\n",
    "                yield p\n",
    "    \n",
    "    def _subtree_postorder(self, p):\n",
    "        \"\"\"Generate a postorder iteration of positions in subtree rooted at p.\"\"\"\n",
    "        \"\"\"在以p为根的子树中生成位置的后序遍历迭代。\"\"\"\n",
    "        for c in self.children():                      # for each child c\n",
    "            for other in self._subtree_preorder(c):    # do postorder of c's subtree\n",
    "                yield other                            # yielding each to our caller\n",
    "        yield p                                        # visit p after its subtrees\n",
    "\n",
    "    def breadthfirst(self):\n",
    "        \"\"\"Generate a breadth-first iteration of the postions of the tree.\"\"\"\n",
    "        \"\"\"生成树位置的广度优先遍历迭代。\"\"\"\n",
    "        if not self.is_empty():\n",
    "            fringe = LinkedQueue()       # known positions not yet yielded\n",
    "            fringe.enqueue(self.root())    # starting with the root\n",
    "            while not fringe.is_empty():\n",
    "                p = fringe.dequeue()     # remove from front of the queue\n",
    "                yield p                  # report this position\n",
    "                for c in self.children(p):\n",
    "                    fringe.enqueue(c)    # add children to back of queue"
   ]
  },
  {
   "cell_type": "markdown",
   "metadata": {},
   "source": [
    "###### BinaryTree"
   ]
  },
  {
   "cell_type": "code",
   "execution_count": 2,
   "metadata": {},
   "outputs": [],
   "source": [
    "class BinaryTree(Tree):\n",
    "    \"\"\"Abstract base class representing a binary tree structure.\"\"\"\n",
    "    \"\"\"表示二叉树结构的抽象基类。\"\"\"\n",
    "    \n",
    "    # ---------- addational abstract methods ----------\n",
    "    def left(self, p):\n",
    "        \"\"\"Return a Position representing p's left child.\n",
    "        \n",
    "        Return None if p does not have a left child.\n",
    "        \"\"\"\n",
    "        \"\"\"返回表示p的左孩子的位置。\n",
    "        \n",
    "        如果p没有左孩子，则返回None。\n",
    "        \"\"\"\n",
    "        raise NotImplementedErrore('must be implemented by subclass')\n",
    "    \n",
    "    def right(self, p):\n",
    "        \"\"\"Return a Position representing p's right child.\n",
    "        \n",
    "        Return None if p does not have a right child.\n",
    "        \"\"\"\n",
    "        \"\"\"返回一个表示p的右孩子的位置。\n",
    "        \n",
    "        如果p没有正确的孩子，则返回None。\n",
    "        \"\"\"\n",
    "        raise NotImplementedErrore('must be implemented by subclass')\n",
    "    \n",
    "    # ---------- concrete methods implemented in this class ----------\n",
    "    # ---------- 在这个类中实现的具体方法 ----------\n",
    "    def sibling(self, p):\n",
    "        \"\"\"Return a Position representing p's sibing (or None if no sibling).\"\"\"\n",
    "        \"\"\"返回一个表示p的兄弟的位置（如果没有兄弟，则返回None）。\"\"\"\n",
    "        parent = self.parent(p)\n",
    "        if parent is None:    # p must be the root\n",
    "            return None       # root has no sibling\n",
    "        else:\n",
    "            if p == self.left(parent):\n",
    "                return self.right(parent)    # possibly None\n",
    "            else:\n",
    "                return self.left(parent)     # possibly None\n",
    "    \n",
    "    def children(self, p):\n",
    "        \"\"\"Generate an iteration of Position representing p's children.\"\"\"\n",
    "        \"\"\"生成表示p的孩子的位置的迭代。\"\"\"\n",
    "        if self.left(p) is not None:\n",
    "            yield self.left(p)\n",
    "        if self.right(p) is not None:\n",
    "            yield self.right(p)\n",
    "    \n",
    "    # ---------- 支持执行二叉树的中序遍历 ----------\n",
    "    def inorder(self):\n",
    "        \"\"\"Generate an inorder iteration of positions in the tree.\"\"\"\n",
    "        \"\"\"生成树中位置的有序迭代。\"\"\"\n",
    "        if not self.is_empty():\n",
    "            for p in self._subtree_inorder(self.root()):\n",
    "                yield p\n",
    "    \n",
    "    def _subtree_inorder(self, p):\n",
    "        \"\"\"Generate an iteration of positions in subtree rooted at p.\"\"\"\n",
    "        \"\"\"在以p为根的子树中生成位置的迭代。\"\"\"\n",
    "        if self.left(p) is not None:     # if left child exists, traverse its subtree\n",
    "            for other in self._subtree_inorder(self.left(p)):\n",
    "                yield other\n",
    "        yield p                          # visit p between its subtree\n",
    "        if self.right(p) is not None:    # if right child exists, traverses its subtree\n",
    "            for other in self._subtree_inorder(self.right(p)):\n",
    "                yield other"
   ]
  },
  {
   "cell_type": "markdown",
   "metadata": {},
   "source": [
    "###### BinaryLinkedTree"
   ]
  },
  {
   "cell_type": "code",
   "execution_count": 3,
   "metadata": {},
   "outputs": [],
   "source": [
    "class LinkedBinaryTree(BinaryTree):\n",
    "    \"\"\"Linked representation of a binary tree structure.\"\"\"\n",
    "    \"\"\"二叉树结构的链接表示法。\"\"\"\n",
    "    \n",
    "    class _Node:    # Lightweight, nonpublic class for storing a node.\n",
    "        __slots__ = '_element', '_parent', '_left', '_right'\n",
    "        def __init__(self, element, parent=None, left=None, right=None):\n",
    "            self._element = element\n",
    "            self._parent = parent\n",
    "            self._left = left\n",
    "            self._right = right\n",
    "    \n",
    "    class Position(BinaryTree.Position):\n",
    "        \"\"\"An abstraction representing the location of a single element.\"\"\"\n",
    "        \"\"\"表示单个元素位置的抽象。\"\"\"\n",
    "        def __init__(self, container, node):\n",
    "            \"\"\"Constructor should not be invoked by user.\"\"\"\n",
    "            \"\"\"用户不应调用构造函数。\"\"\"\n",
    "            self._container = container\n",
    "            self._node = node\n",
    "        \n",
    "        def element(self):\n",
    "            \"\"\"Return the element stored at this Position.\"\"\"\n",
    "            \"\"\"返回存储在此位置的元素。\"\"\"\n",
    "            return self._node._element\n",
    "        \n",
    "        def __eq__(self, other):\n",
    "            \"\"\"Return True if other is a Position representing the same location.\"\"\"\n",
    "            \"\"\"如果other是表示相同位置的位置，则返回True。\"\"\"\n",
    "            return type(other) is type(self) and other._node is self._node\n",
    "    \n",
    "    def _validate(self, p):\n",
    "        \"\"\"Return associated node, if position is valid.\"\"\"\n",
    "        \"\"\"如果位置有效，则返回关联节点。\"\"\"\n",
    "        if not isinstance(p, self.Position):\n",
    "            raise TypeError('p must be proper Position type.')\n",
    "        if p._container is not self:\n",
    "            raise ValueError('p does not belong to this container')\n",
    "        if p._node._parent is p._node:    # convention for deprecated nodes\n",
    "            raise ValueError('p is no longer valid')\n",
    "        return p._node\n",
    "    \n",
    "    def _make_position(self, node):\n",
    "        \"\"\"Return Position instance for given node (or None if no node).\"\"\"\n",
    "        \"\"\"返回给定节点的位置实例（如果没有节点，则返回None）。\"\"\"\n",
    "        return self.Position(self, node) if node is not None else None\n",
    "\n",
    "    # ---------- binary tree constructor ----------\n",
    "    # ---------- 二叉树构造函数 ----------\n",
    "    def __init__(self):\n",
    "        \"\"\"Create an initially empty binary tree.\"\"\"\n",
    "        self._root = None\n",
    "        self._size = 0\n",
    "    \n",
    "    # ---------- public accessors ----------\n",
    "    def __len__(self):\n",
    "        \"\"\"Return the total number of elements in the tree.\"\"\"\n",
    "        \"\"\"创建一个初始为空的二叉树。\"\"\"\n",
    "        return self._size\n",
    "    \n",
    "    def root(self):\n",
    "        \"\"\"Return the root Position of the tree (or None if tree is empty).\"\"\"\n",
    "        \"\"\"返回树的根位置（如果树为空，则返回“无”）。\"\"\"\n",
    "        return self._make_position(self._root)\n",
    "    \n",
    "    def parent(self, p):\n",
    "        \"\"\"Return the Position of p's parent(or None if p is root).\"\"\"\n",
    "        \"\"\"返回p的父级的位置（如果p是根，则返回None）。\"\"\"\n",
    "        node = self._validate(p)\n",
    "        return self._make_position(node._parent)\n",
    "    \n",
    "    def left(self, p):\n",
    "        \"\"\"Return the Position of p's left child (or None if no left child).\"\"\"\n",
    "        \"\"\"返回p的左孩子的位置（如果没有左子对象，则返回None）。\"\"\"\n",
    "        node = self._validate(p)\n",
    "        return self._make_position(node._left)\n",
    "    \n",
    "    def right(self, p):\n",
    "        \"\"\"Return the Position of p's right (or None if no right child).\"\"\"\n",
    "        \"\"\"返回p的右孩子（如果没有右边的子对象，则返回None）。\"\"\"\n",
    "        node = self._validate(p)\n",
    "        return self._make_position(node._right)\n",
    "    \n",
    "    def num_children(self, p):\n",
    "        \"\"\"Return the number of children of Position p.\"\"\"\n",
    "        \"\"\"返回p位置的孩子数。\"\"\"\n",
    "        node = self._validate(p)\n",
    "        count = 0\n",
    "        if node._left is not None:    # left child exists\n",
    "            count += 1\n",
    "        if node._right is not None:   # right child exists\n",
    "            count += 1\n",
    "        return count\n",
    "\n",
    "    def _add_root(self, e):\n",
    "        \"\"\"Place element e at the root of an empty tree and return new Position.\n",
    "\n",
    "        Raise ValueError if tree nonempty.\n",
    "        \"\"\"\n",
    "        \"\"\"将元素e放置在空树的根上并返回新位置。\n",
    "        \n",
    "        如果树非空，则引发值错误。\n",
    "        \"\"\"\n",
    "        if self._root is not None:\n",
    "            raise ValueError('Root exists')\n",
    "        self._size = 1\n",
    "        self._root = self._Node(e)\n",
    "        return self._make_position(self._root)\n",
    "    \n",
    "    def _add_left(self, p, e):\n",
    "        \"\"\"Create a new left child for Position p, storing element e.\n",
    "        \n",
    "        Return the Position of new node.\n",
    "        Raise ValueError if Position p is invalid or already has a left child.\n",
    "        \"\"\"\n",
    "        \"\"\"为位置p创建一个新的左孩子，存储元素e。\n",
    "        \n",
    "        返回新节点的位置。\n",
    "        如果位置p无效或已经有左孩子，则引发值错误。\n",
    "        \"\"\"\n",
    "        node = self._validate(p)\n",
    "        if node._left is not None:\n",
    "            raise ValueError('Left child exists')\n",
    "        self._size += 1\n",
    "        node._left = self._Node(e, node)    # node is its parent\n",
    "        return self._make_position(node._left)\n",
    "    \n",
    "    def _add_right(self, p, e):\n",
    "        \"\"\"Create a new right child for Position p, storing element e.\n",
    "        \n",
    "        Return the Position of new node.\n",
    "        Raise ValueError if Position p is invalid or already has a right child.\n",
    "        \"\"\"\n",
    "        \"\"\"为位置p创建一个新的右孩子，存储元素e。\n",
    "        \n",
    "        返回新节点的位置。\n",
    "        如果位置p无效或已经有一个正确的孩子，则引发ValueError。\n",
    "        \"\"\"\n",
    "        node = self._validate(p)\n",
    "        if node._right is not None:\n",
    "            raise ValueError('Right child exists')\n",
    "        self._size += 1\n",
    "        node._right = self._Node(e, node)    # node is its parent\n",
    "        return self._make_position(node._right)\n",
    "    \n",
    "    def _replace(self, p, e):\n",
    "        \"\"\"Replace the element at position p with e, and return old element.\"\"\"\n",
    "        \"\"\"将p处的元素更换为e，并退回旧元素。\"\"\"\n",
    "        node = self._validate(p)\n",
    "        old = node._element\n",
    "        node._element = e\n",
    "        return old\n",
    "\n",
    "    def _delete(self, p):\n",
    "        \"\"\"Delete the node at Position p, and replace it with its child, if any.\n",
    "        \n",
    "        Return the element that had been stored at Position p.\n",
    "        Raise ValueError if Position p is invalid or p has two children.\n",
    "        \"\"\"\n",
    "        \"\"\"删除位置p处的节点，并将其替换为其子节点（如果有）。\n",
    "        \n",
    "        返回存储在p位置的元素。\n",
    "        如果位置p无效或p有两个孩子，则引发值错误。\n",
    "        \"\"\"\n",
    "        node = self._validate(p)\n",
    "        if self.num_children(p) == 2:\n",
    "            raise ValueError('p has two children')\n",
    "        child = node._left if node._left else node._right    # might be None\n",
    "        if child is not None:\n",
    "            child._parent = node._parent     # child's grandparent becomes parent\n",
    "        if node is self._root:\n",
    "            self._root = child    # child becomes root\n",
    "        else:\n",
    "            parent = node._parent\n",
    "            if node is parent._left:\n",
    "                parent._left = child\n",
    "            else:\n",
    "                parent._right = child\n",
    "        self._size -= 1\n",
    "        node._parent = node    # convention for deprecated node\n",
    "        return node._element\n",
    "    \n",
    "    def _attach(self, p, t1, t2):\n",
    "        \"\"\"Attach trees t1 and t2 as left and right subtrees of ecternal p.\"\"\"\n",
    "        \"\"\"附加树t1和t2作为外部p的左右子树。\"\"\"\n",
    "        node = self._validate(p)\n",
    "        if not self.is_leaf(p):\n",
    "            raise ValueError('position must be leaf')\n",
    "        if not type(self) is type(t1) is type(t2):    # all 3 trees must be same type\n",
    "            raise TypeError('Tree types must match')\n",
    "        self._size += len(t1) + len(t2)\n",
    "        if not t1.is_empty():    # attached t1 as left subtree of node\n",
    "            t1._root._parent = node\n",
    "            node.left = t1._root\n",
    "            t1._root = None    # set t1 instance to empty\n",
    "            t1._size = 0\n",
    "        if not t2.is_empty():    # attached t2 as left subtree of node\n",
    "            t2._root._parent = node\n",
    "            node.left = t2._root\n",
    "            t2._root = None    # set t2 instance to empty\n",
    "            t2._size = 0"
   ]
  },
  {
   "cell_type": "markdown",
   "metadata": {},
   "source": []
  }
 ],
 "metadata": {
  "kernelspec": {
   "display_name": "Python 3",
   "language": "python",
   "name": "python3"
  },
  "language_info": {
   "codemirror_mode": {
    "name": "ipython",
    "version": 3
   },
   "file_extension": ".py",
   "mimetype": "text/x-python",
   "name": "python",
   "nbconvert_exporter": "python",
   "pygments_lexer": "ipython3",
   "version": "3.8.3"
  },
  "toc": {
   "base_numbering": 1,
   "nav_menu": {},
   "number_sections": true,
   "sideBar": true,
   "skip_h1_title": false,
   "title_cell": "Table of Contents",
   "title_sidebar": "Contents",
   "toc_cell": false,
   "toc_position": {},
   "toc_section_display": true,
   "toc_window_display": false
  }
 },
 "nbformat": 4,
 "nbformat_minor": 4
}
