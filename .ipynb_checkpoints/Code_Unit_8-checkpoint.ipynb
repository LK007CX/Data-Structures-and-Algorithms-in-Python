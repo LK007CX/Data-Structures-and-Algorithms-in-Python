{
 "cells": [
  {
   "cell_type": "markdown",
   "metadata": {},
   "source": [
    "代码段8-1 树的抽象基类的一部分（后接代码段8-2）"
   ]
  },
  {
   "cell_type": "code",
   "execution_count": 3,
   "metadata": {},
   "outputs": [],
   "source": [
    "class Tree:\n",
    "    \"\"\"Abstract base class representing a tree structure.\"\"\"\n",
    "    \n",
    "    # ---------- nested Position class ----------\n",
    "    class Position:\n",
    "        \"\"\"An abstraction representing the location of a single element.\"\"\"\n",
    "        def element(self):\n",
    "            raise NotImplementedError('must be implemented by subclass')\n",
    "        \n",
    "        def __eq__(self, other):\n",
    "            \"\"\"Return True if other Position represents the same location.\"\"\"\n",
    "            raise NotImplementedError('must be implemented by subclass')\n",
    "        \n",
    "        def __ne__(self, other):\n",
    "            \"\"\"Return True if other does not represent the same location.\"\"\"\n",
    "            return not (self == other)    # opposite of __eq__\n",
    "        \n",
    "    # ---------- abstract methods that concrete subclass must support ----------\n",
    "    def root(self):\n",
    "        \"\"\"Return Position representing the tree's root (or None if empty).\"\"\"\n",
    "        raise NotImplementedError('must be implemented by subclass')\n",
    "    \n",
    "    def parent(self, p):\n",
    "        \"\"\"Return Position representing the tree's parent (or None if p is root).\"\"\"\n",
    "        raise NotImplementedError('must be implemented by subclass')\n",
    "    \n",
    "    def num_children(self, p):\n",
    "        \"\"\"Return the number of children that Position p has.\"\"\"\n",
    "        raise NotImplementedError('must be implemented by subclass')\n",
    "    \n",
    "    def children(self, p):\n",
    "        \"\"\"Generate an iteration of Positions representing p's children.\"\"\"\n",
    "        raise NotImplementedError('must be implemented by subclass')\n",
    "    \n",
    "    def __len__(self):\n",
    "        \"\"\"Return the total number of elements in the tree.\"\"\"\n",
    "        raise NotImplementedError('must be implemented by subclass')\n",
    "    \n",
    "    # ---------- concrete methods implemented in this class ----------\n",
    "    def is_root(self, p):\n",
    "        \"\"\"Return True if Position p represents the root of the tree.\"\"\"\n",
    "        return self.root() == p\n",
    "    \n",
    "    def is_leaf(self, p):\n",
    "        \"\"\"Return True if Position p does not have any children.\"\"\"\n",
    "        return self.num_children(p) == 0\n",
    "    \n",
    "    def is_empty(self):\n",
    "        \"\"\"Return True if the tree is empty.\"\"\"\n",
    "        return len(self) == 0"
   ]
  },
  {
   "cell_type": "markdown",
   "metadata": {},
   "source": [
    "**深度**"
   ]
  },
  {
   "cell_type": "markdown",
   "metadata": {},
   "source": [
    "树T中节点p的深度的定义："
   ]
  },
  {
   "cell_type": "markdown",
   "metadata": {},
   "source": [
    "p的深度同样也可以按如下递归定义：\n",
    " * 如果p是根节点，那么p的深度为0。\n",
    " * 否则，p的深度就是其父节点的深度加1。"
   ]
  },
  {
   "cell_type": "markdown",
   "metadata": {},
   "source": [
    "代码段8-3 树类中计算深度的算法"
   ]
  },
  {
   "cell_type": "code",
   "execution_count": 4,
   "metadata": {},
   "outputs": [],
   "source": [
    "    def depth(self, p):\n",
    "        \"\"\"Return the number of levels separating Position p from the root.\"\"\"\n",
    "        if self.is_root(p):\n",
    "            return 0\n",
    "        else:\n",
    "            return 1 + self.depth(self.parent(p))"
   ]
  },
  {
   "cell_type": "markdown",
   "metadata": {},
   "source": [
    "**高度**"
   ]
  },
  {
   "cell_type": "markdown",
   "metadata": {},
   "source": [
    "树T中节点p的高度的定义如下：\n",
    " * 如果p是一个叶子节点，那么它的高度为0。\n",
    " * 否则，p的高度是它孩子节点中的最大高度加1。"
   ]
  },
  {
   "cell_type": "markdown",
   "metadata": {},
   "source": [
    "命题8-4 Tree类中的方法_height1。需要注意的是，该方法调用了计算深度的算法"
   ]
  },
  {
   "cell_type": "code",
   "execution_count": 5,
   "metadata": {},
   "outputs": [],
   "source": [
    "    def _height1(self):\n",
    "        \"\"\"Return the height of the tree.\"\"\"\n",
    "        return max(self.depth(p) for p in self.positions() if self.is_leaf(p))"
   ]
  },
  {
   "cell_type": "markdown",
   "metadata": {},
   "source": [
    "代码段8-6 计算整个树或者一个给定位置作为根节点的子树的高度的Tree.height方法"
   ]
  },
  {
   "cell_type": "code",
   "execution_count": 6,
   "metadata": {},
   "outputs": [],
   "source": [
    "    def height(self, p=None):\n",
    "        \"\"\"Return the height of the subtree rooted at Position p.\n",
    "        \n",
    "        If p is None, return the height of the entire tree.\n",
    "        \"\"\"\n",
    "        if p is None:\n",
    "            p = self.root()\n",
    "        return self._height2(p)    # start _height2 recursion"
   ]
  },
  {
   "cell_type": "markdown",
   "metadata": {},
   "source": [
    "**二叉树**"
   ]
  },
  {
   "cell_type": "markdown",
   "metadata": {},
   "source": [
    "二叉树是具有以下属性的有序树：\n",
    "\n",
    "1）每个节点最多有两个孩子节点。\n",
    "\n",
    "2）每个孩子节点被命名为*左孩子*或者*右孩子*。\n",
    "\n",
    "3）对于每个节点的孩子节点，在顺序上，左孩子先于右孩子。"
   ]
  },
  {
   "cell_type": "markdown",
   "metadata": {},
   "source": [
    "若子树的根为内部节点v的左孩子或右孩子，则该子树相应地被称为节点v的*左子树*或*右子树*。"
   ]
  },
  {
   "cell_type": "markdown",
   "metadata": {},
   "source": [
    "若每个节点都有零个或者两个节点，则这样的二叉树为*完全二叉树*。一些人也把这种树称为*满二叉树*。"
   ]
  },
  {
   "cell_type": "markdown",
   "metadata": {},
   "source": [
    "**递归二叉树的定义**"
   ]
  },
  {
   "cell_type": "markdown",
   "metadata": {},
   "source": [
    "使用递归方式定义二叉树，此时二叉树或者为空树，或者由以下条件组成：\n",
    " * 二叉树T的根为节点r，其存储一个元素。\n",
    " * 二叉树（可能为空）称为T的左子树。\n",
    " * 二叉树（可能为空）称为T的右子树。"
   ]
  },
  {
   "cell_type": "markdown",
   "metadata": {},
   "source": [
    "代码段8-7 从代码段8-1和8-2已存在的Tree抽象基类中扩展的BinaryTree抽象基类"
   ]
  },
  {
   "cell_type": "code",
   "execution_count": 7,
   "metadata": {},
   "outputs": [],
   "source": [
    "class BinaryTree(Tree):\n",
    "    \"\"\"Abstract base class representing a binary tree structure.\"\"\"\n",
    "    \n",
    "    # ---------- addational abstract methods ----------\n",
    "    def left(self, p):\n",
    "        \"\"\"Return a Position representing p's left child.\n",
    "        \n",
    "        Return None if p does not have a left child.\n",
    "        \"\"\"\n",
    "        raise NotImplementedErrore('must be implemented by subclass')\n",
    "    \n",
    "    def right(self, p):\n",
    "        \"\"\"Return a Position representing p's right child.\n",
    "        \n",
    "        Return None if p does not have a right child.\n",
    "        \"\"\"\n",
    "        raise NotImplementedErrore('must be implemented by subclass')\n",
    "    \n",
    "    # ---------- concrete methods implemented in this class ----------\n",
    "    def sibling(self, p):\n",
    "        \"\"\"Return a Position representing p's sibing (or None if no sibling).\"\"\"\n",
    "        parent = self.parent(p)\n",
    "        if parent is None:    # p must be the root\n",
    "            return None       # root has no sibling\n",
    "        else:\n",
    "            if p == self.left(parent):\n",
    "                return self.right(parent)    # possibly None\n",
    "            else:\n",
    "                return self.left(parent)     # possibly None\n",
    "    \n",
    "    def children(self, p):\n",
    "        \"\"\"Generate an iteration of Position representing p's children.\"\"\"\n",
    "        if self.left(p) is not None:\n",
    "            yield self.left(p)\n",
    "        if self.right(p) is not None:\n",
    "            yield self.right(p)"
   ]
  },
  {
   "cell_type": "code",
   "execution_count": null,
   "metadata": {},
   "outputs": [],
   "source": []
  }
 ],
 "metadata": {
  "kernelspec": {
   "display_name": "Python 3",
   "language": "python",
   "name": "python3"
  },
  "language_info": {
   "codemirror_mode": {
    "name": "ipython",
    "version": 3
   },
   "file_extension": ".py",
   "mimetype": "text/x-python",
   "name": "python",
   "nbconvert_exporter": "python",
   "pygments_lexer": "ipython3",
   "version": "3.8.3"
  },
  "toc": {
   "base_numbering": 1,
   "nav_menu": {},
   "number_sections": true,
   "sideBar": true,
   "skip_h1_title": false,
   "title_cell": "Table of Contents",
   "title_sidebar": "Contents",
   "toc_cell": false,
   "toc_position": {},
   "toc_section_display": true,
   "toc_window_display": true
  }
 },
 "nbformat": 4,
 "nbformat_minor": 4
}
