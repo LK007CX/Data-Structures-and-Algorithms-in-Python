{
 "cells": [
  {
   "cell_type": "markdown",
   "metadata": {},
   "source": [
    "> 原则：\n",
    "1. 初始情况\n",
    "2. 往初始情况发展\n",
    "3. 往初始情况发展的条件判断\n",
    "4. 一定要在纸上提前画一画，分析几种情况\n",
    "5. 问题转化"
   ]
  },
  {
   "cell_type": "markdown",
   "metadata": {},
   "source": [
    "R-4.1 对于一个含有n个元素的序列S，描述一个递归算法查找其最大值。所给出的递归算法时间复杂度和可见复杂度各是多少？"
   ]
  },
  {
   "cell_type": "code",
   "execution_count": 128,
   "metadata": {},
   "outputs": [],
   "source": [
    "def find_max(data, n):\n",
    "    if n == 0:\n",
    "        return data[0]\n",
    "    else:\n",
    "        m = find_max(data, n-1)\n",
    "        return data[n] if data[n] > m else m"
   ]
  },
  {
   "cell_type": "code",
   "execution_count": 130,
   "metadata": {},
   "outputs": [
    {
     "name": "stdout",
     "output_type": "stream",
     "text": [
      "[73 26 82 63 70 91 60 41 98  3 42 86 47 86 38  2 50 78 11 25 79 19 52 69\n",
      " 17 84 25 94 35 27 45 46 93 87 60 24 16  8 92 35 62 57  4  4 49 71 21 79\n",
      " 95 84 83 97 54 10  6 38 27 27 89 92 52 75 87 50 72 93 44 13 66 45 78 63\n",
      " 33 16 77 17 84 17 35 60 25 90 50 81 80 11 49 51 28 81 75 39  0 84 15 40\n",
      "  2 97 86 46]\n",
      "98\n"
     ]
    }
   ],
   "source": [
    "import numpy as np\n",
    "if __name__ == '__main__':\n",
    "    data = np.random.randint(0, 99, size=(100,))\n",
    "    #data = sorted(list(data))\n",
    "    print(data)\n",
    "    result = find_max(data, len(data)-1)\n",
    "    print(result)"
   ]
  },
  {
   "cell_type": "code",
   "execution_count": 132,
   "metadata": {},
   "outputs": [],
   "source": [
    "import numpy as np\n",
    "if __name__ == '__main__':\n",
    "    for i in range(100):\n",
    "        data = np.random.randint(0, 99, size=(100,))\n",
    "        result = find_max(data, len(data)-1)\n",
    "        if result != max(data):\n",
    "            print(\"计算错误\")\n",
    "        # print(result==max(data))"
   ]
  },
  {
   "cell_type": "markdown",
   "metadata": {},
   "source": [
    "R-4.2 使用在代码段4-11中实现的传统函数，绘制出power(2, 5)函数计算的递归跟踪。"
   ]
  },
  {
   "cell_type": "markdown",
   "metadata": {},
   "source": [
    "略"
   ]
  },
  {
   "cell_type": "markdown",
   "metadata": {},
   "source": [
    "R-4.3 如代码段4-12实现的函数所示，使用重复平方法绘制出power(2, 18)函数计算的递归跟踪。"
   ]
  },
  {
   "cell_type": "markdown",
   "metadata": {},
   "source": [
    "略"
   ]
  },
  {
   "cell_type": "markdown",
   "metadata": {},
   "source": [
    "R-4.4 绘制。。。"
   ]
  },
  {
   "cell_type": "markdown",
   "metadata": {},
   "source": [
    "R-4.5 绘制。。。"
   ]
  },
  {
   "cell_type": "markdown",
   "metadata": {},
   "source": [
    "R-4.6 描述一个递归函数，用于计算第n个调和数(harmonic number)，其中$H_{n}=\\sum_{i=1}^{n}1/i$。"
   ]
  },
  {
   "cell_type": "code",
   "execution_count": 49,
   "metadata": {},
   "outputs": [],
   "source": [
    "def harmonic(n):\n",
    "    if n == 1:\n",
    "        return 1\n",
    "    else:\n",
    "        return 1/n + harmonic(n-1)"
   ]
  },
  {
   "cell_type": "code",
   "execution_count": 50,
   "metadata": {},
   "outputs": [
    {
     "name": "stdout",
     "output_type": "stream",
     "text": [
      "2.9289682539682538\n"
     ]
    }
   ],
   "source": [
    "if __name__ == '__main__':\n",
    "    result = harmonic(10)\n",
    "    print(result)"
   ]
  },
  {
   "cell_type": "markdown",
   "metadata": {},
   "source": [
    "R-4.7 描述一个递归函数，它可以把一串数字转换成对应的整数。例如，'13531'对应的整数为13531。"
   ]
  },
  {
   "cell_type": "code",
   "execution_count": 63,
   "metadata": {},
   "outputs": [],
   "source": [
    "def transform(string, n):\n",
    "    if n == 0:\n",
    "        return int(string[0]) * (10**(len(string)-1))\n",
    "    else:\n",
    "        return int(string[n])*(10**(len(string)-n-1)) + transform(string, n-1)"
   ]
  },
  {
   "cell_type": "code",
   "execution_count": 68,
   "metadata": {},
   "outputs": [
    {
     "name": "stdout",
     "output_type": "stream",
     "text": [
      "12345678987654321\n"
     ]
    }
   ],
   "source": [
    "if __name__ == '__main__':\n",
    "    string = '12345678987654321'\n",
    "    result = transform(string, len(string)-1)\n",
    "    print(result)"
   ]
  },
  {
   "cell_type": "markdown",
   "metadata": {},
   "source": [
    "R-4.8 Islabel..."
   ]
  },
  {
   "cell_type": "markdown",
   "metadata": {},
   "source": [
    "C-4.9 写一个简短的递归函数，用于在不使用任何循环的条件下查找一个序列的最小值和最大值。"
   ]
  },
  {
   "cell_type": "code",
   "execution_count": 141,
   "metadata": {},
   "outputs": [],
   "source": [
    "def find_min_max(data, n):\n",
    "    if n == 0:\n",
    "        return data[0], data[0]\n",
    "    else:\n",
    "        m1, m2 = find_min_max(data, n-1)\n",
    "        return ((data[n] if data[n] < m1 else m1), (data[n] if data[n] > m2 else m2))"
   ]
  },
  {
   "cell_type": "code",
   "execution_count": 142,
   "metadata": {},
   "outputs": [
    {
     "name": "stdout",
     "output_type": "stream",
     "text": [
      "[0, 2, 3, 3, 3, 4, 4, 4, 4, 5, 6, 6, 7, 8, 9, 10, 11, 12, 13, 16, 16, 17, 17, 18, 20, 21, 21, 21, 22, 23, 23, 23, 24, 26, 29, 30, 30, 30, 31, 31, 32, 32, 32, 32, 33, 34, 34, 35, 35, 37, 37, 37, 39, 39, 44, 46, 46, 48, 48, 49, 49, 50, 51, 51, 55, 56, 57, 59, 59, 60, 61, 63, 64, 67, 68, 70, 70, 71, 71, 71, 72, 73, 73, 73, 73, 74, 77, 78, 82, 82, 84, 85, 89, 91, 91, 92, 96, 96, 98, 98]\n",
      "(0, 98)\n"
     ]
    }
   ],
   "source": [
    "import numpy as np\n",
    "if __name__ == '__main__':\n",
    "    data = np.random.randint(0, 99, size=(100,))\n",
    "    data = sorted(list(data))\n",
    "    print(data)\n",
    "    result = find_min_max(data, len(data)-1)\n",
    "    print(result)"
   ]
  },
  {
   "cell_type": "code",
   "execution_count": 145,
   "metadata": {},
   "outputs": [],
   "source": [
    "import numpy as np\n",
    "if __name__ == '__main__':\n",
    "    for i in range(100):\n",
    "        data = np.random.randint(0, 99, size=(100,))\n",
    "        result = find_min_max(data, len(data)-1)\n",
    "        if result[0]!=min(data) or result[1]!=max(data):\n",
    "            print(\"计算错误\")\n",
    "        # print(result==max(data))"
   ]
  },
  {
   "cell_type": "markdown",
   "metadata": {},
   "source": [
    "C-4.10 在只使用加法和整数除法的情况下，描述一个递归算法，来计算以2为底的n的对数的整数部分。"
   ]
  },
  {
   "cell_type": "code",
   "execution_count": 184,
   "metadata": {},
   "outputs": [],
   "source": [
    "def log2(n):\n",
    "    if n < 2:\n",
    "        return 0\n",
    "    else:\n",
    "        n = n // 2\n",
    "        return 1 + log2(n)"
   ]
  },
  {
   "cell_type": "code",
   "execution_count": 188,
   "metadata": {},
   "outputs": [
    {
     "name": "stdout",
     "output_type": "stream",
     "text": [
      "3\n"
     ]
    }
   ],
   "source": [
    "print(log2(10))"
   ]
  },
  {
   "cell_type": "code",
   "execution_count": 189,
   "metadata": {},
   "outputs": [],
   "source": [
    "import numpy as np\n",
    "\n",
    "for i in range(1, 100):\n",
    "    if log2(i) != int(np.log2(i)):\n",
    "        print('计算错误')"
   ]
  },
  {
   "cell_type": "code",
   "execution_count": 190,
   "metadata": {},
   "outputs": [],
   "source": [
    "def log2(n):\n",
    "    sum = 0\n",
    "    while 1:\n",
    "        if n < 2:\n",
    "            break\n",
    "        n = n // 2\n",
    "        sum += 1\n",
    "    return sum"
   ]
  },
  {
   "cell_type": "code",
   "execution_count": 181,
   "metadata": {},
   "outputs": [
    {
     "name": "stdout",
     "output_type": "stream",
     "text": [
      "1\n"
     ]
    }
   ],
   "source": [
    "print(log2(2))"
   ]
  },
  {
   "cell_type": "markdown",
   "metadata": {},
   "source": [
    "C-4.11 描述一个有效的递归函数来求解元素的唯一性问题，在不使用排序的最坏的情况下运行时间最多是$O(n^2)$。"
   ]
  },
  {
   "cell_type": "code",
   "execution_count": 31,
   "metadata": {},
   "outputs": [],
   "source": [
    "# 2020-12-30 10：14\n",
    "def unique(data, n):\n",
    "    if n == 0:                          # 基本情况\n",
    "        return True\n",
    "    else:\n",
    "        if data[n] == data[n-1]:        # 条件判断\n",
    "            return False\n",
    "        else:\n",
    "            return unique(data, n-1)    # 往基本情况靠近"
   ]
  },
  {
   "cell_type": "code",
   "execution_count": 32,
   "metadata": {},
   "outputs": [],
   "source": [
    "# 正确算法\n",
    "def unique2(S):\n",
    "    \"\"\"Return True if there are no duplicate elements in sequence S.\"\"\"\n",
    "    temp = sorted(S)    # create a sorted copy of S\n",
    "    for j in range(1, len(temp)):\n",
    "        if temp[j-1] == temp[j]:\n",
    "            return False    # found duplicate pair\n",
    "    return True             # if we reach this, elements wew unique"
   ]
  },
  {
   "cell_type": "code",
   "execution_count": 33,
   "metadata": {},
   "outputs": [],
   "source": [
    "if __name__ == '__main__':\n",
    "    import numpy as np\n",
    "    for i in range(100):\n",
    "        data = np.random.randint(0, 9, size=(100,))\n",
    "        if unique(data, len(data)-1) == unique2(data):\n",
    "            pass\n",
    "        else:\n",
    "            print(\"计算错误\")"
   ]
  },
  {
   "cell_type": "markdown",
   "metadata": {},
   "source": [
    "C-4.12 在只使用加法和减法的情况下，给出一个递归算法，来计算两个正整数m和n的乘积。"
   ]
  },
  {
   "cell_type": "markdown",
   "metadata": {},
   "source": [
    "$$ f(x)=\\left\\{\n",
    "\\begin{aligned}\n",
    "x & = & \\cos(t) \\\\\n",
    "y & = & \\sin(t) \\\\\n",
    "z & = & \\frac xy\n",
    "\\end{aligned}\n",
    "\\right.\n",
    "$$"
   ]
  },
  {
   "cell_type": "code",
   "execution_count": 48,
   "metadata": {},
   "outputs": [],
   "source": [
    "def product(n, m):\n",
    "    if m == 1:\n",
    "        return n\n",
    "    else:\n",
    "        return n + product(n, m-1)"
   ]
  },
  {
   "cell_type": "code",
   "execution_count": 50,
   "metadata": {},
   "outputs": [],
   "source": [
    "import random\n",
    "\n",
    "\n",
    "if __name__ == '__main__':\n",
    "    for i in range(100):\n",
    "        m, n = random.randint(0, 99), random.randint(0, 99)\n",
    "        if product(n, m) == m*n:\n",
    "            #print(\"计算正确\")\n",
    "            pass\n",
    "        else:\n",
    "            print(\"计算错误\")"
   ]
  },
  {
   "cell_type": "markdown",
   "metadata": {},
   "source": [
    "C-4.13 在4.2节中，。。。。"
   ]
  },
  {
   "cell_type": "markdown",
   "metadata": {},
   "source": [
    "C-4.14 汉诺塔问题"
   ]
  },
  {
   "cell_type": "markdown",
   "metadata": {},
   "source": [
    "C-4.15 编写一个递归函数，该函数输出一个含有n个元素的集合的所有子集（没有任何重复的子集）。"
   ]
  },
  {
   "cell_type": "code",
   "execution_count": 58,
   "metadata": {},
   "outputs": [],
   "source": [
    "def maximal_subset(data):\n",
    "    if len(data) == 0:    # 如果data为空，返回空列表\n",
    "        return [[]]\n",
    "    \n",
    "    subsets = []\n",
    "    first_element = data[0]\n",
    "    remaining_list = data[1:]\n",
    "    \n",
    "    for subset in maximal_subset(remaining_list):\n",
    "        subsets.append(subset)\n",
    "        next_subset = subset + [first_element]\n",
    "        subsets.append(next_subset)\n",
    "    return subsets"
   ]
  },
  {
   "cell_type": "code",
   "execution_count": 60,
   "metadata": {},
   "outputs": [
    {
     "name": "stdout",
     "output_type": "stream",
     "text": [
      "[[], ['a'], ['b'], ['b', 'a'], ['c'], ['c', 'a'], ['c', 'b'], ['c', 'b', 'a']]\n"
     ]
    }
   ],
   "source": [
    "data = ['a', 'b', 'c']\n",
    "print(maximal_subset(data))"
   ]
  },
  {
   "cell_type": "markdown",
   "metadata": {},
   "source": [
    "C-4.16 编写一个简短的递归Python函数，它接受一个字符串s并输出其逆置字符串。例如字符串'pots%pans'的逆置字符串为'snap&stop'。"
   ]
  },
  {
   "cell_type": "code",
   "execution_count": 77,
   "metadata": {},
   "outputs": [],
   "source": [
    "def reverse_string(string, n):\n",
    "    if n == 0:\n",
    "        return string[0]\n",
    "    else:\n",
    "        return string[n] + reverse_string(string, n-1)"
   ]
  },
  {
   "cell_type": "code",
   "execution_count": 79,
   "metadata": {},
   "outputs": [
    {
     "name": "stdout",
     "output_type": "stream",
     "text": [
      "snap%stop\n"
     ]
    }
   ],
   "source": [
    "string = 'pots%pans'\n",
    "print(reverse_string(string, len(string)-1))"
   ]
  },
  {
   "cell_type": "code",
   "execution_count": 81,
   "metadata": {},
   "outputs": [
    {
     "name": "stdout",
     "output_type": "stream",
     "text": [
      "7654321\n"
     ]
    }
   ],
   "source": [
    "string = '1234567'\n",
    "print(reverse_string(string, len(string)-1))"
   ]
  },
  {
   "cell_type": "markdown",
   "metadata": {},
   "source": [
    "C-4.17 编写一个简短的递归Python函数，确定一个字符串s是否是它的一个回文字符串，也就是说，该字符串与其逆置字符串相同，例如，字符串'racecar'和'gohangasalamiimalasagnahog'是回文字符串。"
   ]
  },
  {
   "cell_type": "code",
   "execution_count": 15,
   "metadata": {},
   "outputs": [],
   "source": [
    "def is_palindrome_string(data, start, stop):\n",
    "    if stop - start == 1:\n",
    "        return True\n",
    "    elif stop - start == 2:\n",
    "        return data[start] == data[start+1]\n",
    "    else:\n",
    "        if data[start] == data[stop]:\n",
    "            return is_palindrome_string(data, start+1, stop-1)\n",
    "        else:\n",
    "            return False"
   ]
  },
  {
   "cell_type": "code",
   "execution_count": 17,
   "metadata": {},
   "outputs": [],
   "source": [
    "def is_palindrome_string(data, start, stop):\n",
    "    if stop == start:\n",
    "        return True\n",
    "    elif stop - start == 1:\n",
    "        return data[start] == data[stop]\n",
    "    else:\n",
    "        if data[start] == data[stop]:\n",
    "            return is_palindrome_string(data, start+1, stop-1)\n",
    "        else:\n",
    "            return False"
   ]
  },
  {
   "cell_type": "code",
   "execution_count": 20,
   "metadata": {},
   "outputs": [
    {
     "name": "stdout",
     "output_type": "stream",
     "text": [
      "True\n",
      "True\n"
     ]
    }
   ],
   "source": [
    "string_1 = 'racecar'\n",
    "print(is_palindrome_string(string_1, 0, len(string_1)-1))\n",
    "\n",
    "string_2 = 'gohangasalamiimalasagnahog'\n",
    "print(is_palindrome_string(string_2, 0, len(string_2)-1))"
   ]
  },
  {
   "cell_type": "code",
   "execution_count": 113,
   "metadata": {},
   "outputs": [],
   "source": [
    "# 2020 12 30 19：15\n",
    "def is_palindrome_string(data, start, stop):\n",
    "    if start == stop:    # 奇数个\n",
    "        return True\n",
    "    elif stop - start == 1:   # 偶数个\n",
    "        return data[start] == data[stop]\n",
    "    else:\n",
    "        if data[start] != data[stop]:\n",
    "            return False\n",
    "        else:\n",
    "            return is_palindrome_string(data, start+1, stop-1)"
   ]
  },
  {
   "cell_type": "code",
   "execution_count": 114,
   "metadata": {},
   "outputs": [
    {
     "name": "stdout",
     "output_type": "stream",
     "text": [
      "True\n",
      "True\n",
      "False\n",
      "True\n"
     ]
    }
   ],
   "source": [
    "string_1 = 'racecar'\n",
    "print(is_palindrome_string(string_1, 0, len(string_1)-1))\n",
    "\n",
    "string_2 = 'gohangasalamiimalasagnahog'\n",
    "print(is_palindrome_string(string_2, 0, len(string_2)-1))\n",
    "\n",
    "string_3 = 'abc'\n",
    "print(is_palindrome_string(string_3, 0, len(string_3)-1))\n",
    "\n",
    "string_4 = 'aba'\n",
    "print(is_palindrome_string(string_4, 0, len(string_4)-1))"
   ]
  },
  {
   "cell_type": "markdown",
   "metadata": {},
   "source": [
    "C-4.18 使用递归编写一个Python函数，确定字符串s中是否元音字母比辅音字母多。"
   ]
  },
  {
   "cell_type": "code",
   "execution_count": 68,
   "metadata": {},
   "outputs": [],
   "source": [
    "vowels = ['a', 'e', 'i', 'o', 'u']\n",
    "consonants = ['b', 'c', 'd', 'f', 'g', 'h', 'j', 'k', 'l', 'm', 'n', 'p', 'q', 'r', 's', 't',  'v', 'w', 'x', 'y', 'z']"
   ]
  },
  {
   "cell_type": "code",
   "execution_count": 69,
   "metadata": {},
   "outputs": [],
   "source": [
    "# 非递归版本\n",
    "# 返回直接结果\n",
    "def compare(data):\n",
    "    vowel_count, consonant_count = 0, 0\n",
    "    for val in data:\n",
    "        if val in vowels:\n",
    "            vowel_count += 1\n",
    "        else:\n",
    "            consonant_count += 1\n",
    "    return vowel_count > consonant_count"
   ]
  },
  {
   "cell_type": "code",
   "execution_count": 70,
   "metadata": {},
   "outputs": [],
   "source": [
    "# 非递归版本\n",
    "# 直接返回数目\n",
    "def compare(data):\n",
    "    count = 0\n",
    "    for val in data:\n",
    "        if val in vowels:\n",
    "           count += 1\n",
    "    return count"
   ]
  },
  {
   "cell_type": "code",
   "execution_count": 71,
   "metadata": {},
   "outputs": [
    {
     "name": "stdout",
     "output_type": "stream",
     "text": [
      "1\n"
     ]
    }
   ],
   "source": [
    "print(compare('abc'))"
   ]
  },
  {
   "cell_type": "code",
   "execution_count": 72,
   "metadata": {},
   "outputs": [],
   "source": [
    "def compare(data, n):\n",
    "    if n == 0:\n",
    "        return 1 if data[n] in vowels else 0\n",
    "    else:\n",
    "        return 1+compare(data, n-1) if data[n] in vowels else compare(data, n-1)\n",
    "    \n",
    "def get_result(data):\n",
    "    count = compare(data, len(data)-1)\n",
    "    return count > len(data) - count"
   ]
  },
  {
   "cell_type": "code",
   "execution_count": 75,
   "metadata": {},
   "outputs": [
    {
     "name": "stdout",
     "output_type": "stream",
     "text": [
      "2\n",
      "False\n"
     ]
    }
   ],
   "source": [
    "data = 'aeiou'\n",
    "data= 'ae123'\n",
    "print(compare(data, len(data)-1))\n",
    "print(get_result(data))"
   ]
  },
  {
   "cell_type": "markdown",
   "metadata": {},
   "source": [
    "C-4.19 编写一个简短的递归Python函数，用于重新排列一个整数值序列，使得所有偶数值出现在所有奇数值的前面。"
   ]
  },
  {
   "cell_type": "markdown",
   "metadata": {},
   "source": [
    "> 问题转化：有条件的二路递归。"
   ]
  },
  {
   "cell_type": "code",
   "execution_count": 119,
   "metadata": {},
   "outputs": [],
   "source": [
    "# 非递归版本\n",
    "\n",
    "def organize_recurse_not(data):\n",
    "    odd = []\n",
    "    even = []\n",
    "    for val in data:\n",
    "        if val % 2 == 0:\n",
    "            even.append(val)\n",
    "        else:\n",
    "            odd.append(val)\n",
    "    return even + odd"
   ]
  },
  {
   "cell_type": "code",
   "execution_count": 120,
   "metadata": {},
   "outputs": [
    {
     "name": "stdout",
     "output_type": "stream",
     "text": [
      "[7 2 8 0 1 8 0 1 6 0]\n",
      "[2, 8, 0, 8, 0, 6, 0, 7, 1, 1]\n"
     ]
    }
   ],
   "source": [
    "import numpy as np\n",
    "data = np.random.randint(0, 9, size=(10,))\n",
    "print(data)\n",
    "print(organize_recurse_not(data))"
   ]
  },
  {
   "cell_type": "code",
   "execution_count": 143,
   "metadata": {},
   "outputs": [],
   "source": [
    "def organize_recurse(data, n):\n",
    "    if n == 0:\n",
    "        return [data[0]]\n",
    "    else:\n",
    "        if data[n] % 2 == 0:\n",
    "            return [data[n]] + organize_recurse(data, n-1)\n",
    "        else:\n",
    "            return organize_recurse(data, n-1) + [data[n]]"
   ]
  },
  {
   "cell_type": "code",
   "execution_count": 144,
   "metadata": {},
   "outputs": [
    {
     "name": "stdout",
     "output_type": "stream",
     "text": [
      "[7 2 8 0 1 8 0 1 6 0]\n",
      "[6, 8, 4, 4, 8, 2, 1, 5, 7, 7]\n"
     ]
    }
   ],
   "source": [
    "import numpy as np\n",
    "data_ = np.random.randint(0, 9, size=(10,))\n",
    "print(data)\n",
    "print(organize_recurse(data_, len(data_)-1))"
   ]
  },
  {
   "cell_type": "markdown",
   "metadata": {},
   "source": [
    "C-4.20 给定一个未排序的整数序列S和整数k，描述一个递归算法，用于对S中的元素重新排序，使得所有小于等于k的元素在所有大于k的元素之前。在这个含有n个值得序列中，算法的时间复杂度是多少？"
   ]
  },
  {
   "cell_type": "code",
   "execution_count": 146,
   "metadata": {},
   "outputs": [],
   "source": [
    "def sort(data, target, n):\n",
    "    if n == 0:\n",
    "        return [data[n]]\n",
    "    else:\n",
    "        if data[n] <= target:\n",
    "            return [data[n]] + sort(data, target, n-1)\n",
    "        else:\n",
    "            return sort(data, target, n-1) + [data[n]]"
   ]
  },
  {
   "cell_type": "code",
   "execution_count": 160,
   "metadata": {},
   "outputs": [
    {
     "name": "stdout",
     "output_type": "stream",
     "text": [
      "[4 2 3 2 6 4 3 6 2 7]\n",
      "3\n",
      "[2, 3, 2, 3, 2, 4, 6, 4, 6, 7]\n"
     ]
    }
   ],
   "source": [
    "import numpy as np\n",
    "import random\n",
    "data = np.random.randint(0, 9, size=(10))\n",
    "print(data)\n",
    "target = random.randint(0, 9)\n",
    "print(target)\n",
    "result = sort(data, target, len(data)-1)\n",
    "print(result)"
   ]
  },
  {
   "cell_type": "markdown",
   "metadata": {},
   "source": [
    "C-4.21 假设给出一个含有n个元素的序列S，这个序列是包含不同元素的升序序列。给定一个数k，描述一个递归算法找到S中总和为k的两个整数（如果这样的一对整数存在）。算法的时间复杂度是多少？"
   ]
  },
  {
   "cell_type": "code",
   "execution_count": 19,
   "metadata": {},
   "outputs": [],
   "source": [
    "# 非递归解法\n",
    "# 时间复杂度为O(n)\n",
    "# 但是没有利用升序的条件\n",
    "# 没有返回坐标\n",
    "def find_pair(data, target):\n",
    "    enum = enumerate(data)\n",
    "    for i, val in enum:\n",
    "        if target - val in data:\n",
    "            return val, target-val\n",
    "    return -1, -1"
   ]
  },
  {
   "cell_type": "code",
   "execution_count": null,
   "metadata": {},
   "outputs": [],
   "source": [
    "# 非递归解法\n",
    "# 时间复杂度为O(n)\n",
    "# 但是没有利用升序的条件\n",
    "# 返回坐标\n",
    "def find_pair(data, target):\n",
    "    hashtable = dict()\n",
    "    for i in range(len(data)):\n",
    "        if target-data[i] in hashtable:\n",
    "            return [hashtable[target-data[i]], i]\n",
    "        hashtable[data[i]] = i\n",
    "    return []"
   ]
  },
  {
   "cell_type": "code",
   "execution_count": 45,
   "metadata": {},
   "outputs": [],
   "source": [
    "# 使用hash表，查找复杂度为O(1)\n",
    "# 时间复杂度为O(n)\n",
    "def find_pair(data, target):\n",
    "    hashtable = dict()\n",
    "    for i, val in enumerate(data):\n",
    "        if target-val in hashtable:\n",
    "            return [hashtable[target-val], i]\n",
    "        hashtable[val] = i\n",
    "    return []"
   ]
  },
  {
   "cell_type": "code",
   "execution_count": 65,
   "metadata": {},
   "outputs": [],
   "source": [
    "# 递归解法\n",
    "# 利用升序条件\n",
    "# 可以自然而言的想到使用二分法\n",
    "def find_pair(data, i, j, k):\n",
    "    if i == j:\n",
    "        return False\n",
    "    elif data[i] + data[j] < k:\n",
    "        return find_pair(data, i+1, j, k)\n",
    "    elif data[i] + data[j] > k:\n",
    "        return find_pair(data, i, j-1, k)\n",
    "    else:\n",
    "        return True"
   ]
  },
  {
   "cell_type": "code",
   "execution_count": 88,
   "metadata": {},
   "outputs": [],
   "source": [
    "# 递归解法\n",
    "# 利用升序条件\n",
    "# 可以自然而言的想到使用二分法\n",
    "# 但是如何实现\n",
    "def find_pair(data, i, j, k):\n",
    "    if i == j:\n",
    "        return False\n",
    "    elif data[i] + data[j] < k:\n",
    "        return find_pair(data, i+1, j, k)\n",
    "    else:\n",
    "        if data[i] + data[j] > k:\n",
    "            return find_pair(data, i, j-1, k)\n",
    "        else:\n",
    "            return True"
   ]
  },
  {
   "cell_type": "code",
   "execution_count": 125,
   "metadata": {},
   "outputs": [
    {
     "name": "stdout",
     "output_type": "stream",
     "text": [
      "[1, 2, 3, 4, 5, 6, 7, 7, 8, 8]\n",
      "2\n",
      "False\n"
     ]
    }
   ],
   "source": [
    "import numpy as np\n",
    "import random\n",
    "data = np.random.randint(0, 9, size=(10))\n",
    "# 排序\n",
    "data = sorted(data)\n",
    "target = random.randint(0, 9)\n",
    "result = find_pair(data, 0, len(data)-1, target)\n",
    "print(data)\n",
    "print(target)\n",
    "print(result)"
   ]
  },
  {
   "cell_type": "markdown",
   "metadata": {},
   "source": [
    "C-4.22 从代码段4-12使用重复平方的power函数的版本中，实现一个非递归版本。"
   ]
  },
  {
   "cell_type": "code",
   "execution_count": 6,
   "metadata": {},
   "outputs": [],
   "source": [
    "def power(x, n):\n",
    "    result = 1\n",
    "    for i in range(n):\n",
    "        result *= x\n",
    "    return result"
   ]
  },
  {
   "cell_type": "code",
   "execution_count": 4,
   "metadata": {},
   "outputs": [],
   "source": [
    "def power(x, n):\n",
    "    result = 1\n",
    "    i = 1\n",
    "    while i <= n:\n",
    "        result *= x\n",
    "        i +=1\n",
    "    return result"
   ]
  },
  {
   "cell_type": "code",
   "execution_count": 7,
   "metadata": {},
   "outputs": [
    {
     "name": "stdout",
     "output_type": "stream",
     "text": [
      "1 1\n",
      "4 4\n",
      "27 27\n",
      "256 256\n"
     ]
    }
   ],
   "source": [
    "for i in range(1,5):\n",
    "    print(power(i, i), i**i)"
   ]
  },
  {
   "cell_type": "code",
   "execution_count": 12,
   "metadata": {},
   "outputs": [],
   "source": [
    "def power(x, n):\n",
    "    k = 0\n",
    "    while (1 << k) <= n:\n",
    "        k += 1\n",
    "    answer = 1.0\n",
    "    for j in range(k-1, 1, 1):\n",
    "        answer *= answer\n",
    "        if (1 << j) & n > 0:\n",
    "            answer *= x\n",
    "    return answer"
   ]
  },
  {
   "cell_type": "code",
   "execution_count": 13,
   "metadata": {},
   "outputs": [
    {
     "name": "stdout",
     "output_type": "stream",
     "text": [
      "1.0 1\n",
      "1.0 4\n",
      "1.0 27\n",
      "1.0 256\n"
     ]
    }
   ],
   "source": [
    "for i in range(1,5):\n",
    "    print(power(i, i), i**i)"
   ]
  }
 ],
 "metadata": {
  "kernelspec": {
   "display_name": "Python 3",
   "language": "python",
   "name": "python3"
  },
  "language_info": {
   "codemirror_mode": {
    "name": "ipython",
    "version": 3
   },
   "file_extension": ".py",
   "mimetype": "text/x-python",
   "name": "python",
   "nbconvert_exporter": "python",
   "pygments_lexer": "ipython3",
   "version": "3.8.3"
  },
  "toc": {
   "base_numbering": 1,
   "nav_menu": {},
   "number_sections": true,
   "sideBar": true,
   "skip_h1_title": false,
   "title_cell": "Table of Contents",
   "title_sidebar": "Contents",
   "toc_cell": false,
   "toc_position": {},
   "toc_section_display": true,
   "toc_window_display": false
  }
 },
 "nbformat": 4,
 "nbformat_minor": 4
}
