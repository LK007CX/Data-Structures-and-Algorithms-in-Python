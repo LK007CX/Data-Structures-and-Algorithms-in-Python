{
 "cells": [
  {
   "cell_type": "code",
   "execution_count": 122,
   "metadata": {},
   "outputs": [],
   "source": [
    "class Empty(Exception):\n",
    "    \"\"\"Error attempting to access an element from an empty container.\"\"\"\n",
    "    pass"
   ]
  },
  {
   "cell_type": "code",
   "execution_count": 123,
   "metadata": {},
   "outputs": [],
   "source": [
    "class FullEmpty(Exception):\n",
    "    \"\"\"Error attempting to push an element to a container which already has a max-length.\"\"\"\n",
    "    pass"
   ]
  },
  {
   "cell_type": "code",
   "execution_count": 124,
   "metadata": {},
   "outputs": [],
   "source": [
    "class ArrayStack:\n",
    "    \"\"\"LIFO Stack implementation using a Python list as underlying storage.\"\"\"\n",
    "    \n",
    "    def __init__(self):\n",
    "        \"\"\"Create an empty stack.\"\"\"\n",
    "        self._data = []            # nonpublic list instance\n",
    "    \n",
    "    def __len__(self):\n",
    "        \"\"\"Return the number of elements in the stack.\"\"\"\n",
    "        return len(self._data)\n",
    "    \n",
    "    def is_empty(self):\n",
    "        \"\"\"Return True if the stack is empty.\"\"\"\n",
    "        return len(self._data) == 0\n",
    "    \n",
    "    def push(self, e):\n",
    "        \"\"\"Add element e to the top of the stack.\"\"\"\n",
    "        self._data.append(e)       # new item stored at end of list\n",
    "    \n",
    "    def top(self):\n",
    "        \"\"\"Return (but do not remove) the element at the top of the stack.\"\"\"\n",
    "        if self.is_empty():\n",
    "            raise Empty('Stack is empty')\n",
    "        return self._data[-1]      # the last item in the list\n",
    "    \n",
    "    def pop(self):\n",
    "        \"\"\"Remove and return the element from the top of the stack (i.e., LIFO).\n",
    "        \n",
    "        Raise Empty exception if the stack is empty.\n",
    "        \"\"\"\n",
    "        if self.is_empty():\n",
    "            raise Empty('Stack is empty')\n",
    "        return self._data.pop()    # remove last item from list"
   ]
  },
  {
   "cell_type": "code",
   "execution_count": 54,
   "metadata": {},
   "outputs": [],
   "source": [
    "class ArrayQueue:\n",
    "    \"\"\"FIFO queue implementation using a Python list as underlying storage.\"\"\"\n",
    "    DEFAULT_CAPACITY = 10    # moderate capacity for all new queues\n",
    "    \n",
    "    def __init__(self):\n",
    "        \"\"\"Create an empty queue.\"\"\"\n",
    "        self._data = [None] * ArrayQueue.DEFAULT_CAPACITY\n",
    "        self._size = 0        # 当前存储在队列内的元素的数量\n",
    "        self._front = 0       # _data实例队列中第一个元素的索引\n",
    "    \n",
    "    def __len__(self):\n",
    "        \"\"\"Return the num of the elements in the queue.\"\"\"\n",
    "        return self._size\n",
    "    \n",
    "    def is_empty(self):\n",
    "        \"\"\"Return True if the queue is empty.\"\"\"\n",
    "        return self._size == 0\n",
    "    \n",
    "    def first(self):\n",
    "        \"\"\"Return (but do not remove) the element at the front of the queue.\n",
    "        \n",
    "        Raise Empty exception if the queue is empty.\n",
    "        \"\"\"\n",
    "        if self.is_empty():\n",
    "            raise Empty('Queue is empty')\n",
    "        return self._data[self.front]\n",
    "    \n",
    "    def dequeue(self):\n",
    "        \"\"\"Remove and return the first element of the queue (i.e., FIFO).\n",
    "        \n",
    "        Raise Empty exception if the queue is empty.\n",
    "        \"\"\"\n",
    "        if self.is_empty():\n",
    "            raise Empty('Queue is empty')\n",
    "        answer = self._data[self._front]\n",
    "        self._data[self._front] = None                    # help garbage collection\n",
    "        self._front = (self._front + 1) % len(self._data)\n",
    "        self._size -= 1\n",
    "        \n",
    "        # resize\n",
    "        if 0 < self._size < len(self._data) // 4:\n",
    "            self._resize(len(self._data) // 2)\n",
    "            \n",
    "        return answer\n",
    "    \n",
    "    def enqueue(self, e):\n",
    "        \"\"\"Add an element to the back of the queue.\"\"\"\n",
    "        if self._size == len(self._data):\n",
    "            self._resize(2*len(self._data))     # double the array size\n",
    "        avail = (self._front + self._size) % len(self._data)\n",
    "        self._data[avail] = e\n",
    "        self._size += 1\n",
    "\n",
    "    def _resize(self, cap):    # we assume cap >= len(self)\n",
    "        \"\"\"Resize to a new list of capacity >= len(self).\"\"\"\n",
    "        old = self._data # keep track of existing list\n",
    "        self._data = [None] * cap  # allocate list with new capacity\n",
    "        walk = self._front\n",
    "        for k in range(self._size):    # only consider existing elements\n",
    "            self._data[k] = old[walk]    # intentionally shift indices\n",
    "            walk = (1+walk) % len(old)    # using old size as modulus\n",
    "        self._front = 0                   # front has been realigned"
   ]
  },
  {
   "cell_type": "markdown",
   "metadata": {},
   "source": [
    "R-6.1 如果在一个初始化为空的栈上执行如下一系列操作，将返回什么值？......"
   ]
  },
  {
   "cell_type": "markdown",
   "metadata": {},
   "source": [
    "略"
   ]
  },
  {
   "cell_type": "markdown",
   "metadata": {},
   "source": [
    "R-6.3 实现一个函数transfer(S, T)将栈S中的所有元素转移到栈T中，使位于S栈顶的元素被第一个插入到栈T中，使位于S栈底的元素被插入栈T的顶部。"
   ]
  },
  {
   "cell_type": "code",
   "execution_count": 55,
   "metadata": {},
   "outputs": [],
   "source": [
    "def transfer(S, T):\n",
    "    while not len(S) == 0:\n",
    "        T.append(S.pop())"
   ]
  },
  {
   "cell_type": "code",
   "execution_count": 56,
   "metadata": {},
   "outputs": [
    {
     "name": "stdout",
     "output_type": "stream",
     "text": [
      "before:\n",
      "[0, 1, 2, 3, 4, 5, 6, 7, 8, 9]\n",
      "[]\n",
      "\n",
      "now:\n",
      "[]\n",
      "[9, 8, 7, 6, 5, 4, 3, 2, 1, 0]\n"
     ]
    }
   ],
   "source": [
    "S = [i for i in range(10)]\n",
    "T = []\n",
    "print(\"before:\")\n",
    "print(S)\n",
    "print(T)\n",
    "transfer(S, T)\n",
    "print('\\nnow:')\n",
    "print(S)\n",
    "print(T)"
   ]
  },
  {
   "cell_type": "markdown",
   "metadata": {},
   "source": [
    "R-6.4 给出一个用于从栈中移除所有元素的递归实现方法。"
   ]
  },
  {
   "cell_type": "code",
   "execution_count": 57,
   "metadata": {},
   "outputs": [],
   "source": [
    "def remove_all(data, n):\n",
    "    if n == 0:\n",
    "        data.pop(0)\n",
    "    else:\n",
    "        data.pop(n)\n",
    "        remove_all(data, n-1)"
   ]
  },
  {
   "cell_type": "code",
   "execution_count": 58,
   "metadata": {},
   "outputs": [
    {
     "name": "stdout",
     "output_type": "stream",
     "text": [
      "[0, 1, 2, 3, 4, 5, 6, 7, 8, 9]\n",
      "[]\n"
     ]
    }
   ],
   "source": [
    "data = [i for i in range(10)]\n",
    "print(data)\n",
    "remove_all(data, len(data)-1)\n",
    "print(data)"
   ]
  },
  {
   "cell_type": "markdown",
   "metadata": {},
   "source": [
    "R-6.5 实现一个函数，通过将一个列表内的元素按顺序压入堆栈中，然后逆序把它们写回到列表中，实现列表的逆置。"
   ]
  },
  {
   "cell_type": "code",
   "execution_count": 59,
   "metadata": {},
   "outputs": [],
   "source": [
    "def reverse(data):\n",
    "    temp = []\n",
    "    while len(data) > 0:\n",
    "        temp.append(data.pop())\n",
    "    return temp"
   ]
  },
  {
   "cell_type": "code",
   "execution_count": 60,
   "metadata": {},
   "outputs": [
    {
     "name": "stdout",
     "output_type": "stream",
     "text": [
      "[0, 1, 2, 3, 4, 5, 6, 7, 8, 9]\n",
      "[9, 8, 7, 6, 5, 4, 3, 2, 1, 0]\n"
     ]
    }
   ],
   "source": [
    "data = [i for i in range(10)]\n",
    "print(data)\n",
    "result = reverse(data)\n",
    "print(result)"
   ]
  },
  {
   "cell_type": "markdown",
   "metadata": {},
   "source": [
    "R-6.6 给出一个算数表达式中分组符号匹配的精确而完整的定义。应确保定义可以是递归的。"
   ]
  },
  {
   "cell_type": "markdown",
   "metadata": {},
   "source": [
    "略"
   ]
  },
  {
   "cell_type": "markdown",
   "metadata": {},
   "source": [
    "R-6.7 如果。。。"
   ]
  },
  {
   "cell_type": "markdown",
   "metadata": {},
   "source": [
    "R-6.8 假设一个。。。"
   ]
  },
  {
   "cell_type": "markdown",
   "metadata": {},
   "source": [
    "R-6.9 假定"
   ]
  },
  {
   "cell_type": "markdown",
   "metadata": {},
   "source": [
    "R-6.10 试想"
   ]
  },
  {
   "cell_type": "markdown",
   "metadata": {},
   "source": [
    "R-6.11 给出一个简单的适配器实现队列ADT，其中一个采用一个collections.deque实例作为存储。"
   ]
  },
  {
   "cell_type": "code",
   "execution_count": 61,
   "metadata": {},
   "outputs": [],
   "source": [
    "from collections import deque"
   ]
  },
  {
   "cell_type": "code",
   "execution_count": 62,
   "metadata": {},
   "outputs": [],
   "source": [
    "class DequeQueue:\n",
    "    \"\"\"FIFO queue implementation using a collections.deque as underlying storage.\"\"\"\n",
    "    DEFAULT_CAPACITY = 10\n",
    "    \n",
    "    def __init__(self):\n",
    "        \"\"\"Create an empt queue.\"\"\"\n",
    "        self._data = deque(maxlen=DequeQueue.DEFAULT_CAPACITY)\n",
    "        self._size = 0\n",
    "    \n",
    "    def __len__(self):\n",
    "        \"\"\"Return the number of elements in the queue.\"\"\"\n",
    "        return self._size\n",
    "    \n",
    "    def is_empty(self):\n",
    "        \"\"\"Return True if the queue is empty.\"\"\"\n",
    "        return self._size == 0\n",
    "    \n",
    "    def first(self):\n",
    "        \"\"\"Return (but do not remove) the element at the front of the queue.\n",
    "        \n",
    "        Raise Empty expection if the queue is empty.\n",
    "        \"\"\"\n",
    "        if self.is_empty():\n",
    "            raise Empty('Queue is empty')\n",
    "        return self._data.first()\n",
    "    \n",
    "    def dequeue(self):\n",
    "        \"\"\"Remove and return the first element of the queue (i.e., FIFO).\n",
    "        \n",
    "        Raise Empty exception if the queue is empty.\n",
    "        \"\"\"\n",
    "        if self.is_empty():\n",
    "            raise Empty('Queue is empty')\n",
    "        answer = self._data.popleft()\n",
    "        self._size -= 1\n",
    "        return answer\n",
    "    \n",
    "    def enqueue(self, e):\n",
    "        \"\"\"Add an element to the back of the queue.\"\"\"\n",
    "        self._data.append(e)\n",
    "        self._size += 1"
   ]
  },
  {
   "cell_type": "code",
   "execution_count": 63,
   "metadata": {},
   "outputs": [
    {
     "name": "stdout",
     "output_type": "stream",
     "text": [
      "10\n"
     ]
    }
   ],
   "source": [
    "data = DequeQueue()\n",
    "data.enqueue(10)\n",
    "result = data.dequeue()\n",
    "print(result)"
   ]
  },
  {
   "cell_type": "markdown",
   "metadata": {},
   "source": [
    "R-6.12 在一个"
   ]
  },
  {
   "cell_type": "markdown",
   "metadata": {},
   "source": [
    "R-6.13 假设有一个含有数字（1，2，3，4，5，6，7，8）并按照这一顺序排列的双端队列D，并进一步假设有一个初始化为空的队列Q。给出一个只用D和Q（不包含其他变量）实现的代码片段，将元素（1，2，3，4，5，6，7，8）按这一顺序存储在D中。"
   ]
  },
  {
   "cell_type": "code",
   "execution_count": 64,
   "metadata": {},
   "outputs": [],
   "source": [
    "def func(D, Q):\n",
    "    while len(D) != 0:\n",
    "        Q.enqueue(D.popleft())"
   ]
  },
  {
   "cell_type": "code",
   "execution_count": 65,
   "metadata": {},
   "outputs": [
    {
     "name": "stdout",
     "output_type": "stream",
     "text": [
      "deque([1, 2, 3, 4, 5, 6, 7, 8])\n",
      "<__main__.ArrayQueue object at 0x000001F86E63C580>\n",
      "deque([])\n",
      "<__main__.ArrayQueue object at 0x000001F86E63C580>\n"
     ]
    }
   ],
   "source": [
    "from collections import deque\n",
    "D = deque()\n",
    "Q = ArrayQueue()\n",
    "for i in range(1, 9):\n",
    "    D.append(i)\n",
    "print(D)\n",
    "print(Q)\n",
    "func(D, Q)\n",
    "print(D)\n",
    "print(Q)"
   ]
  },
  {
   "cell_type": "markdown",
   "metadata": {},
   "source": [
    "R-6.14 使用双端队列D和一个初始化为空的栈S重复做上一个问题。"
   ]
  },
  {
   "cell_type": "code",
   "execution_count": 66,
   "metadata": {},
   "outputs": [],
   "source": [
    "def func(D, S):\n",
    "    while len(D) != 0:\n",
    "        S.push(D.popleft())"
   ]
  },
  {
   "cell_type": "code",
   "execution_count": 67,
   "metadata": {},
   "outputs": [
    {
     "name": "stdout",
     "output_type": "stream",
     "text": [
      "deque([1, 2, 3, 4, 5, 6, 7, 8])\n",
      "<__main__.ArrayStack object at 0x000001F86E63CE20>\n",
      "deque([])\n",
      "<__main__.ArrayStack object at 0x000001F86E63CE20>\n"
     ]
    }
   ],
   "source": [
    "from collections import deque\n",
    "D = deque()\n",
    "Q = ArrayStack()\n",
    "for i in range(1, 9):\n",
    "    D.append(i)\n",
    "print(D)\n",
    "print(Q)\n",
    "func(D, Q)\n",
    "print(D)\n",
    "print(Q)"
   ]
  },
  {
   "cell_type": "markdown",
   "metadata": {},
   "source": [
    "R-6.15 假设爱丽丝"
   ]
  },
  {
   "cell_type": "markdown",
   "metadata": {},
   "source": [
    "R-6.16 修改基于数组的栈的实现方法，使栈的容量限制载最大元素数量maxlen之内。该最大数量对于构造函数（默认值为none）是一个可选参数。如果push操作在栈满时被调用，则抛出一个“栈满”异常（与栈空异常定义类似）。"
   ]
  },
  {
   "cell_type": "code",
   "execution_count": 68,
   "metadata": {},
   "outputs": [],
   "source": [
    "class FullEmpty(Exception):\n",
    "    \"\"\"Error attempting to push an element to a container which already has a max-length.\"\"\"\n",
    "    pass"
   ]
  },
  {
   "cell_type": "code",
   "execution_count": 69,
   "metadata": {},
   "outputs": [],
   "source": [
    "class Empty(Exception):\n",
    "    \"\"\"Error attempting to access an element from an empty container.\"\"\"\n",
    "    pass"
   ]
  },
  {
   "cell_type": "code",
   "execution_count": 103,
   "metadata": {},
   "outputs": [],
   "source": [
    "class ArrayStack:\n",
    "    \"\"\"LIFO Stack implementation using a Python list as underlying storage.\"\"\"\n",
    "    DEFAULT_CAPACITY = 10\n",
    "    def __init__(self, maxlen=None):\n",
    "        \"\"\"Create an empty stack.\"\"\"\n",
    "        self._data = []            # nonpublic list instance\n",
    "        self._maxlen = maxlen if maxlen else ArrayStack.DEFAULT_CAPACITY\n",
    "    \n",
    "    def __len__(self):\n",
    "        \"\"\"Return the number of elements in the stack.\"\"\"\n",
    "        return len(self._data)\n",
    "    \n",
    "    def is_empty(self):\n",
    "        \"\"\"Return True if the stack is empty.\"\"\"\n",
    "        return len(self._data) == 0\n",
    "    \n",
    "    # ********** the solution is here *********\n",
    "    def push(self, e):\n",
    "        \"\"\"Add element e to the top of the stack.\"\"\"\n",
    "        if len(self) == self._maxlen:\n",
    "            raise FullEmpty('The stack is already full.')\n",
    "        self._data.append(e)       # new item stored at end of list\n",
    "    \n",
    "    def top(self):\n",
    "        \"\"\"Return (but do not remove) the element at the top of the stack.\"\"\"\n",
    "        if self.is_empty():\n",
    "            raise Empty('Stack is empty')\n",
    "        return self._data[-1]      # the last item in the list\n",
    "    \n",
    "    def pop(self):\n",
    "        \"\"\"Remove and return the element from the top of the stack (i.e., LIFO).\n",
    "        \n",
    "        Raise Empty exception if the stack is empty.\n",
    "        \"\"\"\n",
    "        if self.is_empty():\n",
    "            raise Empty('Stack is empty')\n",
    "        return self._data.pop()    # remove last item from list"
   ]
  },
  {
   "cell_type": "markdown",
   "metadata": {},
   "source": [
    "C-6.17 在之前实现栈的练习中，假设底层列表是空的。重做该练习，此时预分配一个长度等于堆栈最大容量的底层列表。"
   ]
  },
  {
   "cell_type": "code",
   "execution_count": null,
   "metadata": {},
   "outputs": [],
   "source": [
    "class Empty(Exception):\n",
    "    \"\"\"Error attempting to access an element from an empty container.\"\"\"\n",
    "    pass"
   ]
  },
  {
   "cell_type": "code",
   "execution_count": null,
   "metadata": {},
   "outputs": [],
   "source": [
    "class FullEmpty(Exception):\n",
    "    \"\"\"Error attempting to push an element to a container which already has a max-length.\"\"\"\n",
    "    pass"
   ]
  },
  {
   "cell_type": "code",
   "execution_count": 114,
   "metadata": {},
   "outputs": [],
   "source": [
    "class ArrayStack:\n",
    "    \"\"\"LIFO Stack implementation using a Python list as underlying storage.\"\"\"\n",
    "    DEFAULT_CAPACITY = 10\n",
    "    def __init__(self, maxlen=None):\n",
    "        \"\"\"Create an empty stack.\"\"\"\n",
    "        self._maxlen = maxlen if maxlen else ArrayStack.DEFAULT_CAPACITY\n",
    "        self._data = [None] * self._maxlen            # nonpublic list instance\n",
    "        self._size = 0\n",
    "    \n",
    "    def __len__(self):\n",
    "        \"\"\"Return the number of elements in the stack.\"\"\"\n",
    "        return len(self._data)\n",
    "    \n",
    "    def is_empty(self):\n",
    "        \"\"\"Return True if the stack is empty.\"\"\"\n",
    "        return len(self._data) == 0\n",
    "    \n",
    "    # ********** the solution is here *********\n",
    "    def push(self, e):\n",
    "        \"\"\"Add element e to the top of the stack.\"\"\"\n",
    "#         if len(self) == self._maxlen:\n",
    "#             raise FullEmpty('The stack is already full.')\n",
    "        self._data[self._size] = e\n",
    "        self._size += 1\n",
    "    \n",
    "    def top(self):\n",
    "        \"\"\"Return (but do not remove) the element at the top of the stack.\"\"\"\n",
    "        if self.is_empty():\n",
    "            raise Empty('Stack is empty')\n",
    "        return self._data[-1]      # the last item in the list\n",
    "    \n",
    "    def pop(self):\n",
    "        \"\"\"Remove and return the element from the top of the stack (i.e., LIFO).\n",
    "        \n",
    "        Raise Empty exception if the stack is empty.\n",
    "        \"\"\"\n",
    "        if self.is_empty():\n",
    "            raise Empty('Stack is empty')\n",
    "        self._size -= 1\n",
    "        answer = self._data.pop()\n",
    "        return answer    # remove last item from list"
   ]
  },
  {
   "cell_type": "markdown",
   "metadata": {},
   "source": [
    "C-6.18 如何用练习R-6.3中描述的转换函数和两个临时栈来取代一个给定相同元素但顺序逆置的栈。"
   ]
  },
  {
   "cell_type": "markdown",
   "metadata": {},
   "source": [
    "> R-6.3 实现一个函数transfer(S, T)将栈S中的所有元素转移到栈T中，使位于S栈顶的元素被第一个插入到栈T中，使位于S栈底的元素被插入栈T的顶部。"
   ]
  },
  {
   "cell_type": "markdown",
   "metadata": {},
   "source": [
    "> before:\n",
    "[0, 1, 2, 3, 4, 5, 6, 7, 8, 9]\n",
    "[]\n",
    "\n",
    "> now:\n",
    "[]\n",
    "[9, 8, 7, 6, 5, 4, 3, 2, 1, 0]"
   ]
  },
  {
   "cell_type": "markdown",
   "metadata": {},
   "source": [
    "**不明白题目的意思**"
   ]
  },
  {
   "cell_type": "markdown",
   "metadata": {},
   "source": [
    "C-6.19 在代码段6-5中，假设HTML的开始标签具有`<name>`与`<Li>`的形式。更普遍的是，HTML允许可选的属性作为开始标签的一部分，所用的一般格式是`<name attribute1=\"value1\" attribute2=\"value2\">`；例如，表可以通过使用开始标签`<table border=\"3\" cellpadding=\"5\">`被赋予一个边界和附加数据。修改代码段6-5，使得即使在一个开始标签包含一个或多个这样的属性时，也可以正确标记。"
   ]
  },
  {
   "cell_type": "markdown",
   "metadata": {},
   "source": [
    "> 代码段6-5 测试一个HTML文本是否有匹配标签的函数"
   ]
  },
  {
   "cell_type": "markdown",
   "metadata": {},
   "source": [
    "```python\n",
    "def is_matched_html(raw):\n",
    "    \"\"\"Return True if all HTML tags are properly match; False otherwise.\"\"\"\n",
    "    S = ArrayStack()\n",
    "    j = raw.find('<')                 # find first '<' character (if any)\n",
    "    while j != -1:\n",
    "        k = raw.find('>', j + 1)      # find next '>' character\n",
    "        if k == -1:\n",
    "            return False              # invalid tag\n",
    "        tag = raw[j+1, k]             # strip away < >\n",
    "        if not tag.startwith('/'):    # this is opening tag\n",
    "            S.push(tag)\n",
    "        else:                         # this is closing tag \n",
    "            if S.is_empty():\n",
    "                return False          # nothing to match with\n",
    "            if tag[1:] != S.pop():\n",
    "                return False          # mismatched delimiter\n",
    "        j = raw.find('<', k+1)        # find next '<' character (if any)\n",
    "    return S.is_empty()               # were all opening tags matched?\n",
    "```"
   ]
  },
  {
   "cell_type": "code",
   "execution_count": 96,
   "metadata": {},
   "outputs": [],
   "source": [
    "def is_matched_html_attribute(raw):\n",
    "    \"\"\"Return True if all HTML tags are properly match; False otherwise.\"\"\"\n",
    "    S = ArrayStack()\n",
    "    j = raw.find('<')\n",
    "    while j != -1:\n",
    "        k = raw.find('>', j + 1)\n",
    "        if k == -1:\n",
    "            return False\n",
    "        tag = raw[j+1, k].split(' ')[0]\n",
    "        if not tag.startwith('/'):\n",
    "            S.push(tag)\n",
    "        else:\n",
    "            if S.is_empty():\n",
    "                return False\n",
    "            if tag[1:] != S.pop():\n",
    "                return False\n",
    "        j = raw.find('<', k+1)\n",
    "    return S.is_empty()"
   ]
  },
  {
   "cell_type": "markdown",
   "metadata": {},
   "source": [
    "C-6.20 通过一个栈实现一个非递归算法来枚举{1, 2, ... ,n}所有排列数结果。"
   ]
  },
  {
   "cell_type": "code",
   "execution_count": 120,
   "metadata": {},
   "outputs": [],
   "source": [
    "def func(S, n):\n",
    "    for i in range(n, 0, -1):\n",
    "        S.push(i)\n",
    "    for i in range(len(S)):\n",
    "        print(S.pop(), end=',')"
   ]
  },
  {
   "cell_type": "code",
   "execution_count": 121,
   "metadata": {},
   "outputs": [
    {
     "name": "stdout",
     "output_type": "stream",
     "text": [
      "1,2,3,4,5,6,7,8,9,10,"
     ]
    }
   ],
   "source": [
    "S = ArrayStack()\n",
    "func(S, 10)"
   ]
  },
  {
   "cell_type": "markdown",
   "metadata": {},
   "source": [
    "C-6.22 *后缀表示法*是一种书写不带括号的算术表达式的简明方法。它是这样定义的：如果“$(exp_1)OP(exp_2)$”是一个普通、完整的括号表达式，它的操作符是OP，那么它的后缀版本为“$pexp_1是pexp_2 OP$”，其中$pexp_1$是exp_1的后缀表示形式，pexp_2是exp_2的后缀表示形式。一个单一的数组或变量的后缀表示形式就是这个数字或变量。例如，“$((5+2)(8-3))/4$”的后缀版本为“$52+83-*4/$”。写出一种非递归方法方式实现的后缀表达式转换算法。"
   ]
  },
  {
   "cell_type": "code",
   "execution_count": 15,
   "metadata": {},
   "outputs": [],
   "source": [
    "def generate_postfix(data):\n",
    "    op_rank = {'*': 2, '/': 2, '+': 1, '-': 1}  # 定义加减乘除的优先级\n",
    "    brackets = ['(', ')']                       # 括号\n",
    "    stack = []                          # 用list模拟栈的后进先出（存储运算符）\n",
    "    post_list = []                      # 存储数字\n",
    "    for s in data:\n",
    "        # 如果是括号\n",
    "        if s in brackets:\n",
    "            continue\n",
    "        # operator\n",
    "        if s in '+-*/':\n",
    "            # 栈不为空，且栈顶运算符的优先级小于当前运算符\n",
    "            while stack and op_rank.get(stack[-1]) <= op_rank.get(s):\n",
    "                post_list.append(stack.pop())\n",
    "            stack.append(s)\n",
    "        # numbers\n",
    "        else:\n",
    "            post_list.append(s)\n",
    "    while stack:\n",
    "        post_list.append(stack.pop())\n",
    "    return ''.join(post_list)"
   ]
  },
  {
   "cell_type": "code",
   "execution_count": 20,
   "metadata": {},
   "outputs": [
    {
     "name": "stdout",
     "output_type": "stream",
     "text": [
      "52+83-*4/\n"
     ]
    }
   ],
   "source": [
    "data = \"((5+2)*(8-3))/4\" # 52+83-*4/\n",
    "result = generate_postfix(data)\n",
    "print(result)"
   ]
  },
  {
   "cell_type": "code",
   "execution_count": 21,
   "metadata": {},
   "outputs": [
    {
     "name": "stdout",
     "output_type": "stream",
     "text": [
      "52+4*\n"
     ]
    }
   ],
   "source": [
    "data = \"(5+2)*4\" # 52+4*\n",
    "result = generate_postfix(data)\n",
    "print(result)"
   ]
  },
  {
   "cell_type": "code",
   "execution_count": null,
   "metadata": {},
   "outputs": [],
   "source": []
  },
  {
   "cell_type": "code",
   "execution_count": null,
   "metadata": {},
   "outputs": [],
   "source": []
  },
  {
   "cell_type": "code",
   "execution_count": null,
   "metadata": {},
   "outputs": [],
   "source": []
  },
  {
   "cell_type": "code",
   "execution_count": null,
   "metadata": {},
   "outputs": [],
   "source": []
  }
 ],
 "metadata": {
  "kernelspec": {
   "display_name": "Python 3",
   "language": "python",
   "name": "python3"
  },
  "language_info": {
   "codemirror_mode": {
    "name": "ipython",
    "version": 3
   },
   "file_extension": ".py",
   "mimetype": "text/x-python",
   "name": "python",
   "nbconvert_exporter": "python",
   "pygments_lexer": "ipython3",
   "version": "3.8.3"
  },
  "toc": {
   "base_numbering": 1,
   "nav_menu": {},
   "number_sections": true,
   "sideBar": true,
   "skip_h1_title": false,
   "title_cell": "Table of Contents",
   "title_sidebar": "Contents",
   "toc_cell": false,
   "toc_position": {},
   "toc_section_display": true,
   "toc_window_display": false
  }
 },
 "nbformat": 4,
 "nbformat_minor": 4
}
