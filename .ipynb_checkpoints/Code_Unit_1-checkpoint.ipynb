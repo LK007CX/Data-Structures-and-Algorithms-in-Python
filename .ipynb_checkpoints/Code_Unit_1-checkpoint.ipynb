{
 "cells": [
  {
   "cell_type": "markdown",
   "metadata": {},
   "source": [
    "# 第1章 Python入门"
   ]
  },
  {
   "cell_type": "markdown",
   "metadata": {},
   "source": [
    "代码段1-1 计算学生平均绩点（GPA）的Python代码"
   ]
  },
  {
   "cell_type": "code",
   "execution_count": 1,
   "metadata": {},
   "outputs": [
    {
     "name": "stdout",
     "output_type": "stream",
     "text": [
      "Welcome to the GPA calculator.\n",
      "Please enter all your letter grades, one per line.\n",
      "Enter a blank line to designate the end.\n",
      "\n"
     ]
    }
   ],
   "source": [
    "print('Welcome to the GPA calculator.')\n",
    "print('Please enter all your letter grades, one per line.')\n",
    "print('Enter a blank line to designate the end.')\n",
    "# map from letter grade to point value\n",
    "points = {'A+':4.0, 'A':4.0, 'A-':3.67, 'B+':3.33, 'B':3.0, 'B-':2.67,\n",
    "         'C+':2.33, 'C':2.0, 'C-':1.67, 'D+':1.33, 'D':1.0, 'F':0.0}\n",
    "num_courses = 0\n",
    "total_points = 0\n",
    "done = False\n",
    "while not done:\n",
    "    grade = input()    # read line from user\n",
    "    if grade == '':    # empty line was entered\n",
    "        done = True\n",
    "    elif grade not in points:    # unrecognized grade enter\n",
    "        print(\"Unknown grade '{0}' being ignored\".format(grade))\n",
    "    else:\n",
    "        num_courses += 1\n",
    "        total_points += points[grade]\n",
    "if num_courses > 0:\n",
    "    print('Your GPA is {0:3}'.format(total_points / num_courses))"
   ]
  },
  {
   "cell_type": "markdown",
   "metadata": {},
   "source": [
    "代码段1-2 一个计算学生平均绩点的函数，这个函数的特点是可以定制可选的参数"
   ]
  },
  {
   "cell_type": "code",
   "execution_count": 3,
   "metadata": {},
   "outputs": [],
   "source": [
    "def compute_gpa(grades, points = {'A+':4.0, 'A':4.0, 'A-':3.67, 'B+':3.33,\n",
    "                                  'B':3.0, 'B-':2.67, 'C+':2.33, 'C':2.0,\n",
    "                                  'C-':1.67, 'D+':1.33, 'D':1.0, 'F':0.0}):\n",
    "    num_courses = 0\n",
    "    total_points = 0\n",
    "    for g in grades:\n",
    "        if g in points:    # a recognizable grade\n",
    "            num_courses += 1\n",
    "            total_points += points[g]\n",
    "    return total_points / num_courses"
   ]
  },
  {
   "cell_type": "code",
   "execution_count": 6,
   "metadata": {},
   "outputs": [
    {
     "name": "stdout",
     "output_type": "stream",
     "text": [
      "2.5\n"
     ]
    }
   ],
   "source": [
    "if __name__ == \"__main__\":\n",
    "    gpa = compute_gpa(['A', 'B', 'C', 'D'])\n",
    "    print(gpa)"
   ]
  }
 ],
 "metadata": {
  "kernelspec": {
   "display_name": "Python 3",
   "language": "python",
   "name": "python3"
  },
  "language_info": {
   "codemirror_mode": {
    "name": "ipython",
    "version": 3
   },
   "file_extension": ".py",
   "mimetype": "text/x-python",
   "name": "python",
   "nbconvert_exporter": "python",
   "pygments_lexer": "ipython3",
   "version": "3.8.8"
  },
  "toc": {
   "base_numbering": 1,
   "nav_menu": {},
   "number_sections": true,
   "sideBar": true,
   "skip_h1_title": false,
   "title_cell": "Table of Contents",
   "title_sidebar": "Contents",
   "toc_cell": false,
   "toc_position": {},
   "toc_section_display": true,
   "toc_window_display": true
  }
 },
 "nbformat": 4,
 "nbformat_minor": 4
}
