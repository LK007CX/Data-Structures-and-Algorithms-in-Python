{
 "cells": [
  {
   "cell_type": "markdown",
   "metadata": {},
   "source": [
    "代码段6-1 Empty异常类的实现"
   ]
  },
  {
   "cell_type": "code",
   "execution_count": 1,
   "metadata": {},
   "outputs": [],
   "source": [
    "class Empty(Exception):\n",
    "    \"\"\"Error attempting to access an element from an empty container.\"\"\"\n",
    "    pass"
   ]
  },
  {
   "cell_type": "markdown",
   "metadata": {},
   "source": [
    "代码段6-2 用Python列表作为存储实现一个栈"
   ]
  },
  {
   "cell_type": "code",
   "execution_count": 5,
   "metadata": {},
   "outputs": [],
   "source": [
    "class ArrayStack:\n",
    "    \"\"\"LIFO Stack implementation using a Python list as underlying storage.\"\"\"\n",
    "    \n",
    "    def __init__(self):\n",
    "        \"\"\"Create an empty stack.\"\"\"\n",
    "        self._data = []            # nonpublic list instance\n",
    "    \n",
    "    def __len__(self):\n",
    "        \"\"\"Return the number of elements in the stack.\"\"\"\n",
    "        return len(self._data)\n",
    "    \n",
    "    def is_empty(self):\n",
    "        \"\"\"Return True if the stack is empty.\"\"\"\n",
    "        return len(self._data) == 0\n",
    "    \n",
    "    def push(self, e):\n",
    "        \"\"\"Add element e to the top of the stack.\"\"\"\n",
    "        self._data.append(e)       # new item stored at end of list\n",
    "    \n",
    "    def top(self):\n",
    "        \"\"\"Return (but do not remove) the element at the top of the stack.\"\"\"\n",
    "        if self.is_empty():\n",
    "            raise Empty('Stack is empty')\n",
    "        return self._data[-1]      # the last item in the list\n",
    "    \n",
    "    def pop(self):\n",
    "        \"\"\"Remove and return the element from the top of the stack (i.e., LIFO).\n",
    "        \n",
    "        Raise Empty exception if the stack is empty.\n",
    "        \"\"\"\n",
    "        if self.is_empty():\n",
    "            raise Empty('Stack is empty')\n",
    "        return self._data.pop()    # remove last item from list"
   ]
  },
  {
   "cell_type": "markdown",
   "metadata": {},
   "source": [
    "代码段6-3 一个实现一个文件中各行的逆置函数"
   ]
  },
  {
   "cell_type": "code",
   "execution_count": 6,
   "metadata": {},
   "outputs": [],
   "source": [
    "def reverse_file(filename):\n",
    "    \"\"\"Overwrite given file with its contents line-by-line reversed.\"\"\"\n",
    "    \n",
    "    S = ArrayStack()\n",
    "    original = open(filename)\n",
    "    for line in origin:\n",
    "        S.push(line.rstrip('\\n'))      # we will re-insert newlines when writing\n",
    "    original.close()\n",
    "    \n",
    "    # now we overwrite with contents in LIFO order\n",
    "    output = open(filename, 'w')       # reopening file overwrites original\n",
    "    while S.is_empty():\n",
    "        output.write(S.pop(), '\\n')    # re-insert newline characters\n",
    "    out.close()"
   ]
  },
  {
   "cell_type": "markdown",
   "metadata": {},
   "source": [
    "代码段6-4 在算数表达式中分隔符匹配算法的函数实现"
   ]
  },
  {
   "cell_type": "code",
   "execution_count": 7,
   "metadata": {},
   "outputs": [],
   "source": [
    "def is_matched(expr):\n",
    "    \"\"\"Return True if all delimiters are properly match; False otherwise.\"\"\"\n",
    "    lefty = '({['               # opening delimiters\n",
    "    righty = ')}]'              # respective closing delims\n",
    "    S = ArrayStack()\n",
    "    for c in expr:\n",
    "        if c in lefty:\n",
    "            S.push(c)           # push left delimiter on stack\n",
    "        elif c in righty:\n",
    "            if S.is_empty():\n",
    "                return False    # nothing to match with\n",
    "            if righty.index(c) != lefty.index(S.pop()):\n",
    "                return False    # mismatched\n",
    "    return S.is_empty()         # were all symbols matched"
   ]
  },
  {
   "cell_type": "markdown",
   "metadata": {},
   "source": [
    "代码段6-5 测试一个HTML文本是否有匹配标签的函数"
   ]
  },
  {
   "cell_type": "code",
   "execution_count": 8,
   "metadata": {},
   "outputs": [],
   "source": [
    "def is_matched_html(raw):\n",
    "    \"\"\"Return True if all HTML tags are properly match; False otherwise.\"\"\"\n",
    "    S = ArrayStack()\n",
    "    j = raw.find('<')                 # find first '<' character (if any)\n",
    "    while j != -1:\n",
    "        k = raw.find('>', j + 1)      # find next '>' character\n",
    "        if k == -1:\n",
    "            return False              # invalid tag\n",
    "        tag = raw[j+1, k]             # strip away < >\n",
    "        if not tag.startwith('/'):    # this is opening tag\n",
    "            S.push(tag)\n",
    "        else:                         # this is closing tag \n",
    "            if S.is_empty():\n",
    "                return False          # nothing to match with\n",
    "            if tag[1:] != S.pop():\n",
    "                return False          # mismatched delimiter\n",
    "        j = raw.find('<', k+1)        # find next '<' character (if any)\n",
    "    return S.is_empty()               # were all opening tags matched?"
   ]
  },
  {
   "cell_type": "markdown",
   "metadata": {},
   "source": [
    "代码段6-6 基于数组的队列的实现（下接代码段6-7）"
   ]
  },
  {
   "cell_type": "code",
   "execution_count": 10,
   "metadata": {},
   "outputs": [],
   "source": [
    "class ArrayQueue:\n",
    "    \"\"\"FIFO queue implementation using a Python list as underlying storage.\"\"\"\n",
    "    DEFAULT_CAPACITY = 10    # moderate capacity for all new queues\n",
    "    \n",
    "    def __init__(self):\n",
    "        \"\"\"Create an empty queue.\"\"\"\n",
    "        self._data = [None] * ArrayQueue.DEFAULT_CAPACITY\n",
    "        self._size = 0        # 当前存储在队列内的元素的数量\n",
    "        self._front = 0       # _data实例队列中第一个元素的索引\n",
    "    \n",
    "    def __len__(self):\n",
    "        \"\"\"Return the num of the elements in the queue.\"\"\"\n",
    "        return self._size\n",
    "    \n",
    "    def is_empty(self):\n",
    "        \"\"\"Return True if the queue is empty.\"\"\"\n",
    "        return self._size == 0\n",
    "    \n",
    "    def first(self):\n",
    "        \"\"\"Return (but do not remove) the element at the front of the queue.\n",
    "        \n",
    "        Raise Empty exception if the queue is empty.\n",
    "        \"\"\"\n",
    "        if self.is_empty():\n",
    "            raise Empty('Queue is empty')\n",
    "        return self._data[self.front]\n",
    "    \n",
    "    def dequeue(self):\n",
    "        \"\"\"Remove and return the first element of the queue (i.e., FIFO).\n",
    "        \n",
    "        Raise Empty exception if the queue is empty.\n",
    "        \"\"\"\n",
    "        if self.is_empty():\n",
    "            raise Empty('Queue is empty')\n",
    "        answer = self._data[self._front]\n",
    "        self._data[self._front] = None                    # help garbage collection\n",
    "        self._front = (self._front + 1) % len(self._data)\n",
    "        self._size -= 1\n",
    "        \n",
    "        # resize\n",
    "        if 0 < self._size < len(self._data) // 4:\n",
    "            self._resize(len(self._data) // 2)\n",
    "            \n",
    "        return answer"
   ]
  },
  {
   "cell_type": "markdown",
   "metadata": {},
   "source": [
    "代码段6-7 一个基于数组的队列的实现（上接代码段6-6）"
   ]
  },
  {
   "cell_type": "code",
   "execution_count": 11,
   "metadata": {},
   "outputs": [],
   "source": [
    "def enqueue(self, e):\n",
    "    \"\"\"Add an element to the back of the queue.\"\"\"\n",
    "    if self._size == len(self._data):\n",
    "        self._resize(2*len(self._data))     # double the array size\n",
    "    avail = (self._front + self._size) % len(self._data)\n",
    "    self._data[avail] = e\n",
    "    self._size += 1\n",
    "\n",
    "def _resize(self, cap):    # we assume cap >= len(self)\n",
    "    \"\"\"Resize to a new list of capacity >= len(self).\"\"\"\n",
    "    old = self._data # keep track of existing list\n",
    "    self._data = [None] * cap  # allocate list with new capacity\n",
    "    walk = self._front\n",
    "    for k in range(self._size):    # only consider existing elements\n",
    "        self._data[k] = old[walk]    # intentionally shift indices\n",
    "        walk = (1+walk) % len(old)    # using old size as modulus\n",
    "    self._front = 0                   # front has been realigned"
   ]
  },
  {
   "cell_type": "code",
   "execution_count": null,
   "metadata": {},
   "outputs": [],
   "source": []
  }
 ],
 "metadata": {
  "kernelspec": {
   "display_name": "Python 3",
   "language": "python",
   "name": "python3"
  },
  "language_info": {
   "codemirror_mode": {
    "name": "ipython",
    "version": 3
   },
   "file_extension": ".py",
   "mimetype": "text/x-python",
   "name": "python",
   "nbconvert_exporter": "python",
   "pygments_lexer": "ipython3",
   "version": "3.8.3"
  },
  "toc": {
   "base_numbering": 1,
   "nav_menu": {},
   "number_sections": true,
   "sideBar": true,
   "skip_h1_title": false,
   "title_cell": "Table of Contents",
   "title_sidebar": "Contents",
   "toc_cell": false,
   "toc_position": {
    "height": "calc(100% - 180px)",
    "left": "10px",
    "top": "150px",
    "width": "165px"
   },
   "toc_section_display": true,
   "toc_window_display": true
  }
 },
 "nbformat": 4,
 "nbformat_minor": 4
}
