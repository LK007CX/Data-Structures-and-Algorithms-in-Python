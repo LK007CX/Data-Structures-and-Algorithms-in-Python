{
 "cells": [
  {
   "cell_type": "markdown",
   "metadata": {},
   "source": [
    "代码段10-1 一个统计单词出现频率并报告出现最频繁单词的程序。我们使用Python的dict类实现这个映射，将输入转化为小写字母并忽略所有的非字母字符"
   ]
  },
  {
   "cell_type": "code",
   "execution_count": 6,
   "metadata": {},
   "outputs": [
    {
     "name": "stdout",
     "output_type": "stream",
     "text": [
      "The most frequent word is 第章\n",
      "Its number of occurrences is 15\n"
     ]
    }
   ],
   "source": [
    "filename = 'README.md'\n",
    "freq = {}\n",
    "for piece in open(filename, encoding='utf-8').read().lower().split():\n",
    "    # only consider alphabetic characters within this piece\n",
    "    word = ''.join(c for c in piece if c.isalpha())\n",
    "    if word:    # require at least one alphabetic character\n",
    "        freq[word] = 1 + freq.get(word, 0)    # default 0\n",
    "#print(freq.items())\n",
    "max_word = ''\n",
    "max_count = 0\n",
    "for (w, c) in freq.items():    # (key, value) tuples represent (word, count)\n",
    "    if c > max_count:\n",
    "        max_word = w\n",
    "        max_count = c\n",
    "print('The most frequent word is', max_word)\n",
    "print('Its number of occurrences is', max_count)"
   ]
  },
  {
   "cell_type": "markdown",
   "metadata": {},
   "source": [
    "代码段10-2 通过扩展MutableMapping抽象基类实现非公有类_Item，以满足各种映射应用"
   ]
  },
  {
   "cell_type": "code",
   "execution_count": 8,
   "metadata": {},
   "outputs": [],
   "source": [
    "from collections import MutableMapping"
   ]
  },
  {
   "cell_type": "code",
   "execution_count": 10,
   "metadata": {},
   "outputs": [],
   "source": [
    "class MapBase(MutableMapping):\n",
    "    \"\"\"Our own abstract base class that includes a nonpublic _Item class.\"\"\"\n",
    "    \n",
    "    # ---------- nested _Item class ----------\n",
    "    class _Item:\n",
    "        \"\"\"Lightweight composite to store key-value pairs as map items.\"\"\"\n",
    "        __slots__ = '_key', '_value'\n",
    "        \n",
    "        def __init__(self, k, v):\n",
    "            self._key = k\n",
    "            self._value = v\n",
    "\n",
    "        def __eq__(self, other):\n",
    "            return self._key == other._key    # compare items based on their keys\n",
    "\n",
    "        def __ne__(self, other):\n",
    "            return not (self == other)        # opposite of __eq__\n",
    "\n",
    "        def __lt__(self, other):\n",
    "            return self._key < self._key      # compare items based on their keys"
   ]
  },
  {
   "cell_type": "markdown",
   "metadata": {},
   "source": [
    "代码段10-3 一个用Python列表作为非排序表的map实现方法，代码段10-2给出了父类MapBase的实现"
   ]
  },
  {
   "cell_type": "code",
   "execution_count": 13,
   "metadata": {},
   "outputs": [],
   "source": [
    "class UnsortedTableMap(MapBase):\n",
    "    \"\"\"Map implementation using an unordered list.\"\"\"\n",
    "    \n",
    "    def __init__(self):\n",
    "        \"\"\"Create an empty map.\"\"\"\n",
    "        self._table = []    # list of _Item's\n",
    "    \n",
    "    def __getitem__(self, k):\n",
    "        \"\"\"Return value associated with key k (raise KeyError if not found).\"\"\"\n",
    "        for item in self._table:\n",
    "            if k == self._table:\n",
    "                return item._value\n",
    "        raise KeyError('Key Error: ' + repr(k))\n",
    "    \n",
    "    def __setitem__(self, k, v):\n",
    "        \"\"\"Assign value v to key k, overwriting existing value if parent.\"\"\"\n",
    "        for item in self._table:\n",
    "            if k == item._key:    # Found a match:\n",
    "                item._value = v   # reassign value\n",
    "                return            # and quit\n",
    "        # did not find match for key\n",
    "        self._table.append(self._Item(k, v))\n",
    "    \n",
    "    def __delitem__(self, k):\n",
    "        \"\"\"Remove item associated with key k (raise KeyError if not found).\"\"\"\n",
    "        for j in range(len(self._table)):\n",
    "            if k == self._table[j]._key:    # Found a match\n",
    "                self._table.pop(j)          # remove item\n",
    "                return                      # and quit\n",
    "        raise KeyError('Key Error:' + repr(k))\n",
    "    \n",
    "    def __len__(self):\n",
    "        \"\"\"Return number of items in the map.\"\"\"\n",
    "        return len(self._table)\n",
    "    \n",
    "    def __iter__(self):\n",
    "        \"\"\"Generate iteration of the map's keys.\"\"\"\n",
    "        for item in self._table:\n",
    "            yield item._key                 # yield the KEY"
   ]
  },
  {
   "cell_type": "code",
   "execution_count": null,
   "metadata": {},
   "outputs": [],
   "source": []
  }
 ],
 "metadata": {
  "kernelspec": {
   "display_name": "Python 3",
   "language": "python",
   "name": "python3"
  },
  "language_info": {
   "codemirror_mode": {
    "name": "ipython",
    "version": 3
   },
   "file_extension": ".py",
   "mimetype": "text/x-python",
   "name": "python",
   "nbconvert_exporter": "python",
   "pygments_lexer": "ipython3",
   "version": "3.8.3"
  },
  "toc": {
   "base_numbering": 1,
   "nav_menu": {},
   "number_sections": true,
   "sideBar": true,
   "skip_h1_title": false,
   "title_cell": "Table of Contents",
   "title_sidebar": "Contents",
   "toc_cell": false,
   "toc_position": {
    "height": "calc(100% - 180px)",
    "left": "10px",
    "top": "150px",
    "width": "267px"
   },
   "toc_section_display": true,
   "toc_window_display": true
  }
 },
 "nbformat": 4,
 "nbformat_minor": 4
}
