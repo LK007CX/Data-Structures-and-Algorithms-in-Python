{
 "cells": [
  {
   "cell_type": "markdown",
   "metadata": {},
   "source": [
    "R-5.4 在代码段5-3给出的DynamicArray类中，$__getitem__$ 方法不支持索引为负。更新该方法，使得其更符合Python列表语义。"
   ]
  },
  {
   "cell_type": "code",
   "execution_count": 3,
   "metadata": {},
   "outputs": [],
   "source": [
    "import ctypes     # provides low-level arrays\n",
    "\n",
    "class DynamicArray:\n",
    "    \"\"\"A dynamic array class to a simplified Python list.\"\"\"\n",
    "    \n",
    "    def __init__(self):\n",
    "        \"\"\"Create an empty array.\"\"\"\n",
    "        self._n = 0                                   # count actual elements\n",
    "        self._capacity = 1                            # default array capacity\n",
    "        self._A = self._make_array(self._capacity)    # low-level array\n",
    "    \n",
    "    def __len__(self):\n",
    "        \"\"\"Return number of elements stored in the array.\"\"\"\n",
    "        return self._n\n",
    "    \n",
    "    def __getitem__(self, k):\n",
    "        \"\"\"Return element at index k.\"\"\"\n",
    "        if not 0 <= k < self._n:\n",
    "            raise IndexError('invalid index')\n",
    "        return self._A[k]                             # retrieve from array\n",
    "    \n",
    "    def __getitem__(self, k):\n",
    "        '''\n",
    "        我的答案\n",
    "        '''\n",
    "        if not -self._n <= k < self._n:\n",
    "            raise IndexError('invalid index')\n",
    "        if -self._n <= k < 0:\n",
    "            return self._A[self._n + k]\n",
    "        else:\n",
    "            return self._A[k]\n",
    "    \n",
    "    def __getitem__(self, k):\n",
    "        '''参考答案'''\n",
    "        if k < 0:\n",
    "            k += self._n    # adjust for negative index\n",
    "        if not 0 <= k < self._n:\n",
    "            raise IndexError('invalid index')\n",
    "        return self._A[k]                             # retrieve from array\n",
    "    \n",
    "    def append(self, obj):\n",
    "        \"\"\"Add object to end of the array.\"\"\"\n",
    "        if self._n == self._capacity:                 # not enough room\n",
    "            self._resize(2 * self._capacity)          # so double capacity\n",
    "        self._A[self._n] = obj\n",
    "        self._n += 1\n",
    "    \n",
    "    def _resize(self, c):                             # nonpublic utitity\n",
    "        \"\"\"Resize internal array to capacity c.\"\"\"\n",
    "        B = self._make_array(c)                       # new bigger array\n",
    "        for k in range(self._n):                      # for each existing value\n",
    "            B[k] = self._A[k]\n",
    "        self._A = B                                   # use the bigger array\n",
    "        self._capacity = c\n",
    "    \n",
    "    def _make_array(self, c):                         # nonpublic utitity\n",
    "        \"\"\"Return new array with capacity c.\"\"\"\n",
    "        return (c*ctypes.py_object)()                 # see ctypes documention"
   ]
  },
  {
   "cell_type": "markdown",
   "metadata": {},
   "source": [
    "R-5.6 在代码段5-5中实现了DynamicArray类的insert方法，但是效率较低。当改变数组大小时，改变操作需要花费时间把所有元素从旧数组复制到新数组，在随后的插入过程中，需要循环移动其中许多元素。对insert元素进行改进，使得在改变数组大小时，插入操作能将所有元素直接移动到其最终位置，以免循环移动。"
   ]
  },
  {
   "cell_type": "code",
   "execution_count": 9,
   "metadata": {},
   "outputs": [],
   "source": [
    "# 这里范了个错误，插入是针对self._A进行插入，而不是针对B进行插入\n",
    "def insert(self, k, value):\n",
    "    if self._n == self._capacity:\n",
    "        B = self._make_array(2*self._capacity)\n",
    "        if 0 <= k < self._n:\n",
    "            for i in range(0, k):\n",
    "                B[i] = self._A[i]\n",
    "            B[k] = value\n",
    "            for j in range(k, self._n):\n",
    "                B[j+1] = self._A[j]\n",
    "        if k <= self._n < 2 * self._n:\n",
    "            for i in range(0, self._n):\n",
    "                B[i] = self._A[i]\n",
    "            B[k] = value\n",
    "        self._capacity = 2 * self._n    # 更改容量\n",
    "        self._A = B\n",
    "    else:\n",
    "        for j in range(self._n, k, -1):\n",
    "            self.A[j] = self._A[j-1]\n",
    "        self._A[k] = value\n",
    "    self._n += 1"
   ]
  },
  {
   "cell_type": "code",
   "execution_count": 11,
   "metadata": {},
   "outputs": [],
   "source": [
    "# 修改后\n",
    "def insert(self, k, value):\n",
    "    if self._n == self._capacity:\n",
    "        B = self._make_array(2*self._capacity)\n",
    "        for i in range(0, k):\n",
    "            B[i] = self._A[i]\n",
    "        B[k] = value\n",
    "        for j in range(k, self._n):\n",
    "            B[j+1] = self._A[j]\n",
    "        self._capacity = 2 * self._capacity    # 更新容量\n",
    "        self._A = B                            # 更新self._A\n",
    "    else:\n",
    "        for j in range(self._n, k, -1):\n",
    "            self.A[j] = self._A[j-1]\n",
    "        self._A[k] = value\n",
    "    self._n += 1"
   ]
  },
  {
   "cell_type": "code",
   "execution_count": 13,
   "metadata": {},
   "outputs": [],
   "source": [
    "# 参考答案\n",
    "def insert(self, k, value):\n",
    "    if self._n == self._capacity:                 # not enough room\n",
    "        B = self._make_array(2*self._capacity)    # new (bigger) array\n",
    "        for j in range(k):\n",
    "            B[j] = self._A[j]\n",
    "        B[k] = value\n",
    "        for j in range(k, self._capacity):\n",
    "            B[j+1] = self._A[j]\n",
    "        self._capacity = 2 * self._capacity\n",
    "        self._A = B\n",
    "    else:\n",
    "        for j in range(self._n, k, -1):           # shift rightmost first\n",
    "            self.A[j] = self._A[j-1]\n",
    "        self._A[k] = value                        # store newest element\n",
    "    self._n += 1"
   ]
  },
  {
   "cell_type": "markdown",
   "metadata": {},
   "source": [
    "R-5.7 设A为数组，其大小$n\\geq 2$，包含1~n-1的整数，其中恰有一个整数重复。描述一种快速算法，找到A中这个重复的整数。"
   ]
  },
  {
   "cell_type": "code",
   "execution_count": 14,
   "metadata": {},
   "outputs": [],
   "source": [
    "def missing(data):\n",
    "    found = [False] * len(data)\n",
    "    for val in data:\n",
    "        if found(val):\n",
    "            return val\n",
    "        else:\n",
    "            found[val] = True"
   ]
  },
  {
   "cell_type": "markdown",
   "metadata": {},
   "source": [
    "R-5.11 使用标准控制结构计算$n\\times n$数据集中所有编号的和，该数据集用列表的列表来表示。"
   ]
  },
  {
   "cell_type": "code",
   "execution_count": 39,
   "metadata": {},
   "outputs": [],
   "source": [
    "def my_sum(data):\n",
    "    total = 0\n",
    "    for i in range(len(data)):\n",
    "        total += sum(data[i][:])\n",
    "    return total"
   ]
  },
  {
   "cell_type": "code",
   "execution_count": 52,
   "metadata": {},
   "outputs": [
    {
     "name": "stdout",
     "output_type": "stream",
     "text": [
      "[[0, 1, 2, 3, 4], [0, 1, 2, 3, 4], [0, 1, 2, 3, 4], [0, 1, 2, 3, 4], [0, 1, 2, 3, 4]]\n",
      "5\n",
      "5\n"
     ]
    }
   ],
   "source": [
    "c = 5\n",
    "r = 5\n",
    "data = [[i for i in range(c)] for j in range(r)]\n",
    "print(data)\n",
    "print(len(data))\n",
    "print(len(data[0]))"
   ]
  },
  {
   "cell_type": "code",
   "execution_count": 53,
   "metadata": {},
   "outputs": [
    {
     "name": "stdout",
     "output_type": "stream",
     "text": [
      "50\n"
     ]
    }
   ],
   "source": [
    "result = my_sum(data)\n",
    "print(result)"
   ]
  },
  {
   "cell_type": "markdown",
   "metadata": {},
   "source": [
    "c-5.14 使用random模块提供的shuffle方法，对一张python列表重新排序，使得每种可能的顺序出现的概率相等。请实现这样的函数，可以使用random模块提供的randrange(n)函数，该函数返回0~n-1的随机数字。"
   ]
  },
  {
   "cell_type": "code",
   "execution_count": 72,
   "metadata": {},
   "outputs": [
    {
     "name": "stdout",
     "output_type": "stream",
     "text": [
      "[7 1 5 5 3 0 0 8 7 0]\n",
      "[8 5 5 1 0 7 0 3 0 7]\n"
     ]
    }
   ],
   "source": [
    "# random.shuffle\n",
    "import random\n",
    "import numpy as np\n",
    "\n",
    "data = np.random.randint(0, 10, size=(10))\n",
    "print(data)\n",
    "random.shuffle(data)\n",
    "print(data)"
   ]
  },
  {
   "cell_type": "code",
   "execution_count": 91,
   "metadata": {},
   "outputs": [
    {
     "name": "stdout",
     "output_type": "stream",
     "text": [
      "5 2 5 2 3 5 1 1 6 2 "
     ]
    }
   ],
   "source": [
    "# random.randrange\n",
    "# random.randrange不包括右边界\n",
    "for i in range(10):\n",
    "    rand = random.randrange(len(data))\n",
    "    print(rand, end=' ')"
   ]
  },
  {
   "cell_type": "code",
   "execution_count": 88,
   "metadata": {},
   "outputs": [],
   "source": [
    "import random\n",
    "def my_shuffle(data):\n",
    "    index = [i for i in range(len(data))]\n",
    "    new_data = []\n",
    "    while len(index) > 0:\n",
    "        rand = random.randrange(len(data))\n",
    "        if rand in index:\n",
    "            new_data.append(data[rand])\n",
    "            index.remove(rand)\n",
    "    return new_data"
   ]
  },
  {
   "cell_type": "code",
   "execution_count": 89,
   "metadata": {},
   "outputs": [
    {
     "name": "stdout",
     "output_type": "stream",
     "text": [
      "[2 7 1 0 6 7 4 2 4 7]\n",
      "[2, 4, 2, 4, 7, 0, 6, 7, 7, 1]\n"
     ]
    }
   ],
   "source": [
    "import numpy as np\n",
    "data = np.random.randint(0, 10, size=(10))\n",
    "print(data)\n",
    "new_data = my_shuffle(data)\n",
    "print(new_data)"
   ]
  },
  {
   "cell_type": "markdown",
   "metadata": {},
   "source": [
    "C-5.16 对代码段5-3给出的DynamicArray类，实现其pop方法，删除其数组的最后一个元素，每当元素个数小于N/4时，将数组大小缩小为原来的一半（N为数组大小）。"
   ]
  },
  {
   "cell_type": "code",
   "execution_count": 93,
   "metadata": {},
   "outputs": [],
   "source": [
    "def pop(self):\n",
    "    self._A[self._n] = None\n",
    "    self._n -= 1\n",
    "    if self._n < self._capacity // 4:\n",
    "        B = self._make_array(self._capacity // 2)\n",
    "        for i in range(self._n):\n",
    "            B[i] = self._A[i]\n",
    "        self._A = B\n",
    "        self._capacity == self._capacity // 2"
   ]
  },
  {
   "cell_type": "markdown",
   "metadata": {},
   "source": [
    "C-5.21 在5.4.2节中，我们给出4种不同的方法组成长字符串：①重复连接；②增加一张临时列表，之后合并到该临时列表中；③使用join的列表推导式；④使用join生成器理解法。做实验测试这4种方法的效率，给出你的发现。"
   ]
  },
  {
   "cell_type": "code",
   "execution_count": null,
   "metadata": {},
   "outputs": [],
   "source": [
    "①重复连接；"
   ]
  },
  {
   "cell_type": "code",
   "execution_count": 95,
   "metadata": {},
   "outputs": [
    {
     "ename": "NameError",
     "evalue": "name 'document' is not defined",
     "output_type": "error",
     "traceback": [
      "\u001b[1;31m---------------------------------------------------------------------------\u001b[0m",
      "\u001b[1;31mNameError\u001b[0m                                 Traceback (most recent call last)",
      "\u001b[1;32m<ipython-input-95-51c42b73ac67>\u001b[0m in \u001b[0;36m<module>\u001b[1;34m\u001b[0m\n\u001b[0;32m      1\u001b[0m \u001b[0mletters\u001b[0m \u001b[1;33m=\u001b[0m \u001b[1;34m''\u001b[0m\u001b[1;33m\u001b[0m\u001b[1;33m\u001b[0m\u001b[0m\n\u001b[1;32m----> 2\u001b[1;33m \u001b[1;32mfor\u001b[0m \u001b[0mc\u001b[0m \u001b[1;32min\u001b[0m \u001b[0mdocument\u001b[0m\u001b[1;33m:\u001b[0m\u001b[1;33m\u001b[0m\u001b[1;33m\u001b[0m\u001b[0m\n\u001b[0m\u001b[0;32m      3\u001b[0m     \u001b[1;32mif\u001b[0m \u001b[0mc\u001b[0m\u001b[1;33m.\u001b[0m\u001b[0misalpha\u001b[0m\u001b[1;33m(\u001b[0m\u001b[1;33m)\u001b[0m\u001b[1;33m:\u001b[0m\u001b[1;33m\u001b[0m\u001b[1;33m\u001b[0m\u001b[0m\n\u001b[0;32m      4\u001b[0m         \u001b[0mletters\u001b[0m \u001b[1;33m+=\u001b[0m \u001b[0mc\u001b[0m\u001b[1;33m\u001b[0m\u001b[1;33m\u001b[0m\u001b[0m\n",
      "\u001b[1;31mNameError\u001b[0m: name 'document' is not defined"
     ]
    }
   ],
   "source": [
    "letters = ''\n",
    "for c in document:\n",
    "    if c.isalpha():\n",
    "        letters += c"
   ]
  },
  {
   "cell_type": "code",
   "execution_count": 96,
   "metadata": {},
   "outputs": [],
   "source": [
    "def add_1(document):\n",
    "    letters = ''\n",
    "    for c in document:\n",
    "        if c.isalpha():\n",
    "            letters += c\n",
    "    return document"
   ]
  },
  {
   "cell_type": "code",
   "execution_count": null,
   "metadata": {},
   "outputs": [],
   "source": [
    "②增加一张临时列表，之后合并到该临时列表中；"
   ]
  },
  {
   "cell_type": "code",
   "execution_count": null,
   "metadata": {},
   "outputs": [],
   "source": [
    "temp = []\n",
    "for c in document:\n",
    "    if c.isalpha():\n",
    "        temp.append(c)\n",
    "letters = ''.join(temp)"
   ]
  },
  {
   "cell_type": "code",
   "execution_count": 98,
   "metadata": {},
   "outputs": [],
   "source": [
    "def add_2(document):\n",
    "    temp = []\n",
    "    for c in document:\n",
    "        if c.isalpha():\n",
    "            temp.append(c)\n",
    "    letters = ''.join(temp)"
   ]
  },
  {
   "cell_type": "code",
   "execution_count": null,
   "metadata": {},
   "outputs": [],
   "source": [
    "③使用join的列表推导式；"
   ]
  },
  {
   "cell_type": "code",
   "execution_count": 99,
   "metadata": {},
   "outputs": [
    {
     "ename": "NameError",
     "evalue": "name 'document' is not defined",
     "output_type": "error",
     "traceback": [
      "\u001b[1;31m---------------------------------------------------------------------------\u001b[0m",
      "\u001b[1;31mNameError\u001b[0m                                 Traceback (most recent call last)",
      "\u001b[1;32m<ipython-input-99-91fae88a9281>\u001b[0m in \u001b[0;36m<module>\u001b[1;34m\u001b[0m\n\u001b[1;32m----> 1\u001b[1;33m \u001b[0mletters\u001b[0m \u001b[1;33m=\u001b[0m \u001b[1;34m''\u001b[0m\u001b[1;33m.\u001b[0m\u001b[0mjoin\u001b[0m\u001b[1;33m(\u001b[0m\u001b[1;33m[\u001b[0m\u001b[0mc\u001b[0m \u001b[1;32mfor\u001b[0m \u001b[0mc\u001b[0m \u001b[1;32min\u001b[0m \u001b[0mdocument\u001b[0m \u001b[1;32mif\u001b[0m \u001b[0mc\u001b[0m\u001b[1;33m.\u001b[0m\u001b[0misalpha\u001b[0m\u001b[1;33m(\u001b[0m\u001b[1;33m)\u001b[0m\u001b[1;33m]\u001b[0m\u001b[1;33m)\u001b[0m\u001b[1;33m\u001b[0m\u001b[1;33m\u001b[0m\u001b[0m\n\u001b[0m",
      "\u001b[1;31mNameError\u001b[0m: name 'document' is not defined"
     ]
    }
   ],
   "source": [
    "letters = ''.join([c for c in document if c.isalpha()])"
   ]
  },
  {
   "cell_type": "code",
   "execution_count": 104,
   "metadata": {},
   "outputs": [],
   "source": [
    "def add_3(document):\n",
    "    letters = ''.join([c for c in document if c.isalpha()])"
   ]
  },
  {
   "cell_type": "code",
   "execution_count": 105,
   "metadata": {},
   "outputs": [
    {
     "ename": "SyntaxError",
     "evalue": "invalid character in identifier (<ipython-input-105-0c635631395b>, line 1)",
     "output_type": "error",
     "traceback": [
      "\u001b[1;36m  File \u001b[1;32m\"<ipython-input-105-0c635631395b>\"\u001b[1;36m, line \u001b[1;32m1\u001b[0m\n\u001b[1;33m    ④使用join生成器理解法。\u001b[0m\n\u001b[1;37m                 ^\u001b[0m\n\u001b[1;31mSyntaxError\u001b[0m\u001b[1;31m:\u001b[0m invalid character in identifier\n"
     ]
    }
   ],
   "source": [
    "④使用join生成器理解法。"
   ]
  },
  {
   "cell_type": "code",
   "execution_count": 106,
   "metadata": {},
   "outputs": [
    {
     "ename": "NameError",
     "evalue": "name 'document' is not defined",
     "output_type": "error",
     "traceback": [
      "\u001b[1;31m---------------------------------------------------------------------------\u001b[0m",
      "\u001b[1;31mNameError\u001b[0m                                 Traceback (most recent call last)",
      "\u001b[1;32m<ipython-input-106-70b2e1aed7f5>\u001b[0m in \u001b[0;36m<module>\u001b[1;34m\u001b[0m\n\u001b[1;32m----> 1\u001b[1;33m \u001b[0mletters\u001b[0m \u001b[1;33m=\u001b[0m \u001b[1;34m''\u001b[0m\u001b[1;33m.\u001b[0m\u001b[0mjoin\u001b[0m\u001b[1;33m(\u001b[0m\u001b[0mc\u001b[0m \u001b[1;32mfor\u001b[0m \u001b[0mc\u001b[0m \u001b[1;32min\u001b[0m \u001b[0mdocument\u001b[0m \u001b[1;32mif\u001b[0m \u001b[0mc\u001b[0m\u001b[1;33m.\u001b[0m\u001b[0misalpha\u001b[0m\u001b[1;33m(\u001b[0m\u001b[1;33m)\u001b[0m\u001b[1;33m)\u001b[0m\u001b[1;33m\u001b[0m\u001b[1;33m\u001b[0m\u001b[0m\n\u001b[0m",
      "\u001b[1;31mNameError\u001b[0m: name 'document' is not defined"
     ]
    }
   ],
   "source": [
    "letters = ''.join(c for c in document if c.isalpha())"
   ]
  },
  {
   "cell_type": "code",
   "execution_count": 107,
   "metadata": {},
   "outputs": [],
   "source": [
    "def add_4(document):\n",
    "    letters = ''.join(c for c in document if c.isalpha())"
   ]
  },
  {
   "cell_type": "code",
   "execution_count": 145,
   "metadata": {},
   "outputs": [
    {
     "data": {
      "text/plain": [
       "'EYgZzwsXNcMDrvnJlJOdnhbxwtKrsCbfCqmQOkgWGQbuDyoVqs'"
      ]
     },
     "execution_count": 145,
     "metadata": {},
     "output_type": "execute_result"
    }
   ],
   "source": [
    "from random import choice\n",
    "import string\n",
    "def randomChar(y):\n",
    "    # 返回随机字符串\n",
    "    return ''.join(choice(string.ascii_letters) for _ in range(y))\n",
    "randomChar(50)"
   ]
  },
  {
   "cell_type": "code",
   "execution_count": 173,
   "metadata": {},
   "outputs": [],
   "source": [
    "import numpy as np\n",
    "result = np.zeros((4, 10))\n",
    "# print(result)\n",
    "for i in range(1000000, 2000000, 100000):\n",
    "    document = randomChar(i)\n",
    "    \n",
    "    start = time.time()\n",
    "    add_1(document)\n",
    "    stop = time.time()\n",
    "    result[0][i//100000-10] = stop - start\n",
    "    \n",
    "    start = time.time()\n",
    "    add_2(document)\n",
    "    stop = time.time()\n",
    "    result[1][i//100000-10] = stop - start\n",
    "    \n",
    "    \n",
    "    start = time.time()\n",
    "    add_3(document)\n",
    "    stop = time.time()\n",
    "    result[2][i//100000-10] = stop - start\n",
    "    \n",
    "    start = time.time()\n",
    "    add_4(document)\n",
    "    stop = time.time()\n",
    "    result[3][i//100000-10] = stop - start"
   ]
  },
  {
   "cell_type": "code",
   "execution_count": 174,
   "metadata": {},
   "outputs": [
    {
     "name": "stdout",
     "output_type": "stream",
     "text": [
      "4\n",
      "10\n"
     ]
    }
   ],
   "source": [
    "print(len(result))\n",
    "print(len(result[0]))"
   ]
  },
  {
   "cell_type": "code",
   "execution_count": 220,
   "metadata": {},
   "outputs": [
    {
     "data": {
      "image/png": "[encoded data removed]",
      "text/plain": [
       "<Figure size 1000x300 with 1 Axes>"
      ]
     },
     "metadata": {},
     "output_type": "display_data"
    }
   ],
   "source": [
    "import matplotlib\n",
    "import matplotlib.pyplot as plt\n",
    "plt.rcdefaults()\n",
    "matplotlib.rcParams['font.sans-serif'] = ['MicroSoft YaHei']\n",
    "x = [i for i in range(0, 10)]\n",
    "y = result\n",
    "plt.figure(figsize=(10,3))\n",
    "bar_width = 0.1\n",
    "\n",
    "for i in range(len(y[0])):\n",
    "    plt.bar(x=i - bar_width*1.5, height=y[0][i], color='red', alpha=0.8, width=bar_width)\n",
    "    plt.bar(x=i - bar_width*0.5, height=y[1][i], color='green', alpha=0.8, width=bar_width)\n",
    "    plt.bar(x=i + bar_width*0.5, height=y[2][i], color='blue', alpha=0.8, width=bar_width)\n",
    "    plt.bar(x=i + bar_width*1.5, height=y[3][i], color='black', alpha=0.8, width=bar_width)\n",
    "plt.title(\"运行时间对比\")\n",
    "plt.xlabel(\"\")\n",
    "plt.ylabel(\"运行时间(s)\")\n",
    "ax = plt.gca()\n",
    "ax.spines['top'].set_visible(False)\n",
    "ax.spines['right'].set_visible(False)\n",
    "ax.spines['left'].set_visible(False)\n",
    "ax.grid(True, axis='y')\n",
    "ax.tick_params(bottom=False, top=False, left=False, right=False)\n",
    "plt.show()"
   ]
  },
  {
   "cell_type": "markdown",
   "metadata": {},
   "source": [
    "C-5.25 语句data.remove(value)仅仅删除Python的data列表中第一次出现的值为value的元素。实现remove_all(data, value)函数，使其能够在给出的列表中删除所有值为value的元素，对拥有n个元素的列表，该函数的最坏运行时间为O(n)。注意，并不是说重复调用remove方法不够高效。"
   ]
  },
  {
   "cell_type": "code",
   "execution_count": 228,
   "metadata": {},
   "outputs": [],
   "source": [
    "def remove_all(data, value):\n",
    "    keep = 0\n",
    "    for walk in range(len(data)):\n",
    "        if data[walk] != value:\n",
    "            data[keep] = data[walk]\n",
    "            keep += 1\n",
    "    while len(data) > keep:\n",
    "        data.pop()"
   ]
  },
  {
   "cell_type": "markdown",
   "metadata": {},
   "source": [
    "C-5.26 设B为数组，其大小$n\\geq 6$，包含1~n-5的整数，恰有5个重复元素。给出一个不错的算法，找出B中这5个重复的整数。"
   ]
  },
  {
   "cell_type": "code",
   "execution_count": 231,
   "metadata": {},
   "outputs": [],
   "source": [
    "def find_all(data):\n",
    "    found = [False] * len(data)\n",
    "    result = []\n",
    "    for val in data:\n",
    "        if found[val]:\n",
    "            result.append(val)\n",
    "        else:\n",
    "            found[val] = True\n",
    "    return result"
   ]
  },
  {
   "cell_type": "code",
   "execution_count": 236,
   "metadata": {},
   "outputs": [
    {
     "name": "stdout",
     "output_type": "stream",
     "text": [
      "{4, 5, 7, 8, 9}\n"
     ]
    }
   ],
   "source": [
    "temp = [1, 2, 3, 4, 4, 4, 5, 5, 6, 7, 7, 8, 8, 9, 9, 10]\n",
    "print(set(find_all(temp)))"
   ]
  },
  {
   "cell_type": "code",
   "execution_count": 237,
   "metadata": {},
   "outputs": [],
   "source": [
    "def find_all(data):\n",
    "    sorted(data)\n",
    "    result = []\n",
    "    for i in range(1, len(data)):\n",
    "        if data[i] == data[i-1]:\n",
    "            result.append(data[i])\n",
    "    return result"
   ]
  },
  {
   "cell_type": "code",
   "execution_count": 238,
   "metadata": {},
   "outputs": [
    {
     "name": "stdout",
     "output_type": "stream",
     "text": [
      "{4, 5, 7, 8, 9}\n"
     ]
    }
   ],
   "source": [
    "temp = [1, 2, 3, 4, 4, 4, 5, 5, 6, 7, 7, 8, 8, 9, 9, 10]\n",
    "print(set(find_all(temp)))"
   ]
  },
  {
   "cell_type": "markdown",
   "metadata": {},
   "source": [
    "C-5.27 给出Python的L列表，该列表包含n个正整数，每个正整数用$\\lceil \\log(n) \\rceil+1$位表示，给出一种运行时间为$O(n)$的方法，该方法发现k位的整数不在L中。"
   ]
  },
  {
   "cell_type": "markdown",
   "metadata": {},
   "source": [
    "C-5.29 在数据库中，"
   ]
  },
  {
   "cell_type": "code",
   "execution_count": 239,
   "metadata": {},
   "outputs": [],
   "source": [
    "def natural_join(A, B):\n",
    "    for a1, a2 in A:\n",
    "        for b1, b2 in B:\n",
    "            if a2 == b1:\n",
    "                return (a1, a2, b2)"
   ]
  },
  {
   "cell_type": "code",
   "execution_count": null,
   "metadata": {},
   "outputs": [],
   "source": []
  }
 ],
 "metadata": {
  "kernelspec": {
   "display_name": "Python 3",
   "language": "python",
   "name": "python3"
  },
  "language_info": {
   "codemirror_mode": {
    "name": "ipython",
    "version": 3
   },
   "file_extension": ".py",
   "mimetype": "text/x-python",
   "name": "python",
   "nbconvert_exporter": "python",
   "pygments_lexer": "ipython3",
   "version": "3.8.3"
  },
  "toc": {
   "base_numbering": 1,
   "nav_menu": {},
   "number_sections": true,
   "sideBar": true,
   "skip_h1_title": false,
   "title_cell": "Table of Contents",
   "title_sidebar": "Contents",
   "toc_cell": false,
   "toc_position": {},
   "toc_section_display": true,
   "toc_window_display": false
  }
 },
 "nbformat": 4,
 "nbformat_minor": 4
}
