{
 "cells": [
  {
   "cell_type": "markdown",
   "metadata": {},
   "source": [
    "R-4.1 对于一个含有n个元素的序列S，描述一个递归算法查找其最大值。所给出的递归算法时间复杂度和可见复杂度各是多少？"
   ]
  },
  {
   "cell_type": "code",
   "execution_count": 128,
   "metadata": {},
   "outputs": [],
   "source": [
    "def find_max(data, n):\n",
    "    if n == 0:\n",
    "        return data[0]\n",
    "    else:\n",
    "        m = find_max(data, n-1)\n",
    "        return data[n] if data[n] > m else m"
   ]
  },
  {
   "cell_type": "code",
   "execution_count": 130,
   "metadata": {},
   "outputs": [
    {
     "name": "stdout",
     "output_type": "stream",
     "text": [
      "[73 26 82 63 70 91 60 41 98  3 42 86 47 86 38  2 50 78 11 25 79 19 52 69\n",
      " 17 84 25 94 35 27 45 46 93 87 60 24 16  8 92 35 62 57  4  4 49 71 21 79\n",
      " 95 84 83 97 54 10  6 38 27 27 89 92 52 75 87 50 72 93 44 13 66 45 78 63\n",
      " 33 16 77 17 84 17 35 60 25 90 50 81 80 11 49 51 28 81 75 39  0 84 15 40\n",
      "  2 97 86 46]\n",
      "98\n"
     ]
    }
   ],
   "source": [
    "import numpy as np\n",
    "if __name__ == '__main__':\n",
    "    data = np.random.randint(0, 99, size=(100,))\n",
    "    #data = sorted(list(data))\n",
    "    print(data)\n",
    "    result = find_max(data, len(data)-1)\n",
    "    print(result)"
   ]
  },
  {
   "cell_type": "code",
   "execution_count": 132,
   "metadata": {},
   "outputs": [],
   "source": [
    "import numpy as np\n",
    "if __name__ == '__main__':\n",
    "    for i in range(100):\n",
    "        data = np.random.randint(0, 99, size=(100,))\n",
    "        result = find_max(data, len(data)-1)\n",
    "        if result != max(data):\n",
    "            print(\"计算错误\")\n",
    "        # print(result==max(data))"
   ]
  },
  {
   "cell_type": "markdown",
   "metadata": {},
   "source": [
    "R-4.2 使用在代码段4-11中实现的传统函数，绘制出power(2, 5)函数计算的递归跟踪。"
   ]
  },
  {
   "cell_type": "markdown",
   "metadata": {},
   "source": [
    "略"
   ]
  },
  {
   "cell_type": "markdown",
   "metadata": {},
   "source": [
    "R-4.3 如代码段4-12实现的函数所示，使用重复平方法绘制出power(2, 18)函数计算的递归跟踪。"
   ]
  },
  {
   "cell_type": "markdown",
   "metadata": {},
   "source": [
    "略"
   ]
  },
  {
   "cell_type": "markdown",
   "metadata": {},
   "source": [
    "R-4.4 绘制。。。"
   ]
  },
  {
   "cell_type": "markdown",
   "metadata": {},
   "source": [
    "R-4.5 绘制。。。"
   ]
  },
  {
   "cell_type": "markdown",
   "metadata": {},
   "source": [
    "R-4.6 描述一个递归函数，用于计算第n个调和数(harmonic number)，其中$H_{n}=\\sum_{i=1}^{n}1/i$。"
   ]
  },
  {
   "cell_type": "code",
   "execution_count": 49,
   "metadata": {},
   "outputs": [],
   "source": [
    "def harmonic(n):\n",
    "    if n == 1:\n",
    "        return 1\n",
    "    else:\n",
    "        return 1/n + harmonic(n-1)"
   ]
  },
  {
   "cell_type": "code",
   "execution_count": 50,
   "metadata": {},
   "outputs": [
    {
     "name": "stdout",
     "output_type": "stream",
     "text": [
      "2.9289682539682538\n"
     ]
    }
   ],
   "source": [
    "if __name__ == '__main__':\n",
    "    result = harmonic(10)\n",
    "    print(result)"
   ]
  },
  {
   "cell_type": "markdown",
   "metadata": {},
   "source": [
    "R-4.7 描述一个递归函数，它可以把一串数字转换成对应的整数。例如，'13531'对应的整数为13531。"
   ]
  },
  {
   "cell_type": "code",
   "execution_count": 63,
   "metadata": {},
   "outputs": [],
   "source": [
    "def transform(string, n):\n",
    "    if n == 0:\n",
    "        return int(string[0]) * (10**(len(string)-1))\n",
    "    else:\n",
    "        return int(string[n])*(10**(len(string)-n-1)) + transform(string, n-1)"
   ]
  },
  {
   "cell_type": "code",
   "execution_count": 68,
   "metadata": {},
   "outputs": [
    {
     "name": "stdout",
     "output_type": "stream",
     "text": [
      "12345678987654321\n"
     ]
    }
   ],
   "source": [
    "if __name__ == '__main__':\n",
    "    string = '12345678987654321'\n",
    "    result = transform(string, len(string)-1)\n",
    "    print(result)"
   ]
  },
  {
   "cell_type": "markdown",
   "metadata": {},
   "source": [
    "R-4.8 Islabel..."
   ]
  },
  {
   "cell_type": "markdown",
   "metadata": {},
   "source": [
    "C-4.9 写一个简短的递归函数，用于在不使用任何循环的条件下查找一个序列的最小值和最大值。"
   ]
  },
  {
   "cell_type": "code",
   "execution_count": 141,
   "metadata": {},
   "outputs": [],
   "source": [
    "def find_min_max(data, n):\n",
    "    if n == 0:\n",
    "        return data[0], data[0]\n",
    "    else:\n",
    "        m1, m2 = find_min_max(data, n-1)\n",
    "        return ((data[n] if data[n] < m1 else m1), (data[n] if data[n] > m2 else m2))"
   ]
  },
  {
   "cell_type": "code",
   "execution_count": 142,
   "metadata": {},
   "outputs": [
    {
     "name": "stdout",
     "output_type": "stream",
     "text": [
      "[0, 2, 3, 3, 3, 4, 4, 4, 4, 5, 6, 6, 7, 8, 9, 10, 11, 12, 13, 16, 16, 17, 17, 18, 20, 21, 21, 21, 22, 23, 23, 23, 24, 26, 29, 30, 30, 30, 31, 31, 32, 32, 32, 32, 33, 34, 34, 35, 35, 37, 37, 37, 39, 39, 44, 46, 46, 48, 48, 49, 49, 50, 51, 51, 55, 56, 57, 59, 59, 60, 61, 63, 64, 67, 68, 70, 70, 71, 71, 71, 72, 73, 73, 73, 73, 74, 77, 78, 82, 82, 84, 85, 89, 91, 91, 92, 96, 96, 98, 98]\n",
      "(0, 98)\n"
     ]
    }
   ],
   "source": [
    "import numpy as np\n",
    "if __name__ == '__main__':\n",
    "    data = np.random.randint(0, 99, size=(100,))\n",
    "    data = sorted(list(data))\n",
    "    print(data)\n",
    "    result = find_min_max(data, len(data)-1)\n",
    "    print(result)"
   ]
  },
  {
   "cell_type": "code",
   "execution_count": 145,
   "metadata": {},
   "outputs": [],
   "source": [
    "import numpy as np\n",
    "if __name__ == '__main__':\n",
    "    for i in range(100):\n",
    "        data = np.random.randint(0, 99, size=(100,))\n",
    "        result = find_min_max(data, len(data)-1)\n",
    "        if result[0]!=min(data) or result[1]!=max(data):\n",
    "            print(\"计算错误\")\n",
    "        # print(result==max(data))"
   ]
  },
  {
   "cell_type": "markdown",
   "metadata": {},
   "source": [
    "C-4.10 在只使用加法和整数除法的情况下，描述一个递归算法，来计算以2为底的n的对数的整数部分。"
   ]
  },
  {
   "cell_type": "code",
   "execution_count": 184,
   "metadata": {},
   "outputs": [],
   "source": [
    "def log2(n):\n",
    "    if n < 2:\n",
    "        return 0\n",
    "    else:\n",
    "        n = n // 2\n",
    "        return 1 + log2(n)"
   ]
  },
  {
   "cell_type": "code",
   "execution_count": 188,
   "metadata": {},
   "outputs": [
    {
     "name": "stdout",
     "output_type": "stream",
     "text": [
      "3\n"
     ]
    }
   ],
   "source": [
    "print(log2(10))"
   ]
  },
  {
   "cell_type": "code",
   "execution_count": 189,
   "metadata": {},
   "outputs": [],
   "source": [
    "import numpy as np\n",
    "\n",
    "for i in range(1, 100):\n",
    "    if log2(i) != int(np.log2(i)):\n",
    "        print('计算错误')"
   ]
  },
  {
   "cell_type": "code",
   "execution_count": 190,
   "metadata": {},
   "outputs": [],
   "source": [
    "def log2(n):\n",
    "    sum = 0\n",
    "    while 1:\n",
    "        if n < 2:\n",
    "            break\n",
    "        n = n // 2\n",
    "        sum += 1\n",
    "    return sum"
   ]
  },
  {
   "cell_type": "code",
   "execution_count": 181,
   "metadata": {},
   "outputs": [
    {
     "name": "stdout",
     "output_type": "stream",
     "text": [
      "1\n"
     ]
    }
   ],
   "source": [
    "print(log2(2))"
   ]
  },
  {
   "cell_type": "code",
   "execution_count": null,
   "metadata": {},
   "outputs": [],
   "source": []
  }
 ],
 "metadata": {
  "kernelspec": {
   "display_name": "Python 3",
   "language": "python",
   "name": "python3"
  },
  "language_info": {
   "codemirror_mode": {
    "name": "ipython",
    "version": 3
   },
   "file_extension": ".py",
   "mimetype": "text/x-python",
   "name": "python",
   "nbconvert_exporter": "python",
   "pygments_lexer": "ipython3",
   "version": "3.8.3"
  },
  "toc": {
   "base_numbering": 1,
   "nav_menu": {},
   "number_sections": true,
   "sideBar": true,
   "skip_h1_title": false,
   "title_cell": "Table of Contents",
   "title_sidebar": "Contents",
   "toc_cell": false,
   "toc_position": {},
   "toc_section_display": true,
   "toc_window_display": false
  }
 },
 "nbformat": 4,
 "nbformat_minor": 4
}
