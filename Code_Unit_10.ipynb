{
 "cells": [
  {
   "cell_type": "markdown",
   "metadata": {},
   "source": [
    "代码段10-1 一个统计单词出现频率并报告出现最频繁单词的程序。我们使用Python的dict类实现这个映射，将输入转化为小写字母并忽略所有的非字母字符"
   ]
  },
  {
   "cell_type": "code",
   "execution_count": 1,
   "metadata": {},
   "outputs": [
    {
     "name": "stdout",
     "output_type": "stream",
     "text": [
      "The most frequent word is 第章\n",
      "Its number of occurrences is 15\n"
     ]
    }
   ],
   "source": [
    "filename = 'README.md'\n",
    "freq = {}\n",
    "for piece in open(filename, encoding='utf-8').read().lower().split():\n",
    "    # only consider alphabetic characters within this piece\n",
    "    word = ''.join(c for c in piece if c.isalpha())\n",
    "    if word:    # require at least one alphabetic character\n",
    "        freq[word] = 1 + freq.get(word, 0)    # default 0\n",
    "#print(freq.items())\n",
    "max_word = ''\n",
    "max_count = 0\n",
    "for (w, c) in freq.items():    # (key, value) tuples represent (word, count)\n",
    "    if c > max_count:\n",
    "        max_word = w\n",
    "        max_count = c\n",
    "print('The most frequent word is', max_word)\n",
    "print('Its number of occurrences is', max_count)"
   ]
  },
  {
   "cell_type": "markdown",
   "metadata": {},
   "source": [
    "代码段10-2 通过扩展MutableMapping抽象基类实现非公有类_Item，以满足各种映射应用"
   ]
  },
  {
   "cell_type": "code",
   "execution_count": 2,
   "metadata": {},
   "outputs": [
    {
     "name": "stderr",
     "output_type": "stream",
     "text": [
      "<ipython-input-2-069a7babadbf>:1: DeprecationWarning: Using or importing the ABCs from 'collections' instead of from 'collections.abc' is deprecated since Python 3.3, and in 3.9 it will stop working\n",
      "  from collections import MutableMapping\n"
     ]
    }
   ],
   "source": [
    "from collections import MutableMapping"
   ]
  },
  {
   "cell_type": "code",
   "execution_count": 3,
   "metadata": {},
   "outputs": [],
   "source": [
    "class MapBase(MutableMapping):\n",
    "    \"\"\"Our own abstract base class that includes a nonpublic _Item class.\"\"\"\n",
    "    \n",
    "    # ---------- nested _Item class ----------\n",
    "    class _Item:\n",
    "        \"\"\"Lightweight composite to store key-value pairs as map items.\"\"\"\n",
    "        __slots__ = '_key', '_value'\n",
    "        \n",
    "        def __init__(self, k, v):\n",
    "            self._key = k\n",
    "            self._value = v\n",
    "\n",
    "        def __eq__(self, other):\n",
    "            return self._key == other._key    # compare items based on their keys\n",
    "\n",
    "        def __ne__(self, other):\n",
    "            return not (self == other)        # opposite of __eq__\n",
    "\n",
    "        def __lt__(self, other):\n",
    "            return self._key < self._key      # compare items based on their keys"
   ]
  },
  {
   "cell_type": "markdown",
   "metadata": {},
   "source": [
    "代码段10-3 一个用Python列表作为非排序表的map实现方法，代码段10-2给出了父类MapBase的实现"
   ]
  },
  {
   "cell_type": "code",
   "execution_count": 4,
   "metadata": {},
   "outputs": [],
   "source": [
    "class UnsortedTableMap(MapBase):\n",
    "    \"\"\"Map implementation using an unordered list.\"\"\"\n",
    "    \n",
    "    def __init__(self):\n",
    "        \"\"\"Create an empty map.\"\"\"\n",
    "        self._table = []    # list of _Item's\n",
    "    \n",
    "    def __getitem__(self, k):\n",
    "        \"\"\"Return value associated with key k (raise KeyError if not found).\"\"\"\n",
    "        for item in self._table:\n",
    "            if k == self._table:\n",
    "                return item._value\n",
    "        raise KeyError('Key Error: ' + repr(k))\n",
    "    \n",
    "    def __setitem__(self, k, v):\n",
    "        \"\"\"Assign value v to key k, overwriting existing value if parent.\"\"\"\n",
    "        for item in self._table:\n",
    "            if k == item._key:    # Found a match:\n",
    "                item._value = v   # reassign value\n",
    "                return            # and quit\n",
    "        # did not find match for key\n",
    "        self._table.append(self._Item(k, v))\n",
    "    \n",
    "    def __delitem__(self, k):\n",
    "        \"\"\"Remove item associated with key k (raise KeyError if not found).\"\"\"\n",
    "        for j in range(len(self._table)):\n",
    "            if k == self._table[j]._key:    # Found a match\n",
    "                self._table.pop(j)          # remove item\n",
    "                return                      # and quit\n",
    "        raise KeyError('Key Error:' + repr(k))\n",
    "    \n",
    "    def __len__(self):\n",
    "        \"\"\"Return number of items in the map.\"\"\"\n",
    "        return len(self._table)\n",
    "    \n",
    "    def __iter__(self):\n",
    "        \"\"\"Generate iteration of the map's keys.\"\"\"\n",
    "        for item in self._table:\n",
    "            yield item._key                 # yield the KEY"
   ]
  },
  {
   "cell_type": "markdown",
   "metadata": {},
   "source": [
    "代码段10-4 一个哈希表实现的基类，基于代码段10-2中的MapBase类扩展实现的"
   ]
  },
  {
   "cell_type": "code",
   "execution_count": 7,
   "metadata": {},
   "outputs": [],
   "source": [
    "class HashMapBase(MapBase):\n",
    "    \"\"\"Abstract base class for map using hash-table with MAD compression.\"\"\"\n",
    "    \n",
    "    def __init__(self, cap=11, p=109345121):\n",
    "        \"\"\"Create an empty hash-table map.\"\"\"\n",
    "        self._table = cap * [None]\n",
    "        self._n = 0                         # number of entyies in the map\n",
    "        self._prime = p                     # prime for MAD compression\n",
    "        self._scale = 1 + randrange(p-1)    # scale from 1 to p-1 for MAD\n",
    "        self._shift = randrange(p)          # shift from 0 to p-1 for MAD\n",
    "    \n",
    "    def _hash_function(self, k):\n",
    "        return (hash(k)*self._scale+self._shift) % self._prime % len(self._table)\n",
    "    \n",
    "    def __len__(self):\n",
    "        return self._n\n",
    "    \n",
    "    def __getitem__(self, k):\n",
    "        j = self._hash_function(k)\n",
    "        return self._bucket_getitem(j, k)           # may raise KeyError\n",
    "    \n",
    "    def __setitem__(self, k, v):\n",
    "        j = self._hash_function(k)\n",
    "        self._bucket_setitem(j, k, v)               # subroutine maintains self._n\n",
    "        if self._n > len(self._table) // 2:         # keep load factor <= 0.5\n",
    "            self._resize(2 * len(self._table) - 1)  # number 2^x - 1 is often prime\n",
    "    \n",
    "    def __delitem__(self, k):\n",
    "        j = self._hash_function(k)\n",
    "        self._bucket_delitem(j, k)    # may raise KeyError\n",
    "        self._n -= 1\n",
    "    \n",
    "    def _resize(self, c):             # resize bucket array to capacity c\n",
    "        old = list(self.items())      # use iteration to record existing items\n",
    "        self._table = c * [None]      # then reset table to desired capacity\n",
    "        self._n = 0                   # n recomputed during subsequent adds\n",
    "        for (k, v) in old:\n",
    "            self[k] = v               # reinsert old key-value pair"
   ]
  },
  {
   "cell_type": "markdown",
   "metadata": {},
   "source": [
    "我发现我和你聊天还没有找到共同话题"
   ]
  },
  {
   "cell_type": "markdown",
   "metadata": {},
   "source": [
    "代码段10-5 用分离链表实现的具体哈希map类"
   ]
  },
  {
   "cell_type": "code",
   "execution_count": 8,
   "metadata": {},
   "outputs": [],
   "source": [
    "class ChainHashMap(HashMapBase):\n",
    "    \"\"\"Hash map implemented with separate chaining for collision resolution.\"\"\"\n",
    "    \n",
    "    def _bucket_getitem(self, j, k):\n",
    "        bucket = self._table[j]\n",
    "        if bucket is None:\n",
    "            raise KeyError('Key Error: ', repr(k))    # no match found\n",
    "        return bucket[k]                              # may raise KeyError\n",
    "    \n",
    "    def _bucket_setitem(self, j, k, v):\n",
    "        if self._table[j] is None:\n",
    "            self._table[j] = UnsortedTableMap()    # bucket is new to the table\n",
    "        oldsize = len(self._table[j])\n",
    "        self.table[j][k] = v\n",
    "        if len(self._table[j]) > oldsize:    # key was new to the table\n",
    "            self._n += 1                     # increse overallmap size\n",
    "    \n",
    "    def _bucket_delitem(self, j, k):\n",
    "        bucket = self._table[j]\n",
    "        if bucket is None:\n",
    "            raise KeyError('Key Error: ' + repr(k))    # no match found\n",
    "        del bucket[k]                                  # may raise KeyError\n",
    "    \n",
    "    def __iter__(self):\n",
    "        for bucket in self._table:\n",
    "            if bucket is not None:    # a nonempty slot\n",
    "                for key in bucket:\n",
    "                    yield key"
   ]
  },
  {
   "cell_type": "code",
   "execution_count": null,
   "metadata": {},
   "outputs": [],
   "source": [
    "def reverseString(s):\n",
    "    \n",
    "    for i in range(len(s)):\n",
    "        "
   ]
  }
 ],
 "metadata": {
  "kernelspec": {
   "display_name": "Python 3",
   "language": "python",
   "name": "python3"
  },
  "language_info": {
   "codemirror_mode": {
    "name": "ipython",
    "version": 3
   },
   "file_extension": ".py",
   "mimetype": "text/x-python",
   "name": "python",
   "nbconvert_exporter": "python",
   "pygments_lexer": "ipython3",
   "version": "3.8.3"
  },
  "toc": {
   "base_numbering": 1,
   "nav_menu": {},
   "number_sections": true,
   "sideBar": true,
   "skip_h1_title": false,
   "title_cell": "Table of Contents",
   "title_sidebar": "Contents",
   "toc_cell": false,
   "toc_position": {
    "height": "calc(100% - 180px)",
    "left": "10px",
    "top": "150px",
    "width": "267px"
   },
   "toc_section_display": true,
   "toc_window_display": false
  }
 },
 "nbformat": 4,
 "nbformat_minor": 4
}
