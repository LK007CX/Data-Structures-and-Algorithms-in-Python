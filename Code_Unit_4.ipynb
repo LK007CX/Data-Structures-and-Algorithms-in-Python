{
 "cells": [
  {
   "cell_type": "markdown",
   "metadata": {},
   "source": [
    "# 第4章 递归"
   ]
  },
  {
   "cell_type": "markdown",
   "metadata": {},
   "source": [
    "代码段4-1 阶乘函数的递归实现"
   ]
  },
  {
   "cell_type": "code",
   "execution_count": 4,
   "metadata": {},
   "outputs": [],
   "source": [
    "def factorial(n):\n",
    "    if n == 0:\n",
    "        return 1\n",
    "    else:\n",
    "        return n * factorial(n-1)"
   ]
  },
  {
   "cell_type": "code",
   "execution_count": 5,
   "metadata": {},
   "outputs": [
    {
     "name": "stdout",
     "output_type": "stream",
     "text": [
      "1\n",
      "1\n",
      "2\n",
      "6\n",
      "24\n",
      "120\n",
      "720\n",
      "5040\n",
      "40320\n",
      "362880\n"
     ]
    }
   ],
   "source": [
    "if __name__ == '__main__':\n",
    "    for i in range(10):\n",
    "        print(factorial(i))"
   ]
  },
  {
   "cell_type": "markdown",
   "metadata": {},
   "source": [
    "代码段4-2 绘制一个标尺的函数的递归实现"
   ]
  },
  {
   "cell_type": "code",
   "execution_count": 3,
   "metadata": {},
   "outputs": [],
   "source": [
    "def draw_line(tick_length, tick_label=''):\n",
    "    \"\"\"Draw one line with given tick length (followed by optional label).\"\"\"\n",
    "    line = '-' * tick_length\n",
    "    if tick_label:\n",
    "        line += ' ' + tick_label\n",
    "    print(line)\n",
    "\n",
    "def draw_interval(center_length):\n",
    "    \"\"\"Draw tick interval based upon a cnetral tick length.\"\"\"\n",
    "    if center_length > 0: # stop when length drops to 0\n",
    "        draw_interval(center_length-1) # recursived draw top ticks\n",
    "        draw_line(center_length)       # draw center tick\n",
    "        draw_interval(center_length-1) # recursived draw top ticks\n",
    "    \n",
    "def draw_ruler(num_inches, major_length):\n",
    "    \"\"\"Draw English ruler with given number of inches, major tick length.\"\"\"\n",
    "    draw_line(major_length, '0')\n",
    "    for j in range(1, 1+num_inches):\n",
    "        draw_interval(major_length-1)    # draw interior ticks for inch\n",
    "        draw_line(major_length, str(j))  # draw inch j line and label"
   ]
  },
  {
   "cell_type": "code",
   "execution_count": 4,
   "metadata": {},
   "outputs": [
    {
     "name": "stdout",
     "output_type": "stream",
     "text": [
      "---- 0\n",
      "-\n",
      "--\n",
      "-\n",
      "---\n",
      "-\n",
      "--\n",
      "-\n",
      "---- 1\n",
      "-\n",
      "--\n",
      "-\n",
      "---\n",
      "-\n",
      "--\n",
      "-\n",
      "---- 2\n",
      "-\n",
      "--\n",
      "-\n",
      "---\n",
      "-\n",
      "--\n",
      "-\n",
      "---- 3\n",
      "-\n",
      "--\n",
      "-\n",
      "---\n",
      "-\n",
      "--\n",
      "-\n",
      "---- 4\n"
     ]
    }
   ],
   "source": [
    "if __name__ == \"__main__\":\n",
    "    draw_ruler(4, 4)"
   ]
  },
  {
   "cell_type": "markdown",
   "metadata": {},
   "source": [
    "代码段4-3 二分查找算法的实现"
   ]
  },
  {
   "cell_type": "code",
   "execution_count": 1,
   "metadata": {},
   "outputs": [],
   "source": [
    "def binary_search(data, target, low, high):\n",
    "    \"\"\"Return True if targets is found in indicated portion of a Python list.\n",
    "    \n",
    "    The search only considers the portion from data[low] to data[high] inclusive.\n",
    "    \"\"\"\n",
    "    if low > high:\n",
    "        return False    # interval is empty; no match\n",
    "    else:\n",
    "        mid = (low + high) // 2\n",
    "        if target == data[mid]:\n",
    "            return True\n",
    "        elif target < data[mid]:\n",
    "            # recur on the portion left of the moddle\n",
    "            return binary_search(data, target, low, mid-1)\n",
    "        else:\n",
    "            # recur on the portial right of the middle\n",
    "            return binary_search(data, target, mid+1, high)"
   ]
  },
  {
   "cell_type": "code",
   "execution_count": 9,
   "metadata": {},
   "outputs": [
    {
     "name": "stdout",
     "output_type": "stream",
     "text": [
      "True\n"
     ]
    }
   ],
   "source": [
    "if __name__ == \"__main__\":\n",
    "#     data = [i for i in range(0, 20, 2)]\n",
    "#     result = [binary_search(data, i, 0, len(data)-1) for i in range(20)]\n",
    "#     print(result)\n",
    "    \n",
    "    data = [2, 4, 5, 7, 8, 9, 12, 14, 17, 19, 22, 25, 27, 28, 33, 37]\n",
    "    target = 22\n",
    "    result = binary_search(data, target, 0, len(data)-1)\n",
    "    print(result)"
   ]
  },
  {
   "cell_type": "markdown",
   "metadata": {},
   "source": [
    "代码段4-5 报告一个文件系统磁盘使用情况的递归函数"
   ]
  },
  {
   "cell_type": "markdown",
   "metadata": {},
   "source": [
    "> 每一次递归调用，调用的函数，到遇到return为止"
   ]
  },
  {
   "cell_type": "code",
   "execution_count": 7,
   "metadata": {},
   "outputs": [],
   "source": [
    "import os\n",
    "\n",
    "def disk_usage(path):\n",
    "    \"\"\"Return the number of bytes used by a file/folder and any descendents.\"\"\"\n",
    "    total = os.path.getsize(path)                       # account for direct usage\n",
    "    if os.path.isdir(path):                             # if this is a directory,\n",
    "        for filename in os.listdir(path):               # then for each child:\n",
    "            childpath = os.path.join(path, filename)    # compose full path to child\n",
    "            total += disk_usage(childpath)              # add child's usage to total\n",
    "    print('{0:<7}'.format(total), path)                 # descriptive output (optional)\n",
    "    return total                                        # return the grand total"
   ]
  },
  {
   "cell_type": "code",
   "execution_count": 6,
   "metadata": {},
   "outputs": [],
   "source": [
    "import os\n",
    "\n",
    "def disk_usage(path):\n",
    "    \"\"\"Return the number of bytes used by a file/folder and any descendents.\"\"\"\n",
    "    total = os.path.getsize(path)           \n",
    "    if os.path.isdir(path):\n",
    "        for filename in os.listdir(path):\n",
    "            childpath = os.path.join(path, filename)\n",
    "            total += disk_usage(childpath) \n",
    "    print('{0:<7}'.format(total), path)\n",
    "    return total"
   ]
  },
  {
   "cell_type": "code",
   "execution_count": 7,
   "metadata": {},
   "outputs": [
    {
     "name": "stdout",
     "output_type": "stream",
     "text": [
      "60      extra\\untitled.txt\n",
      "28746   extra\\迭代器和生成器.ipynb\n",
      "32902   extra\n",
      "32902\n"
     ]
    }
   ],
   "source": [
    "if __name__ == \"__main__\":\n",
    "    print(disk_usage('extra'))"
   ]
  },
  {
   "cell_type": "markdown",
   "metadata": {},
   "source": [
    "代码段4-6 测试元素唯一性的递归函数unique3"
   ]
  },
  {
   "cell_type": "code",
   "execution_count": 8,
   "metadata": {},
   "outputs": [],
   "source": [
    "def unique3(S, start, stop):\n",
    "    \"\"\"Return True if there are no duplicate elements in slice S[start: stop].\"\"\"\n",
    "    if stop - start <= 1: return True                   # at most one item\n",
    "    elif not unique3(S, start, stop-1): return False    # first part has duplicate\n",
    "    elif not unique3(S, start+1, stop): return False    # second part has duplicate\n",
    "    else: return S[start] != S[stop-1]                  # do first and last differ"
   ]
  },
  {
   "cell_type": "markdown",
   "metadata": {},
   "source": [
    "代码段4-7 使用二分递归计算第n个斐波那契数列"
   ]
  },
  {
   "cell_type": "code",
   "execution_count": 11,
   "metadata": {},
   "outputs": [],
   "source": [
    "def bad_fibonacci(n):\n",
    "    \"\"\"Return the nth Fibonacci number.\"\"\"\n",
    "    if n <= 1:\n",
    "        return n\n",
    "    else:\n",
    "        return bad_fibonacci(n-2) + bad_fibonacci(n-1)"
   ]
  },
  {
   "cell_type": "markdown",
   "metadata": {},
   "source": [
    "代码段4-8 使用线性递归计算第n个斐波那契数"
   ]
  },
  {
   "cell_type": "code",
   "execution_count": 12,
   "metadata": {},
   "outputs": [],
   "source": [
    "def good_fibonacci(n):\n",
    "    \"\"\"Return pair of Fibonacci numbers, F(n) and F(n-1).\"\"\"\n",
    "    if n <= 1:\n",
    "        return (n, 0)\n",
    "    else:\n",
    "        (a, b) = good_fibonacci(n-1)\n",
    "        return (a+b, a)"
   ]
  },
  {
   "cell_type": "markdown",
   "metadata": {},
   "source": [
    "最大递归深度"
   ]
  },
  {
   "cell_type": "code",
   "execution_count": 13,
   "metadata": {},
   "outputs": [],
   "source": [
    "import sys\n",
    "old = sys.getrecursionlimit()    # perhaps 1000 is typical\n",
    "sys.setrecursionlimit(1000000)      # change to allow 1 millon nested calls"
   ]
  },
  {
   "cell_type": "code",
   "execution_count": 1,
   "metadata": {},
   "outputs": [
    {
     "data": {
      "text/plain": [
       "0.6666666666666666"
      ]
     },
     "execution_count": 1,
     "metadata": {},
     "output_type": "execute_result"
    }
   ],
   "source": [
    "5000/7500"
   ]
  },
  {
   "cell_type": "code",
   "execution_count": 2,
   "metadata": {},
   "outputs": [
    {
     "data": {
      "text/plain": [
       "0.8"
      ]
     },
     "execution_count": 2,
     "metadata": {},
     "output_type": "execute_result"
    }
   ],
   "source": [
    "6000/7500"
   ]
  },
  {
   "cell_type": "markdown",
   "metadata": {},
   "source": [
    "代码段4-9 使用线性递归计算序列元素的和"
   ]
  },
  {
   "cell_type": "code",
   "execution_count": 3,
   "metadata": {},
   "outputs": [],
   "source": [
    "def linear_sum(S, n):\n",
    "    \"\"\"Return the sum of the first n numbers of sequence S.\"\"\"\n",
    "    if n == 0:\n",
    "        return 0\n",
    "    else:\n",
    "        return linear_sum(S, n-1) + S[n-1]"
   ]
  },
  {
   "cell_type": "markdown",
   "metadata": {},
   "source": [
    "代码段4-10 使用线性递归逆置序列的元素"
   ]
  },
  {
   "cell_type": "code",
   "execution_count": 4,
   "metadata": {},
   "outputs": [],
   "source": [
    "def reverse(S, start, stop):\n",
    "    \"\"\"Reverse elements in implicit slice S[start, stop].\"\"\"\n",
    "    if start < stop - 1:                             # if at least 2 elements\n",
    "        S[start], S[stop-1] = S[stop-1], S[start]    # swap first and last\n",
    "        reverse(S, start+1, stop-1)                  # recur on rest"
   ]
  },
  {
   "cell_type": "markdown",
   "metadata": {},
   "source": [
    "代码段4-11 用简单的递归计算幂函数"
   ]
  },
  {
   "cell_type": "code",
   "execution_count": 6,
   "metadata": {},
   "outputs": [],
   "source": [
    "def power(x, n):\n",
    "    \"\"\"Compute the value x**n for integer n.\"\"\"\n",
    "    if n == 0:\n",
    "        return 1\n",
    "    else:\n",
    "        return x * power(x, n-1)"
   ]
  },
  {
   "cell_type": "markdown",
   "metadata": {},
   "source": [
    "代码段4-12 使用重复的平方计算幂函数"
   ]
  },
  {
   "cell_type": "code",
   "execution_count": 8,
   "metadata": {},
   "outputs": [],
   "source": [
    "def power(x, n):\n",
    "    \"\"\"Compute the value x**n for integer n.\"\"\"\n",
    "    if n == 0:\n",
    "        return 1\n",
    "    else:\n",
    "        partial = power(x, n // 2)    # rely on truncated division\n",
    "        result = partial * partial\n",
    "        if n % 2 == 1:                # if n odd, include extra factor of x\n",
    "            result *= x\n",
    "        return result"
   ]
  },
  {
   "cell_type": "markdown",
   "metadata": {},
   "source": [
    "代码段4-13 用二路递归计算一个序列的元素之和"
   ]
  },
  {
   "cell_type": "code",
   "execution_count": 9,
   "metadata": {},
   "outputs": [],
   "source": [
    "def binary_sum(S, start, stop):\n",
    "    \"\"\"Return the sum of the numbers in implicit slice S[start, stop].\"\"\"\n",
    "    if start >= stop:         # zero elements in slice\n",
    "        return 0\n",
    "    elif start == stop -1:    # one element in slice\n",
    "        return S[start]\n",
    "    else:                     # two or more elements in slice\n",
    "        mid = (start+stop) // 2\n",
    "        return binary_sum(S, start, stop) + binary_sum(S, mid, stop)"
   ]
  },
  {
   "cell_type": "markdown",
   "metadata": {},
   "source": [
    "代码段4-15 二分查找算法的非递归实现"
   ]
  },
  {
   "cell_type": "code",
   "execution_count": 10,
   "metadata": {},
   "outputs": [],
   "source": [
    "def binary_search_iterative(data, target):\n",
    "    \"\"\"Return True if target is found in the given Python list.\"\"\"\n",
    "    low = 0\n",
    "    high = len(data) - 1\n",
    "    while low <= high:\n",
    "        mid = (low+high) // 2\n",
    "        if target == data[mid]:    # found a match\n",
    "            return True\n",
    "        elif target < data[mid]:\n",
    "            high = mid - 1    # only consider values left of mid\n",
    "        else:\n",
    "            low = mid + 1     # only consider values right of mid\n",
    "    return False\n",
    "            "
   ]
  },
  {
   "cell_type": "markdown",
   "metadata": {},
   "source": [
    "代码段4-16 使用迭代逆置一个序列的元素"
   ]
  },
  {
   "cell_type": "code",
   "execution_count": 13,
   "metadata": {},
   "outputs": [],
   "source": [
    "def reverse_iterative(S):\n",
    "    \"\"\"Reverse elements in sequence S.\"\"\"\n",
    "    start, stop = 0, len(S)\n",
    "    while start < stop - 1:\n",
    "        S[start], S[stop] = S[stop-1], S[start]    # swap first and last\n",
    "        start, stop = start + 1, stop - 1          # narrow the range"
   ]
  }
 ],
 "metadata": {
  "kernelspec": {
   "display_name": "Python 3",
   "language": "python",
   "name": "python3"
  },
  "language_info": {
   "codemirror_mode": {
    "name": "ipython",
    "version": 3
   },
   "file_extension": ".py",
   "mimetype": "text/x-python",
   "name": "python",
   "nbconvert_exporter": "python",
   "pygments_lexer": "ipython3",
   "version": "3.8.3"
  },
  "toc": {
   "base_numbering": 1,
   "nav_menu": {},
   "number_sections": true,
   "sideBar": true,
   "skip_h1_title": false,
   "title_cell": "Table of Contents",
   "title_sidebar": "Contents",
   "toc_cell": false,
   "toc_position": {},
   "toc_section_display": true,
   "toc_window_display": false
  }
 },
 "nbformat": 4,
 "nbformat_minor": 4
}
