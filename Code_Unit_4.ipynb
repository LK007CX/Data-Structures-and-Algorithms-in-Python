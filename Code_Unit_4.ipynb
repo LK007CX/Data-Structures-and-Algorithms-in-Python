{
 "cells": [
  {
   "cell_type": "markdown",
   "metadata": {},
   "source": [
    "# 第4章 递归"
   ]
  },
  {
   "cell_type": "markdown",
   "metadata": {},
   "source": [
    "代码段4-1 阶乘函数的递归实现"
   ]
  },
  {
   "cell_type": "code",
   "execution_count": 1,
   "metadata": {},
   "outputs": [],
   "source": [
    "def factorial(n):\n",
    "    if n == 0:\n",
    "        return 1\n",
    "    else:\n",
    "        return n * factorial(n-1)"
   ]
  },
  {
   "cell_type": "code",
   "execution_count": 2,
   "metadata": {},
   "outputs": [
    {
     "name": "stdout",
     "output_type": "stream",
     "text": [
      "1\n",
      "1\n",
      "2\n",
      "6\n",
      "24\n",
      "120\n",
      "720\n",
      "5040\n",
      "40320\n",
      "362880\n",
      "3628800\n",
      "39916800\n",
      "479001600\n",
      "6227020800\n",
      "87178291200\n",
      "1307674368000\n",
      "20922789888000\n",
      "355687428096000\n",
      "6402373705728000\n",
      "121645100408832000\n",
      "2432902008176640000\n",
      "51090942171709440000\n",
      "1124000727777607680000\n",
      "25852016738884976640000\n",
      "620448401733239439360000\n",
      "15511210043330985984000000\n",
      "403291461126605635584000000\n",
      "10888869450418352160768000000\n",
      "304888344611713860501504000000\n",
      "8841761993739701954543616000000\n",
      "265252859812191058636308480000000\n",
      "8222838654177922817725562880000000\n",
      "263130836933693530167218012160000000\n",
      "8683317618811886495518194401280000000\n",
      "295232799039604140847618609643520000000\n",
      "10333147966386144929666651337523200000000\n",
      "371993326789901217467999448150835200000000\n",
      "13763753091226345046315979581580902400000000\n",
      "523022617466601111760007224100074291200000000\n",
      "20397882081197443358640281739902897356800000000\n",
      "815915283247897734345611269596115894272000000000\n",
      "33452526613163807108170062053440751665152000000000\n",
      "1405006117752879898543142606244511569936384000000000\n",
      "60415263063373835637355132068513997507264512000000000\n",
      "2658271574788448768043625811014615890319638528000000000\n",
      "119622220865480194561963161495657715064383733760000000000\n",
      "5502622159812088949850305428800254892961651752960000000000\n",
      "258623241511168180642964355153611979969197632389120000000000\n",
      "12413915592536072670862289047373375038521486354677760000000000\n",
      "608281864034267560872252163321295376887552831379210240000000000\n",
      "30414093201713378043612608166064768844377641568960512000000000000\n",
      "1551118753287382280224243016469303211063259720016986112000000000000\n",
      "80658175170943878571660636856403766975289505440883277824000000000000\n",
      "4274883284060025564298013753389399649690343788366813724672000000000000\n",
      "230843697339241380472092742683027581083278564571807941132288000000000000\n",
      "12696403353658275925965100847566516959580321051449436762275840000000000000\n",
      "710998587804863451854045647463724949736497978881168458687447040000000000000\n",
      "40526919504877216755680601905432322134980384796226602145184481280000000000000\n",
      "2350561331282878571829474910515074683828862318181142924420699914240000000000000\n",
      "138683118545689835737939019720389406345902876772687432540821294940160000000000000\n",
      "8320987112741390144276341183223364380754172606361245952449277696409600000000000000\n",
      "507580213877224798800856812176625227226004528988036003099405939480985600000000000000\n",
      "31469973260387937525653122354950764088012280797258232192163168247821107200000000000000\n",
      "1982608315404440064116146708361898137544773690227268628106279599612729753600000000000000\n",
      "126886932185884164103433389335161480802865516174545192198801894375214704230400000000000000\n",
      "8247650592082470666723170306785496252186258551345437492922123134388955774976000000000000000\n",
      "544344939077443064003729240247842752644293064388798874532860126869671081148416000000000000000\n",
      "36471110918188685288249859096605464427167635314049524593701628500267962436943872000000000000000\n",
      "2480035542436830599600990418569171581047399201355367672371710738018221445712183296000000000000000\n",
      "171122452428141311372468338881272839092270544893520369393648040923257279754140647424000000000000000\n",
      "11978571669969891796072783721689098736458938142546425857555362864628009582789845319680000000000000000\n",
      "850478588567862317521167644239926010288584608120796235886430763388588680378079017697280000000000000000\n",
      "61234458376886086861524070385274672740778091784697328983823014963978384987221689274204160000000000000000\n",
      "4470115461512684340891257138125051110076800700282905015819080092370422104067183317016903680000000000000000\n",
      "330788544151938641225953028221253782145683251820934971170611926835411235700971565459250872320000000000000000\n",
      "24809140811395398091946477116594033660926243886570122837795894512655842677572867409443815424000000000000000000\n",
      "1885494701666050254987932260861146558230394535379329335672487982961844043495537923117729972224000000000000000000\n",
      "145183092028285869634070784086308284983740379224208358846781574688061991349156420080065207861248000000000000000000\n",
      "11324281178206297831457521158732046228731749579488251990048962825668835325234200766245086213177344000000000000000000\n",
      "894618213078297528685144171539831652069808216779571907213868063227837990693501860533361810841010176000000000000000000\n",
      "71569457046263802294811533723186532165584657342365752577109445058227039255480148842668944867280814080000000000000000000\n",
      "5797126020747367985879734231578109105412357244731625958745865049716390179693892056256184534249745940480000000000000000000\n",
      "475364333701284174842138206989404946643813294067993328617160934076743994734899148613007131808479167119360000000000000000000\n",
      "39455239697206586511897471180120610571436503407643446275224357528369751562996629334879591940103770870906880000000000000000000\n",
      "3314240134565353266999387579130131288000666286242049487118846032383059131291716864129885722968716753156177920000000000000000000\n",
      "281710411438055027694947944226061159480056634330574206405101912752560026159795933451040286452340924018275123200000000000000000000\n",
      "24227095383672732381765523203441259715284870552429381750838764496720162249742450276789464634901319465571660595200000000000000000000\n",
      "2107757298379527717213600518699389595229783738061356212322972511214654115727593174080683423236414793504734471782400000000000000000000\n",
      "185482642257398439114796845645546284380220968949399346684421580986889562184028199319100141244804501828416633516851200000000000000000000\n",
      "16507955160908461081216919262453619309839666236496541854913520707833171034378509739399912570787600662729080382999756800000000000000000000\n",
      "1485715964481761497309522733620825737885569961284688766942216863704985393094065876545992131370884059645617234469978112000000000000000000000\n",
      "135200152767840296255166568759495142147586866476906677791741734597153670771559994765685283954750449427751168336768008192000000000000000000000\n",
      "12438414054641307255475324325873553077577991715875414356840239582938137710983519518443046123837041347353107486982656753664000000000000000000000\n",
      "1156772507081641574759205162306240436214753229576413535186142281213246807121467315215203289516844845303838996289387078090752000000000000000000000\n",
      "108736615665674308027365285256786601004186803580182872307497374434045199869417927630229109214583415458560865651202385340530688000000000000000000000\n",
      "10329978488239059262599702099394727095397746340117372869212250571234293987594703124871765375385424468563282236864226607350415360000000000000000000000\n",
      "991677934870949689209571401541893801158183648651267795444376054838492222809091499987689476037000748982075094738965754305639874560000000000000000000000\n",
      "96192759682482119853328425949563698712343813919172976158104477319333745612481875498805879175589072651261284189679678167647067832320000000000000000000000\n",
      "9426890448883247745626185743057242473809693764078951663494238777294707070023223798882976159207729119823605850588608460429412647567360000000000000000000000\n",
      "933262154439441526816992388562667004907159682643816214685929638952175999932299156089414639761565182862536979208272237582511852109168640000000000000000000000\n"
     ]
    }
   ],
   "source": [
    "if __name__ == '__main__':\n",
    "    for i in range(100):\n",
    "        print(factorial(i))"
   ]
  },
  {
   "cell_type": "markdown",
   "metadata": {},
   "source": [
    "代码段4-2 绘制一个标尺的函数的递归实现"
   ]
  },
  {
   "cell_type": "code",
   "execution_count": 3,
   "metadata": {},
   "outputs": [],
   "source": [
    "def draw_line(tick_length, tick_label=''):\n",
    "    \"\"\"Draw one line with given tick length (followed by optional label).\"\"\"\n",
    "    line = '-' * tick_length\n",
    "    if tick_label:\n",
    "        line += ' ' + tick_label\n",
    "    print(line)\n",
    "\n",
    "def draw_interval(center_length):\n",
    "    \"\"\"Draw tick interval based upon a cnetral tick length.\"\"\"\n",
    "    if center_length > 0: # stop when length drops to 0\n",
    "        draw_interval(center_length-1) # recursived draw top ticks\n",
    "        draw_line(center_length)       # draw center tick\n",
    "        draw_interval(center_length-1) # recursived draw top ticks\n",
    "    \n",
    "def draw_ruler(num_inches, major_length):\n",
    "    \"\"\"Draw English ruler with given number of inches, major tick length.\"\"\"\n",
    "    draw_line(major_length, '0')\n",
    "    for j in range(1, 1+num_inches):\n",
    "        draw_interval(major_length-1)    # draw interior ticks for inch\n",
    "        draw_line(major_length, str(j))  # draw inch j line and label"
   ]
  },
  {
   "cell_type": "code",
   "execution_count": 4,
   "metadata": {},
   "outputs": [
    {
     "name": "stdout",
     "output_type": "stream",
     "text": [
      "---- 0\n",
      "-\n",
      "--\n",
      "-\n",
      "---\n",
      "-\n",
      "--\n",
      "-\n",
      "---- 1\n",
      "-\n",
      "--\n",
      "-\n",
      "---\n",
      "-\n",
      "--\n",
      "-\n",
      "---- 2\n",
      "-\n",
      "--\n",
      "-\n",
      "---\n",
      "-\n",
      "--\n",
      "-\n",
      "---- 3\n",
      "-\n",
      "--\n",
      "-\n",
      "---\n",
      "-\n",
      "--\n",
      "-\n",
      "---- 4\n"
     ]
    }
   ],
   "source": [
    "if __name__ == \"__main__\":\n",
    "    draw_ruler(4, 4)"
   ]
  },
  {
   "cell_type": "markdown",
   "metadata": {},
   "source": [
    "代码段4-3 二分查找算法的实现"
   ]
  },
  {
   "cell_type": "code",
   "execution_count": 1,
   "metadata": {},
   "outputs": [],
   "source": [
    "def binary_search(data, target, low, high):\n",
    "    \"\"\"Return True if targets is found in indicated portion of a Python list.\n",
    "    \n",
    "    The search only considers the portion from data[low] to data[high] inclusive.\n",
    "    \"\"\"\n",
    "    if low > high:\n",
    "        return False    # interval is empty; no match\n",
    "    else:\n",
    "        mid = (low + high) // 2\n",
    "        if target == data[mid]:\n",
    "            return True\n",
    "        elif target < data[mid]:\n",
    "            # recur on the portion left of the moddle\n",
    "            return binary_search(data, target, low, mid-1)\n",
    "        else:\n",
    "            # recur on the portial right of the middle\n",
    "            return binary_search(data, target, mid+1, high)"
   ]
  },
  {
   "cell_type": "code",
   "execution_count": 9,
   "metadata": {},
   "outputs": [
    {
     "name": "stdout",
     "output_type": "stream",
     "text": [
      "True\n"
     ]
    }
   ],
   "source": [
    "if __name__ == \"__main__\":\n",
    "#     data = [i for i in range(0, 20, 2)]\n",
    "#     result = [binary_search(data, i, 0, len(data)-1) for i in range(20)]\n",
    "#     print(result)\n",
    "    \n",
    "    data = [2, 4, 5, 7, 8, 9, 12, 14, 17, 19, 22, 25, 27, 28, 33, 37]\n",
    "    target = 22\n",
    "    result = binary_search(data, target, 0, len(data)-1)\n",
    "    print(result)"
   ]
  },
  {
   "cell_type": "markdown",
   "metadata": {},
   "source": [
    "代码段4-5 报告一个文件系统磁盘使用情况的递归函数"
   ]
  },
  {
   "cell_type": "code",
   "execution_count": 7,
   "metadata": {},
   "outputs": [],
   "source": [
    "import os\n",
    "\n",
    "def disk_usage(path):\n",
    "    \"\"\"Return the number of bytes used by a file/folder and any descendents.\"\"\"\n",
    "    total = os.path.getsize(path)                       # account for direct usage\n",
    "    if os.path.isdir(path):                             # if this is a directory,\n",
    "        for filename in os.listdir(path):               # then for each child:\n",
    "            childpath = os.path.join(path, filename)    # compose full path to child\n",
    "            total += disk_usage(childpath)              # add child's usage to total\n",
    "    print('{0:<7}'.format(total), path)                 # descriptive output (optional)\n",
    "    return total                                        # return the grand total"
   ]
  },
  {
   "cell_type": "code",
   "execution_count": 8,
   "metadata": {},
   "outputs": [],
   "source": [
    "import os\n",
    "\n",
    "def disk_usage(path):\n",
    "    \"\"\"Return the number of bytes used by a file/folder and any descendents.\"\"\"\n",
    "    total = os.path.getsize(path)           \n",
    "    if os.path.isdir(path):\n",
    "        for filename in os.listdir(path):\n",
    "            childpath = os.path.join(path, filename)\n",
    "            total += disk_usage(childpath) \n",
    "    print('{0:<7}'.format(total), path)\n",
    "    return total"
   ]
  },
  {
   "cell_type": "code",
   "execution_count": 9,
   "metadata": {},
   "outputs": [
    {
     "name": "stdout",
     "output_type": "stream",
     "text": [
      "28746   extra\\.ipynb_checkpoints\\迭代器和生成器-checkpoint.ipynb\n",
      "28746   extra\\.ipynb_checkpoints\n",
      "0       extra\\Untitled Folder\\untitled.txt\n",
      "0       extra\\Untitled Folder\n",
      "0       extra\\untitled.txt\n",
      "28746   extra\\迭代器和生成器.ipynb\n",
      "61588   extra\n",
      "61588\n"
     ]
    }
   ],
   "source": [
    "if __name__ == \"__main__\":\n",
    "    print(disk_usage('extra'))"
   ]
  },
  {
   "cell_type": "markdown",
   "metadata": {},
   "source": [
    "代码段4-6 测试元素唯一性的递归函数unique3"
   ]
  },
  {
   "cell_type": "code",
   "execution_count": 10,
   "metadata": {},
   "outputs": [],
   "source": [
    "def unique3(S, start, stop):\n",
    "    \"\"\"Return True if there are no duplicate elements in slice S[start: stop].\"\"\"\n",
    "    if stop - start <= 1: return True                   # at most one item\n",
    "    elif not unique3(S, start, stop-1): return False    # first part has duplicate\n",
    "    elif not unique3(S, start+1, stop): return False    # second part has duplicate\n",
    "    else: return S[start] != S[stop-1]                  # do first and last differ"
   ]
  },
  {
   "cell_type": "markdown",
   "metadata": {},
   "source": [
    "代码段4-7 使用二分递归计算第n个斐波那契数列"
   ]
  },
  {
   "cell_type": "code",
   "execution_count": 11,
   "metadata": {},
   "outputs": [],
   "source": [
    "def bad_fibonacci(n):\n",
    "    \"\"\"Return the nth Fibonacci number.\"\"\"\n",
    "    if n <= 1:\n",
    "        return n\n",
    "    else:\n",
    "        return bad_fibonacci(n-2) + bad_fibonacci(n-1)"
   ]
  },
  {
   "cell_type": "markdown",
   "metadata": {},
   "source": [
    "代码段4-8 使用线性递归计算第n个斐波那契数"
   ]
  },
  {
   "cell_type": "code",
   "execution_count": 12,
   "metadata": {},
   "outputs": [],
   "source": [
    "def good_fibonacci(n):\n",
    "    \"\"\"Return pair of Fibonacci numbers, F(n) and F(n-1).\"\"\"\n",
    "    if n <= 1:\n",
    "        return (n, 0)\n",
    "    else:\n",
    "        (a, b) = good_fibonacci(n-1)\n",
    "        return (a+b, a)"
   ]
  },
  {
   "cell_type": "markdown",
   "metadata": {},
   "source": [
    "最大递归深度"
   ]
  },
  {
   "cell_type": "code",
   "execution_count": 13,
   "metadata": {},
   "outputs": [],
   "source": [
    "import sys\n",
    "old = sys.getrecursionlimit()    # perhaps 1000 is typical\n",
    "sys.setrecursionlimit(1000000)      # change to allow 1 millon nested calls"
   ]
  },
  {
   "cell_type": "code",
   "execution_count": 1,
   "metadata": {},
   "outputs": [
    {
     "data": {
      "text/plain": [
       "0.6666666666666666"
      ]
     },
     "execution_count": 1,
     "metadata": {},
     "output_type": "execute_result"
    }
   ],
   "source": [
    "5000/7500"
   ]
  },
  {
   "cell_type": "code",
   "execution_count": 2,
   "metadata": {},
   "outputs": [
    {
     "data": {
      "text/plain": [
       "0.8"
      ]
     },
     "execution_count": 2,
     "metadata": {},
     "output_type": "execute_result"
    }
   ],
   "source": [
    "6000/7500"
   ]
  },
  {
   "cell_type": "markdown",
   "metadata": {},
   "source": [
    "代码段4-9 使用线性递归计算序列元素的和"
   ]
  },
  {
   "cell_type": "code",
   "execution_count": 3,
   "metadata": {},
   "outputs": [],
   "source": [
    "def linear_sum(S, n):\n",
    "    \"\"\"Return the sum of the first n numbers of sequence S.\"\"\"\n",
    "    if n == 0:\n",
    "        return 0\n",
    "    else:\n",
    "        return linear_sum(S, n-1) + S[n-1]"
   ]
  },
  {
   "cell_type": "markdown",
   "metadata": {},
   "source": [
    "代码段4-10 使用线性递归逆置序列的元素"
   ]
  },
  {
   "cell_type": "code",
   "execution_count": 4,
   "metadata": {},
   "outputs": [],
   "source": [
    "def reverse(S, start, stop):\n",
    "    \"\"\"Reverse elements in implicit slice S[start, stop].\"\"\"\n",
    "    if start < stop - 1:                             # if at least 2 elements\n",
    "        S[start], S[stop-1] = S[stop-1], S[start]    # swap first and last\n",
    "        reverse(S, start+1, stop-1)                  # recur on rest"
   ]
  },
  {
   "cell_type": "markdown",
   "metadata": {},
   "source": [
    "代码段4-11 用简单的递归计算幂函数"
   ]
  },
  {
   "cell_type": "code",
   "execution_count": 6,
   "metadata": {},
   "outputs": [],
   "source": [
    "def power(x, n):\n",
    "    \"\"\"Compute the value x**n for integer n.\"\"\"\n",
    "    if n == 0:\n",
    "        return 1\n",
    "    else:\n",
    "        return x * power(x, n-1)"
   ]
  },
  {
   "cell_type": "markdown",
   "metadata": {},
   "source": [
    "代码段4-12 使用重复的平方计算幂函数"
   ]
  },
  {
   "cell_type": "code",
   "execution_count": 8,
   "metadata": {},
   "outputs": [],
   "source": [
    "def power(x, n):\n",
    "    \"\"\"Compute the value x**n for integer n.\"\"\"\n",
    "    if n == 0:\n",
    "        return 1\n",
    "    else:\n",
    "        partial = power(x, n // 2)    # rely on truncated division\n",
    "        result = partial * partial\n",
    "        if n % 2 == 1:                # if n odd, include extra factor of x\n",
    "            result *= x\n",
    "        return result"
   ]
  },
  {
   "cell_type": "markdown",
   "metadata": {},
   "source": [
    "代码段4-13 用二路递归计算一个序列的元素之和"
   ]
  },
  {
   "cell_type": "code",
   "execution_count": 9,
   "metadata": {},
   "outputs": [],
   "source": [
    "def binary_sum(S, start, stop):\n",
    "    \"\"\"Return the sum of the numbers in implicit slice S[start, stop].\"\"\"\n",
    "    if start >= stop:         # zero elements in slice\n",
    "        return 0\n",
    "    elif start == stop -1:    # one element in slice\n",
    "        return S[start]\n",
    "    else:                     # two or more elements in slice\n",
    "        mid = (start+stop) // 2\n",
    "        return binary_sum(S, start, stop) + binary_sum(S, mid, stop)"
   ]
  },
  {
   "cell_type": "markdown",
   "metadata": {},
   "source": [
    "代码段4-15 二分查找算法的非递归实现"
   ]
  },
  {
   "cell_type": "code",
   "execution_count": 10,
   "metadata": {},
   "outputs": [],
   "source": [
    "def binary_search_iterative(data, target):\n",
    "    \"\"\"Return True if target is found in the given Python list.\"\"\"\n",
    "    low = 0\n",
    "    high = len(data) - 1\n",
    "    while low <= high:\n",
    "        mid = (low+high) // 2\n",
    "        if target == data[mid]:    # found a match\n",
    "            return True\n",
    "        elif target < data[mid]:\n",
    "            high = mid - 1    # only consider values left of mid\n",
    "        else:\n",
    "            low = mid + 1     # only consider values right of mid\n",
    "    return False\n",
    "            "
   ]
  },
  {
   "cell_type": "markdown",
   "metadata": {},
   "source": [
    "代码段4-16 使用迭代逆置一个序列的元素"
   ]
  },
  {
   "cell_type": "code",
   "execution_count": 13,
   "metadata": {},
   "outputs": [],
   "source": [
    "def reverse_iterative(S):\n",
    "    \"\"\"Reverse elements in sequence S.\"\"\"\n",
    "    start, stop = 0, len(S)\n",
    "    while start < stop - 1:\n",
    "        S[start], S[stop] = S[stop-1], S[start]    # swap first and last\n",
    "        start, stop = start + 1, stop - 1          # narrow the range"
   ]
  }
 ],
 "metadata": {
  "kernelspec": {
   "display_name": "Python 3",
   "language": "python",
   "name": "python3"
  },
  "language_info": {
   "codemirror_mode": {
    "name": "ipython",
    "version": 3
   },
   "file_extension": ".py",
   "mimetype": "text/x-python",
   "name": "python",
   "nbconvert_exporter": "python",
   "pygments_lexer": "ipython3",
   "version": "3.8.3"
  },
  "toc": {
   "base_numbering": 1,
   "nav_menu": {},
   "number_sections": true,
   "sideBar": true,
   "skip_h1_title": false,
   "title_cell": "Table of Contents",
   "title_sidebar": "Contents",
   "toc_cell": false,
   "toc_position": {},
   "toc_section_display": true,
   "toc_window_display": true
  }
 },
 "nbformat": 4,
 "nbformat_minor": 4
}
