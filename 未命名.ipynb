{
 "cells": [
  {
   "cell_type": "markdown",
   "id": "24103851",
   "metadata": {},
   "source": [
    "# Introduction"
   ]
  },
  {
   "cell_type": "markdown",
   "id": "8688c5df",
   "metadata": {},
   "source": [
    "## 课程介绍"
   ]
  },
  {
   "cell_type": "code",
   "execution_count": null,
   "id": "d26a6dea",
   "metadata": {},
   "outputs": [],
   "source": []
  },
  {
   "cell_type": "markdown",
   "id": "6c506105",
   "metadata": {},
   "source": [
    "## 职业规划及面试简介"
   ]
  },
  {
   "cell_type": "markdown",
   "id": "9264a715",
   "metadata": {},
   "source": [
    "## 算法与语言方面的要求"
   ]
  },
  {
   "cell_type": "markdown",
   "id": "dd51318a",
   "metadata": {},
   "source": [
    "## 数据结构与算法介绍"
   ]
  },
  {
   "cell_type": "markdown",
   "id": "af15068d",
   "metadata": {},
   "source": [
    "数据结构"
   ]
  },
  {
   "cell_type": "markdown",
   "id": "cd4d6fe7",
   "metadata": {},
   "source": [
    "* 数据结构：数据结构是一种特定的计算机存储、组织数据的方式。其宗旨是使计算机能够高效的使用数据。\n",
    "    * 越强大的计算机->越复杂的数据结构"
   ]
  },
  {
   "cell_type": "markdown",
   "id": "9307f549",
   "metadata": {},
   "source": [
    "* 抽象数据类型（ADT）：数列、列表、树、表格......\n",
    "    * 对于某一类型的数据或者某一个数据集的描述以及对该数据的各种操作"
   ]
  },
  {
   "cell_type": "markdown",
   "id": "0e235cac",
   "metadata": {},
   "source": [
    "* ADTs拥有干净的接口，其具体的实现细节是封装起来的。"
   ]
  },
  {
   "cell_type": "markdown",
   "id": "1981e688",
   "metadata": {},
   "source": [
    "算法"
   ]
  },
  {
   "cell_type": "markdown",
   "id": "f283f4f0",
   "metadata": {},
   "source": [
    "* 算法：有限时间内解决问题的一系列清晰指令"
   ]
  },
  {
   "cell_type": "markdown",
   "id": "dadaf46a",
   "metadata": {},
   "source": [
    "* 效率\n",
    "    * 空间\n",
    "    * 时间"
   ]
  },
  {
   "cell_type": "markdown",
   "id": "2f520e93",
   "metadata": {},
   "source": [
    "* 目标\n",
    "    * 能够识别程序要求的功能以解决当前任务\n",
    "    * 设计能够高效解决此任务的数据结构与算法\n",
    "    * 评价该方案的效率和正确性"
   ]
  },
  {
   "cell_type": "markdown",
   "id": "a586c4da",
   "metadata": {},
   "source": [
    "## 找到丢失的数字"
   ]
  },
  {
   "cell_type": "markdown",
   "id": "05b5a238",
   "metadata": {},
   "source": [
    "**丢失的数字** *leetcode#268*"
   ]
  },
  {
   "cell_type": "code",
   "execution_count": 1,
   "id": "fa67f988",
   "metadata": {},
   "outputs": [],
   "source": [
    "def missingNumber(nums):\n",
    "    missing = len(nums) # 因为len(nums)也有可能是缺失的数字\n",
    "    for i, num in enumerate(nums):\n",
    "        missing ^= i ^num\n",
    "    return missing"
   ]
  },
  {
   "cell_type": "code",
   "execution_count": 2,
   "id": "73444932",
   "metadata": {},
   "outputs": [],
   "source": [
    "target = [0, 2, 3, 4]"
   ]
  },
  {
   "cell_type": "code",
   "execution_count": 3,
   "id": "988eef28",
   "metadata": {},
   "outputs": [
    {
     "data": {
      "text/plain": [
       "1"
      ]
     },
     "execution_count": 3,
     "metadata": {},
     "output_type": "execute_result"
    }
   ],
   "source": [
    "missingNumber(target)"
   ]
  },
  {
   "cell_type": "markdown",
   "id": "c9644b0b",
   "metadata": {},
   "source": [
    "## 找到商城中前K个最常被搜索的商品"
   ]
  },
  {
   "cell_type": "code",
   "execution_count": null,
   "id": "5c6e07af",
   "metadata": {},
   "outputs": [],
   "source": []
  }
 ],
 "metadata": {
  "kernelspec": {
   "display_name": "Python 3",
   "language": "python",
   "name": "python3"
  },
  "language_info": {
   "codemirror_mode": {
    "name": "ipython",
    "version": 3
   },
   "file_extension": ".py",
   "mimetype": "text/x-python",
   "name": "python",
   "nbconvert_exporter": "python",
   "pygments_lexer": "ipython3",
   "version": "3.8.8"
  },
  "toc": {
   "base_numbering": 1,
   "nav_menu": {},
   "number_sections": true,
   "sideBar": true,
   "skip_h1_title": false,
   "title_cell": "Table of Contents",
   "title_sidebar": "Contents",
   "toc_cell": false,
   "toc_position": {},
   "toc_section_display": true,
   "toc_window_display": true
  }
 },
 "nbformat": 4,
 "nbformat_minor": 5
}
