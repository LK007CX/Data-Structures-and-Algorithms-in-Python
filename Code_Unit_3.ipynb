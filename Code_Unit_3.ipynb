{
 "cells": [
  {
   "cell_type": "markdown",
   "metadata": {},
   "source": [
    "# 第3章 算法分析"
   ]
  },
  {
   "cell_type": "markdown",
   "metadata": {},
   "source": [
    "代码段3-1 返回Python列表最大值的函数"
   ]
  },
  {
   "cell_type": "code",
   "execution_count": 1,
   "metadata": {},
   "outputs": [],
   "source": [
    "def find_max(data):\n",
    "    \"\"\"Return the maximum element from a nonempty Python list.\"\"\"\n",
    "    biggest = data[0]  # The initial value to beat\n",
    "    for val in data:   # For each value:\n",
    "        if val > biggest: # if it is greater than the best so far,\n",
    "            biggest = val # we have found a new best (so far)\n",
    "    return biggest   # When loop ends, biggest is the max"
   ]
  },
  {
   "cell_type": "markdown",
   "metadata": {},
   "source": [
    "代码段3-2 算法prefix_average1"
   ]
  },
  {
   "cell_type": "code",
   "execution_count": 3,
   "metadata": {},
   "outputs": [],
   "source": [
    "def prefix_average1(S):\n",
    "    \"\"\"Return list such that, for all j, A[j] equals average of S[0], ... , S[j].\"\"\"\n",
    "    n = len(S)\n",
    "    A = [0] * n                 # create new list of n zeros\n",
    "    for j in range(n):    \n",
    "        total = 0               # begin computing S[0] + ... + S[j]\n",
    "        for i in range(j+1):\n",
    "            total += S[i]\n",
    "        A[j] = total / (j+1)    # record the average\n",
    "    return A"
   ]
  },
  {
   "cell_type": "markdown",
   "metadata": {},
   "source": [
    "代码段3-2 算法prefix_average2"
   ]
  },
  {
   "cell_type": "code",
   "execution_count": 2,
   "metadata": {},
   "outputs": [],
   "source": [
    "def prefix_average2(S):\n",
    "    \"\"\"Return list such that, for all j, A[j] equals average of S[0], ... S[k].\"\"\"\n",
    "    n = len(S)\n",
    "    A = [0] * n                         # create new list of n zeros\n",
    "    for j in range(n):\n",
    "        A[j] = sum(S[0:j+1])/(j+1)      # record the average\n",
    "    return A"
   ]
  },
  {
   "cell_type": "markdown",
   "metadata": {},
   "source": [
    "代码段3-4 算法prefix_average3"
   ]
  },
  {
   "cell_type": "code",
   "execution_count": 4,
   "metadata": {},
   "outputs": [],
   "source": [
    "def prefix_average3(S):\n",
    "    \"\"\"Return list such that, for all j, A[j] equals average of S[0], ... , S[j].\"\"\"\n",
    "    n = len(S)\n",
    "    A = [0] * n                 # create new list of n zeros\n",
    "    total = 0                   # computing prefix sum as S[0] + S[1] + ...\n",
    "    for j in range(n):\n",
    "        total += S[j]           # update prefix sum to include S[j]\n",
    "        A[j] = total / (j+1)    # compute average based on current sum\n",
    "    return A"
   ]
  },
  {
   "cell_type": "markdown",
   "metadata": {},
   "source": [
    "代码段3-5 算法disjoint1测试三集不相交"
   ]
  },
  {
   "cell_type": "code",
   "execution_count": 6,
   "metadata": {},
   "outputs": [],
   "source": [
    "def disjoint1(A, B, C):\n",
    "    \"\"\"Return True if there is no element to all three lists.\"\"\"\n",
    "    for a in A:\n",
    "        for b in B:\n",
    "            for c in C:\n",
    "                if a == b == c:\n",
    "                    return False    # we found a common value\n",
    "    return True                     # if we reach this, sets are disjoint"
   ]
  },
  {
   "cell_type": "markdown",
   "metadata": {},
   "source": [
    "代码段3-6 算法disjoint2测试三集不相交"
   ]
  },
  {
   "cell_type": "code",
   "execution_count": null,
   "metadata": {},
   "outputs": [],
   "source": [
    "def disjoint2(A, B, C):\n",
    "    \"\"\"Return True if there is no element to all three lists.\"\"\"\n",
    "    for a in A:\n",
    "        for b in B:\n",
    "            if a == b:                  # only check C if we found match from A and B\n",
    "                for c in C:\n",
    "                    if a == c:          # (and thus a == b == c)\n",
    "                        return False    # wo found a common value\n",
    "    return True                         # if we reach this, sets are disjoint"
   ]
  },
  {
   "cell_type": "markdown",
   "metadata": {},
   "source": [
    "代码段3-7 用于测试元素唯一性的算法unique1"
   ]
  },
  {
   "cell_type": "code",
   "execution_count": 11,
   "metadata": {},
   "outputs": [],
   "source": [
    "def unique1(S):\n",
    "    \"\"\"Return True if there are no duplicate elements in sequence S.\"\"\"\n",
    "    for j in range(len(S)):\n",
    "        for k in range(j+1, len(S)):\n",
    "            if S[j] == S[k]:\n",
    "                return False    # found duplicate pair\n",
    "    return True                 # if we reach this, elements wew unique"
   ]
  },
  {
   "cell_type": "markdown",
   "metadata": {},
   "source": [
    "代码段3-8 用于测试元素唯一性的算法unique2"
   ]
  },
  {
   "cell_type": "code",
   "execution_count": 12,
   "metadata": {},
   "outputs": [],
   "source": [
    "def unique2(S):\n",
    "    \"\"\"Return True if there are no duplicate elements in sequence S.\"\"\"\n",
    "    temp = sorted(S)    # create a sorted copy of S\n",
    "    for j in range(1, len(temp)):\n",
    "        if temp[j-1] == temp[j]:\n",
    "            return False    # found duplicate pair\n",
    "    return True             # if we reach this, elements wew unique"
   ]
  },
  {
   "cell_type": "markdown",
   "metadata": {},
   "source": [
    "代码段3-9 寻找一个给定的元素在Python列表中出现的第一个索引值的算法"
   ]
  },
  {
   "cell_type": "code",
   "execution_count": 16,
   "metadata": {},
   "outputs": [],
   "source": [
    "def find(S, val):\n",
    "    \"\"\"Return index j such that S[j] == val, or -1 if no such element.\"\"\"\n",
    "    n = len(S)\n",
    "    j = 0\n",
    "    while j < n:\n",
    "        if S[j] == val:\n",
    "            return j    # a match was found at index j\n",
    "        j += 1\n",
    "    return -1"
   ]
  }
 ],
 "metadata": {
  "kernelspec": {
   "display_name": "Python 3",
   "language": "python",
   "name": "python3"
  },
  "language_info": {
   "codemirror_mode": {
    "name": "ipython",
    "version": 3
   },
   "file_extension": ".py",
   "mimetype": "text/x-python",
   "name": "python",
   "nbconvert_exporter": "python",
   "pygments_lexer": "ipython3",
   "version": "3.8.8"
  },
  "toc": {
   "base_numbering": 1,
   "nav_menu": {},
   "number_sections": true,
   "sideBar": true,
   "skip_h1_title": false,
   "title_cell": "Table of Contents",
   "title_sidebar": "Contents",
   "toc_cell": false,
   "toc_position": {
    "height": "calc(100% - 180px)",
    "left": "10px",
    "top": "150px",
    "width": "165px"
   },
   "toc_section_display": true,
   "toc_window_display": true
  }
 },
 "nbformat": 4,
 "nbformat_minor": 4
}
